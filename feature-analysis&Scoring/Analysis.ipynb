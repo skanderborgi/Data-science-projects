{
 "cells": [
  {
   "cell_type": "code",
   "execution_count": 1,
   "metadata": {},
   "outputs": [],
   "source": [
    "import pandas as pd\n",
    "import numpy as np\n",
    "import matplotlib.pyplot as plt\n",
    "import seaborn as sns\n",
    "from sklearn.preprocessing import Imputer\n",
    "from sklearn.preprocessing import LabelEncoder,OneHotEncoder\n",
    "from scipy import stats\n",
    "import matplotlib as mpl\n",
    "import seaborn as sns\n",
    "from IPython.display import HTML\n",
    "%matplotlib inline\n",
    "import sklearn\n"
   ]
  },
  {
   "cell_type": "markdown",
   "metadata": {},
   "source": [
    "### Importing data"
   ]
  },
  {
   "cell_type": "code",
   "execution_count": 10,
   "metadata": {},
   "outputs": [
    {
     "name": "stdout",
     "output_type": "stream",
     "text": [
      "datafrane shape :  (9822, 87)\n"
     ]
    },
    {
     "data": {
      "text/html": [
       "<div>\n",
       "<style scoped>\n",
       "    .dataframe tbody tr th:only-of-type {\n",
       "        vertical-align: middle;\n",
       "    }\n",
       "\n",
       "    .dataframe tbody tr th {\n",
       "        vertical-align: top;\n",
       "    }\n",
       "\n",
       "    .dataframe thead th {\n",
       "        text-align: right;\n",
       "    }\n",
       "</style>\n",
       "<table border=\"1\" class=\"dataframe\">\n",
       "  <thead>\n",
       "    <tr style=\"text-align: right;\">\n",
       "      <th></th>\n",
       "      <th>SD1</th>\n",
       "      <th>SD2</th>\n",
       "      <th>SD3</th>\n",
       "      <th>SD4</th>\n",
       "      <th>SD5</th>\n",
       "      <th>SD6</th>\n",
       "      <th>SD7</th>\n",
       "      <th>SD8</th>\n",
       "      <th>SD9</th>\n",
       "      <th>SD10</th>\n",
       "      <th>...</th>\n",
       "      <th>PO78</th>\n",
       "      <th>PO79</th>\n",
       "      <th>PO80</th>\n",
       "      <th>PO81</th>\n",
       "      <th>PO82</th>\n",
       "      <th>PO83</th>\n",
       "      <th>PO84</th>\n",
       "      <th>PO85</th>\n",
       "      <th>CLASS</th>\n",
       "      <th>STATUS</th>\n",
       "    </tr>\n",
       "  </thead>\n",
       "  <tbody>\n",
       "    <tr>\n",
       "      <th>0</th>\n",
       "      <td>33</td>\n",
       "      <td>1</td>\n",
       "      <td>3</td>\n",
       "      <td>2</td>\n",
       "      <td>8</td>\n",
       "      <td>0</td>\n",
       "      <td>5</td>\n",
       "      <td>1</td>\n",
       "      <td>3</td>\n",
       "      <td>7</td>\n",
       "      <td>...</td>\n",
       "      <td>0</td>\n",
       "      <td>0</td>\n",
       "      <td>1</td>\n",
       "      <td>0</td>\n",
       "      <td>0</td>\n",
       "      <td>0</td>\n",
       "      <td>0</td>\n",
       "      <td>0</td>\n",
       "      <td>No</td>\n",
       "      <td>Learning</td>\n",
       "    </tr>\n",
       "    <tr>\n",
       "      <th>1</th>\n",
       "      <td>37</td>\n",
       "      <td>1</td>\n",
       "      <td>2</td>\n",
       "      <td>2</td>\n",
       "      <td>8</td>\n",
       "      <td>1</td>\n",
       "      <td>4</td>\n",
       "      <td>1</td>\n",
       "      <td>4</td>\n",
       "      <td>6</td>\n",
       "      <td>...</td>\n",
       "      <td>0</td>\n",
       "      <td>0</td>\n",
       "      <td>1</td>\n",
       "      <td>0</td>\n",
       "      <td>0</td>\n",
       "      <td>0</td>\n",
       "      <td>0</td>\n",
       "      <td>0</td>\n",
       "      <td>No</td>\n",
       "      <td>Learning</td>\n",
       "    </tr>\n",
       "    <tr>\n",
       "      <th>2</th>\n",
       "      <td>37</td>\n",
       "      <td>1</td>\n",
       "      <td>2</td>\n",
       "      <td>2</td>\n",
       "      <td>8</td>\n",
       "      <td>0</td>\n",
       "      <td>4</td>\n",
       "      <td>2</td>\n",
       "      <td>4</td>\n",
       "      <td>3</td>\n",
       "      <td>...</td>\n",
       "      <td>0</td>\n",
       "      <td>0</td>\n",
       "      <td>1</td>\n",
       "      <td>0</td>\n",
       "      <td>0</td>\n",
       "      <td>0</td>\n",
       "      <td>0</td>\n",
       "      <td>0</td>\n",
       "      <td>No</td>\n",
       "      <td>Learning</td>\n",
       "    </tr>\n",
       "    <tr>\n",
       "      <th>3</th>\n",
       "      <td>9</td>\n",
       "      <td>1</td>\n",
       "      <td>3</td>\n",
       "      <td>3</td>\n",
       "      <td>3</td>\n",
       "      <td>2</td>\n",
       "      <td>3</td>\n",
       "      <td>2</td>\n",
       "      <td>4</td>\n",
       "      <td>5</td>\n",
       "      <td>...</td>\n",
       "      <td>0</td>\n",
       "      <td>0</td>\n",
       "      <td>1</td>\n",
       "      <td>0</td>\n",
       "      <td>0</td>\n",
       "      <td>0</td>\n",
       "      <td>0</td>\n",
       "      <td>0</td>\n",
       "      <td>No</td>\n",
       "      <td>Learning</td>\n",
       "    </tr>\n",
       "    <tr>\n",
       "      <th>4</th>\n",
       "      <td>40</td>\n",
       "      <td>1</td>\n",
       "      <td>4</td>\n",
       "      <td>2</td>\n",
       "      <td>10</td>\n",
       "      <td>1</td>\n",
       "      <td>4</td>\n",
       "      <td>1</td>\n",
       "      <td>4</td>\n",
       "      <td>7</td>\n",
       "      <td>...</td>\n",
       "      <td>0</td>\n",
       "      <td>0</td>\n",
       "      <td>1</td>\n",
       "      <td>0</td>\n",
       "      <td>0</td>\n",
       "      <td>0</td>\n",
       "      <td>0</td>\n",
       "      <td>0</td>\n",
       "      <td>No</td>\n",
       "      <td>Learning</td>\n",
       "    </tr>\n",
       "  </tbody>\n",
       "</table>\n",
       "<p>5 rows × 87 columns</p>\n",
       "</div>"
      ],
      "text/plain": [
       "   SD1  SD2  SD3  SD4  SD5  SD6  SD7  SD8  SD9  SD10    ...     PO78  PO79  \\\n",
       "0   33    1    3    2    8    0    5    1    3     7    ...        0     0   \n",
       "1   37    1    2    2    8    1    4    1    4     6    ...        0     0   \n",
       "2   37    1    2    2    8    0    4    2    4     3    ...        0     0   \n",
       "3    9    1    3    3    3    2    3    2    4     5    ...        0     0   \n",
       "4   40    1    4    2   10    1    4    1    4     7    ...        0     0   \n",
       "\n",
       "   PO80  PO81  PO82  PO83  PO84  PO85  CLASS    STATUS  \n",
       "0     1     0     0     0     0     0     No  Learning  \n",
       "1     1     0     0     0     0     0     No  Learning  \n",
       "2     1     0     0     0     0     0     No  Learning  \n",
       "3     1     0     0     0     0     0     No  Learning  \n",
       "4     1     0     0     0     0     0     No  Learning  \n",
       "\n",
       "[5 rows x 87 columns]"
      ]
     },
     "execution_count": 10,
     "metadata": {},
     "output_type": "execute_result"
    }
   ],
   "source": [
    "dataset = pd.read_csv(\"D:/Data Science/Lab2/AssurancExpertsInc.txt\",delimiter = \"\\t\")\n",
    "print(\"datafrane shape : \", dataset.shape)\n",
    "dataset.head()"
   ]
  },
  {
   "cell_type": "code",
   "execution_count": 11,
   "metadata": {},
   "outputs": [
    {
     "name": "stdout",
     "output_type": "stream",
     "text": [
      "train shape :  (5822, 87)\n"
     ]
    },
    {
     "data": {
      "text/html": [
       "<div>\n",
       "<style scoped>\n",
       "    .dataframe tbody tr th:only-of-type {\n",
       "        vertical-align: middle;\n",
       "    }\n",
       "\n",
       "    .dataframe tbody tr th {\n",
       "        vertical-align: top;\n",
       "    }\n",
       "\n",
       "    .dataframe thead th {\n",
       "        text-align: right;\n",
       "    }\n",
       "</style>\n",
       "<table border=\"1\" class=\"dataframe\">\n",
       "  <thead>\n",
       "    <tr style=\"text-align: right;\">\n",
       "      <th></th>\n",
       "      <th>SD1</th>\n",
       "      <th>SD2</th>\n",
       "      <th>SD3</th>\n",
       "      <th>SD4</th>\n",
       "      <th>SD5</th>\n",
       "      <th>SD6</th>\n",
       "      <th>SD7</th>\n",
       "      <th>SD8</th>\n",
       "      <th>SD9</th>\n",
       "      <th>SD10</th>\n",
       "      <th>...</th>\n",
       "      <th>PO78</th>\n",
       "      <th>PO79</th>\n",
       "      <th>PO80</th>\n",
       "      <th>PO81</th>\n",
       "      <th>PO82</th>\n",
       "      <th>PO83</th>\n",
       "      <th>PO84</th>\n",
       "      <th>PO85</th>\n",
       "      <th>CLASS</th>\n",
       "      <th>STATUS</th>\n",
       "    </tr>\n",
       "  </thead>\n",
       "  <tbody>\n",
       "    <tr>\n",
       "      <th>0</th>\n",
       "      <td>33</td>\n",
       "      <td>1</td>\n",
       "      <td>3</td>\n",
       "      <td>2</td>\n",
       "      <td>8</td>\n",
       "      <td>0</td>\n",
       "      <td>5</td>\n",
       "      <td>1</td>\n",
       "      <td>3</td>\n",
       "      <td>7</td>\n",
       "      <td>...</td>\n",
       "      <td>0</td>\n",
       "      <td>0</td>\n",
       "      <td>1</td>\n",
       "      <td>0</td>\n",
       "      <td>0</td>\n",
       "      <td>0</td>\n",
       "      <td>0</td>\n",
       "      <td>0</td>\n",
       "      <td>No</td>\n",
       "      <td>Learning</td>\n",
       "    </tr>\n",
       "    <tr>\n",
       "      <th>1</th>\n",
       "      <td>37</td>\n",
       "      <td>1</td>\n",
       "      <td>2</td>\n",
       "      <td>2</td>\n",
       "      <td>8</td>\n",
       "      <td>1</td>\n",
       "      <td>4</td>\n",
       "      <td>1</td>\n",
       "      <td>4</td>\n",
       "      <td>6</td>\n",
       "      <td>...</td>\n",
       "      <td>0</td>\n",
       "      <td>0</td>\n",
       "      <td>1</td>\n",
       "      <td>0</td>\n",
       "      <td>0</td>\n",
       "      <td>0</td>\n",
       "      <td>0</td>\n",
       "      <td>0</td>\n",
       "      <td>No</td>\n",
       "      <td>Learning</td>\n",
       "    </tr>\n",
       "    <tr>\n",
       "      <th>2</th>\n",
       "      <td>37</td>\n",
       "      <td>1</td>\n",
       "      <td>2</td>\n",
       "      <td>2</td>\n",
       "      <td>8</td>\n",
       "      <td>0</td>\n",
       "      <td>4</td>\n",
       "      <td>2</td>\n",
       "      <td>4</td>\n",
       "      <td>3</td>\n",
       "      <td>...</td>\n",
       "      <td>0</td>\n",
       "      <td>0</td>\n",
       "      <td>1</td>\n",
       "      <td>0</td>\n",
       "      <td>0</td>\n",
       "      <td>0</td>\n",
       "      <td>0</td>\n",
       "      <td>0</td>\n",
       "      <td>No</td>\n",
       "      <td>Learning</td>\n",
       "    </tr>\n",
       "    <tr>\n",
       "      <th>3</th>\n",
       "      <td>9</td>\n",
       "      <td>1</td>\n",
       "      <td>3</td>\n",
       "      <td>3</td>\n",
       "      <td>3</td>\n",
       "      <td>2</td>\n",
       "      <td>3</td>\n",
       "      <td>2</td>\n",
       "      <td>4</td>\n",
       "      <td>5</td>\n",
       "      <td>...</td>\n",
       "      <td>0</td>\n",
       "      <td>0</td>\n",
       "      <td>1</td>\n",
       "      <td>0</td>\n",
       "      <td>0</td>\n",
       "      <td>0</td>\n",
       "      <td>0</td>\n",
       "      <td>0</td>\n",
       "      <td>No</td>\n",
       "      <td>Learning</td>\n",
       "    </tr>\n",
       "    <tr>\n",
       "      <th>4</th>\n",
       "      <td>40</td>\n",
       "      <td>1</td>\n",
       "      <td>4</td>\n",
       "      <td>2</td>\n",
       "      <td>10</td>\n",
       "      <td>1</td>\n",
       "      <td>4</td>\n",
       "      <td>1</td>\n",
       "      <td>4</td>\n",
       "      <td>7</td>\n",
       "      <td>...</td>\n",
       "      <td>0</td>\n",
       "      <td>0</td>\n",
       "      <td>1</td>\n",
       "      <td>0</td>\n",
       "      <td>0</td>\n",
       "      <td>0</td>\n",
       "      <td>0</td>\n",
       "      <td>0</td>\n",
       "      <td>No</td>\n",
       "      <td>Learning</td>\n",
       "    </tr>\n",
       "  </tbody>\n",
       "</table>\n",
       "<p>5 rows × 87 columns</p>\n",
       "</div>"
      ],
      "text/plain": [
       "   SD1  SD2  SD3  SD4  SD5  SD6  SD7  SD8  SD9  SD10    ...     PO78  PO79  \\\n",
       "0   33    1    3    2    8    0    5    1    3     7    ...        0     0   \n",
       "1   37    1    2    2    8    1    4    1    4     6    ...        0     0   \n",
       "2   37    1    2    2    8    0    4    2    4     3    ...        0     0   \n",
       "3    9    1    3    3    3    2    3    2    4     5    ...        0     0   \n",
       "4   40    1    4    2   10    1    4    1    4     7    ...        0     0   \n",
       "\n",
       "   PO80  PO81  PO82  PO83  PO84  PO85  CLASS    STATUS  \n",
       "0     1     0     0     0     0     0     No  Learning  \n",
       "1     1     0     0     0     0     0     No  Learning  \n",
       "2     1     0     0     0     0     0     No  Learning  \n",
       "3     1     0     0     0     0     0     No  Learning  \n",
       "4     1     0     0     0     0     0     No  Learning  \n",
       "\n",
       "[5 rows x 87 columns]"
      ]
     },
     "execution_count": 11,
     "metadata": {},
     "output_type": "execute_result"
    }
   ],
   "source": [
    "#get train dataset\n",
    "train = dataset.loc[dataset[\"STATUS\"] == \"Learning\", :]\n",
    "print(\"train shape : \", train.shape)\n",
    "train.head()"
   ]
  },
  {
   "cell_type": "code",
   "execution_count": 12,
   "metadata": {},
   "outputs": [
    {
     "name": "stdout",
     "output_type": "stream",
     "text": [
      "test shape :  (4000, 87)\n"
     ]
    },
    {
     "data": {
      "text/html": [
       "<div>\n",
       "<style scoped>\n",
       "    .dataframe tbody tr th:only-of-type {\n",
       "        vertical-align: middle;\n",
       "    }\n",
       "\n",
       "    .dataframe tbody tr th {\n",
       "        vertical-align: top;\n",
       "    }\n",
       "\n",
       "    .dataframe thead th {\n",
       "        text-align: right;\n",
       "    }\n",
       "</style>\n",
       "<table border=\"1\" class=\"dataframe\">\n",
       "  <thead>\n",
       "    <tr style=\"text-align: right;\">\n",
       "      <th></th>\n",
       "      <th>SD1</th>\n",
       "      <th>SD2</th>\n",
       "      <th>SD3</th>\n",
       "      <th>SD4</th>\n",
       "      <th>SD5</th>\n",
       "      <th>SD6</th>\n",
       "      <th>SD7</th>\n",
       "      <th>SD8</th>\n",
       "      <th>SD9</th>\n",
       "      <th>SD10</th>\n",
       "      <th>...</th>\n",
       "      <th>PO78</th>\n",
       "      <th>PO79</th>\n",
       "      <th>PO80</th>\n",
       "      <th>PO81</th>\n",
       "      <th>PO82</th>\n",
       "      <th>PO83</th>\n",
       "      <th>PO84</th>\n",
       "      <th>PO85</th>\n",
       "      <th>CLASS</th>\n",
       "      <th>STATUS</th>\n",
       "    </tr>\n",
       "  </thead>\n",
       "  <tbody>\n",
       "    <tr>\n",
       "      <th>5822</th>\n",
       "      <td>33</td>\n",
       "      <td>1</td>\n",
       "      <td>4</td>\n",
       "      <td>2</td>\n",
       "      <td>8</td>\n",
       "      <td>0</td>\n",
       "      <td>6</td>\n",
       "      <td>0</td>\n",
       "      <td>3</td>\n",
       "      <td>5</td>\n",
       "      <td>...</td>\n",
       "      <td>0</td>\n",
       "      <td>0</td>\n",
       "      <td>1</td>\n",
       "      <td>0</td>\n",
       "      <td>0</td>\n",
       "      <td>0</td>\n",
       "      <td>0</td>\n",
       "      <td>0</td>\n",
       "      <td>No</td>\n",
       "      <td>Test</td>\n",
       "    </tr>\n",
       "    <tr>\n",
       "      <th>5823</th>\n",
       "      <td>6</td>\n",
       "      <td>1</td>\n",
       "      <td>3</td>\n",
       "      <td>2</td>\n",
       "      <td>2</td>\n",
       "      <td>0</td>\n",
       "      <td>5</td>\n",
       "      <td>0</td>\n",
       "      <td>4</td>\n",
       "      <td>5</td>\n",
       "      <td>...</td>\n",
       "      <td>0</td>\n",
       "      <td>0</td>\n",
       "      <td>1</td>\n",
       "      <td>0</td>\n",
       "      <td>0</td>\n",
       "      <td>0</td>\n",
       "      <td>0</td>\n",
       "      <td>0</td>\n",
       "      <td>Yes</td>\n",
       "      <td>Test</td>\n",
       "    </tr>\n",
       "    <tr>\n",
       "      <th>5824</th>\n",
       "      <td>39</td>\n",
       "      <td>1</td>\n",
       "      <td>3</td>\n",
       "      <td>3</td>\n",
       "      <td>9</td>\n",
       "      <td>1</td>\n",
       "      <td>4</td>\n",
       "      <td>2</td>\n",
       "      <td>3</td>\n",
       "      <td>5</td>\n",
       "      <td>...</td>\n",
       "      <td>0</td>\n",
       "      <td>0</td>\n",
       "      <td>1</td>\n",
       "      <td>0</td>\n",
       "      <td>0</td>\n",
       "      <td>0</td>\n",
       "      <td>0</td>\n",
       "      <td>0</td>\n",
       "      <td>No</td>\n",
       "      <td>Test</td>\n",
       "    </tr>\n",
       "    <tr>\n",
       "      <th>5825</th>\n",
       "      <td>9</td>\n",
       "      <td>1</td>\n",
       "      <td>2</td>\n",
       "      <td>3</td>\n",
       "      <td>3</td>\n",
       "      <td>2</td>\n",
       "      <td>3</td>\n",
       "      <td>2</td>\n",
       "      <td>4</td>\n",
       "      <td>5</td>\n",
       "      <td>...</td>\n",
       "      <td>0</td>\n",
       "      <td>0</td>\n",
       "      <td>1</td>\n",
       "      <td>0</td>\n",
       "      <td>0</td>\n",
       "      <td>0</td>\n",
       "      <td>0</td>\n",
       "      <td>0</td>\n",
       "      <td>No</td>\n",
       "      <td>Test</td>\n",
       "    </tr>\n",
       "    <tr>\n",
       "      <th>5826</th>\n",
       "      <td>31</td>\n",
       "      <td>1</td>\n",
       "      <td>2</td>\n",
       "      <td>4</td>\n",
       "      <td>7</td>\n",
       "      <td>0</td>\n",
       "      <td>2</td>\n",
       "      <td>0</td>\n",
       "      <td>7</td>\n",
       "      <td>9</td>\n",
       "      <td>...</td>\n",
       "      <td>0</td>\n",
       "      <td>0</td>\n",
       "      <td>1</td>\n",
       "      <td>0</td>\n",
       "      <td>0</td>\n",
       "      <td>0</td>\n",
       "      <td>0</td>\n",
       "      <td>0</td>\n",
       "      <td>No</td>\n",
       "      <td>Test</td>\n",
       "    </tr>\n",
       "  </tbody>\n",
       "</table>\n",
       "<p>5 rows × 87 columns</p>\n",
       "</div>"
      ],
      "text/plain": [
       "      SD1  SD2  SD3  SD4  SD5  SD6  SD7  SD8  SD9  SD10   ...    PO78  PO79  \\\n",
       "5822   33    1    4    2    8    0    6    0    3     5   ...       0     0   \n",
       "5823    6    1    3    2    2    0    5    0    4     5   ...       0     0   \n",
       "5824   39    1    3    3    9    1    4    2    3     5   ...       0     0   \n",
       "5825    9    1    2    3    3    2    3    2    4     5   ...       0     0   \n",
       "5826   31    1    2    4    7    0    2    0    7     9   ...       0     0   \n",
       "\n",
       "      PO80  PO81  PO82  PO83  PO84  PO85  CLASS  STATUS  \n",
       "5822     1     0     0     0     0     0     No    Test  \n",
       "5823     1     0     0     0     0     0    Yes    Test  \n",
       "5824     1     0     0     0     0     0     No    Test  \n",
       "5825     1     0     0     0     0     0     No    Test  \n",
       "5826     1     0     0     0     0     0     No    Test  \n",
       "\n",
       "[5 rows x 87 columns]"
      ]
     },
     "execution_count": 12,
     "metadata": {},
     "output_type": "execute_result"
    }
   ],
   "source": [
    "#get test dataset\n",
    "test = dataset.loc[dataset[\"STATUS\"] != \"Learning\"]\n",
    "print(\"test shape : \", test.shape)\n",
    "test.head()"
   ]
  },
  {
   "cell_type": "code",
   "execution_count": 13,
   "metadata": {},
   "outputs": [],
   "source": [
    "#dropping STATUS column\n",
    "dataset = dataset.drop(columns='STATUS', axis = 1)\n",
    "train = train.drop(columns='STATUS', axis = 1)\n",
    "test = test.drop(columns='STATUS', axis = 1)"
   ]
  },
  {
   "cell_type": "markdown",
   "metadata": {},
   "source": [
    "### Exploring the data"
   ]
  },
  {
   "cell_type": "markdown",
   "metadata": {},
   "source": [
    "#### Exploring CLASS variable distribuation"
   ]
  },
  {
   "cell_type": "code",
   "execution_count": 14,
   "metadata": {},
   "outputs": [
    {
     "name": "stdout",
     "output_type": "stream",
     "text": [
      "No     9236\n",
      "Yes     586\n",
      "Name: CLASS, dtype: int64\n"
     ]
    },
    {
     "data": {
      "image/png": "[encoded data removed]",
      "text/plain": [
       "<Figure size 432x288 with 1 Axes>"
      ]
     },
     "metadata": {},
     "output_type": "display_data"
    }
   ],
   "source": [
    "v_count = dataset[\"CLASS\"].value_counts()\n",
    "print(v_count)\n",
    "v_count.plot(kind = \"bar\");"
   ]
  },
  {
   "cell_type": "markdown",
   "metadata": {},
   "source": [
    "We can see that there are far more people not having a caravan insurance than those having one. "
   ]
  },
  {
   "cell_type": "markdown",
   "metadata": {},
   "source": [
    "#### Examining Missing Values"
   ]
  },
  {
   "cell_type": "code",
   "execution_count": 15,
   "metadata": {},
   "outputs": [],
   "source": [
    "def missing_values_table(df):\n",
    "    mis_values = df.isnull().sum()\n",
    "    mis_values_percentage = mis_values/len(df) * 100\n",
    "    mis_value_table = pd.concat([mis_values, mis_values_percentage], axis = 1)\n",
    "    mis_value_table = mis_value_table.rename(columns = {0:\"Missing Values\", 1:\"% Of Missing Values\"})\n",
    "    \n",
    "    mis_value_table = mis_value_table[mis_value_table.iloc[:, 1] != 0].sort_values(\n",
    "        \"% Of Missing Values\", ascending = False).round(1)\n",
    "    \n",
    "    print (\"Dataframe has \" + str(df.shape[1]) + \" columns.\\n\"      \n",
    "            \"There are \" + str(mis_value_table.shape[0]) +\n",
    "              \" columns that have missing values.\")\n",
    "    return mis_value_table"
   ]
  },
  {
   "cell_type": "code",
   "execution_count": 16,
   "metadata": {},
   "outputs": [
    {
     "name": "stdout",
     "output_type": "stream",
     "text": [
      "Dataframe has 86 columns.\n",
      "There are 0 columns that have missing values.\n"
     ]
    }
   ],
   "source": [
    "miss_values = missing_values_table(train)"
   ]
  },
  {
   "cell_type": "markdown",
   "metadata": {},
   "source": [
    "#### Column Types"
   ]
  },
  {
   "cell_type": "code",
   "execution_count": 17,
   "metadata": {},
   "outputs": [
    {
     "name": "stdout",
     "output_type": "stream",
     "text": [
      "int64     85\n",
      "object     1\n",
      "dtype: int64\n"
     ]
    },
    {
     "data": {
      "text/plain": [
       "CLASS    2\n",
       "dtype: int64"
      ]
     },
     "execution_count": 17,
     "metadata": {},
     "output_type": "execute_result"
    }
   ],
   "source": [
    "print(train.dtypes.value_counts())\n",
    "train.select_dtypes('object').apply(pd.Series.nunique, axis = 0)"
   ]
  },
  {
   "cell_type": "markdown",
   "metadata": {},
   "source": [
    "All variables are of numerical type(integers) except for the target variable (CLASS) which will be encoded."
   ]
  },
  {
   "cell_type": "markdown",
   "metadata": {},
   "source": [
    "### Looking For Anomalies"
   ]
  },
  {
   "cell_type": "markdown",
   "metadata": {},
   "source": [
    "#### Encoding CLASS variable"
   ]
  },
  {
   "cell_type": "code",
   "execution_count": 18,
   "metadata": {},
   "outputs": [],
   "source": [
    "#Applying label encoding on CLASS variable\n",
    "from sklearn.preprocessing import LabelEncoder\n",
    "encoder = LabelEncoder()\n",
    "encoder.fit(dataset[\"CLASS\"])\n",
    "dataset[\"CLASS\"] = encoder.transform(dataset[\"CLASS\"])\n"
   ]
  },
  {
   "cell_type": "code",
   "execution_count": 19,
   "metadata": {},
   "outputs": [
    {
     "data": {
      "text/html": [
       "<div>\n",
       "<style scoped>\n",
       "    .dataframe tbody tr th:only-of-type {\n",
       "        vertical-align: middle;\n",
       "    }\n",
       "\n",
       "    .dataframe tbody tr th {\n",
       "        vertical-align: top;\n",
       "    }\n",
       "\n",
       "    .dataframe thead th {\n",
       "        text-align: right;\n",
       "    }\n",
       "</style>\n",
       "<table border=\"1\" class=\"dataframe\">\n",
       "  <thead>\n",
       "    <tr style=\"text-align: right;\">\n",
       "      <th></th>\n",
       "      <th>SD1</th>\n",
       "      <th>SD2</th>\n",
       "      <th>SD3</th>\n",
       "      <th>SD4</th>\n",
       "      <th>SD5</th>\n",
       "      <th>SD6</th>\n",
       "      <th>SD7</th>\n",
       "      <th>SD8</th>\n",
       "      <th>SD9</th>\n",
       "      <th>SD10</th>\n",
       "      <th>...</th>\n",
       "      <th>PO77</th>\n",
       "      <th>PO78</th>\n",
       "      <th>PO79</th>\n",
       "      <th>PO80</th>\n",
       "      <th>PO81</th>\n",
       "      <th>PO82</th>\n",
       "      <th>PO83</th>\n",
       "      <th>PO84</th>\n",
       "      <th>PO85</th>\n",
       "      <th>CLASS</th>\n",
       "    </tr>\n",
       "  </thead>\n",
       "  <tbody>\n",
       "    <tr>\n",
       "      <th>count</th>\n",
       "      <td>9822.000000</td>\n",
       "      <td>9822.000000</td>\n",
       "      <td>9822.000000</td>\n",
       "      <td>9822.000000</td>\n",
       "      <td>9822.000000</td>\n",
       "      <td>9822.000000</td>\n",
       "      <td>9822.000000</td>\n",
       "      <td>9822.000000</td>\n",
       "      <td>9822.000000</td>\n",
       "      <td>9822.000000</td>\n",
       "      <td>...</td>\n",
       "      <td>9822.000000</td>\n",
       "      <td>9822.000000</td>\n",
       "      <td>9822.000000</td>\n",
       "      <td>9822.000000</td>\n",
       "      <td>9822.000000</td>\n",
       "      <td>9822.000000</td>\n",
       "      <td>9822.00000</td>\n",
       "      <td>9822.000000</td>\n",
       "      <td>9822.000000</td>\n",
       "      <td>9822.000000</td>\n",
       "    </tr>\n",
       "    <tr>\n",
       "      <th>mean</th>\n",
       "      <td>24.253207</td>\n",
       "      <td>1.108735</td>\n",
       "      <td>2.677561</td>\n",
       "      <td>2.996437</td>\n",
       "      <td>5.779067</td>\n",
       "      <td>0.700672</td>\n",
       "      <td>4.637650</td>\n",
       "      <td>1.050092</td>\n",
       "      <td>3.262981</td>\n",
       "      <td>6.188964</td>\n",
       "      <td>...</td>\n",
       "      <td>0.004582</td>\n",
       "      <td>0.007941</td>\n",
       "      <td>0.004276</td>\n",
       "      <td>0.574018</td>\n",
       "      <td>0.000916</td>\n",
       "      <td>0.005091</td>\n",
       "      <td>0.03146</td>\n",
       "      <td>0.008450</td>\n",
       "      <td>0.013846</td>\n",
       "      <td>0.059662</td>\n",
       "    </tr>\n",
       "    <tr>\n",
       "      <th>std</th>\n",
       "      <td>12.918058</td>\n",
       "      <td>0.412101</td>\n",
       "      <td>0.780701</td>\n",
       "      <td>0.804660</td>\n",
       "      <td>2.874148</td>\n",
       "      <td>1.015107</td>\n",
       "      <td>1.721212</td>\n",
       "      <td>1.011156</td>\n",
       "      <td>1.606287</td>\n",
       "      <td>1.896070</td>\n",
       "      <td>...</td>\n",
       "      <td>0.067535</td>\n",
       "      <td>0.088764</td>\n",
       "      <td>0.071224</td>\n",
       "      <td>0.561255</td>\n",
       "      <td>0.030258</td>\n",
       "      <td>0.077996</td>\n",
       "      <td>0.20907</td>\n",
       "      <td>0.092647</td>\n",
       "      <td>0.117728</td>\n",
       "      <td>0.236872</td>\n",
       "    </tr>\n",
       "    <tr>\n",
       "      <th>min</th>\n",
       "      <td>1.000000</td>\n",
       "      <td>1.000000</td>\n",
       "      <td>1.000000</td>\n",
       "      <td>1.000000</td>\n",
       "      <td>1.000000</td>\n",
       "      <td>0.000000</td>\n",
       "      <td>0.000000</td>\n",
       "      <td>0.000000</td>\n",
       "      <td>0.000000</td>\n",
       "      <td>0.000000</td>\n",
       "      <td>...</td>\n",
       "      <td>0.000000</td>\n",
       "      <td>0.000000</td>\n",
       "      <td>0.000000</td>\n",
       "      <td>0.000000</td>\n",
       "      <td>0.000000</td>\n",
       "      <td>0.000000</td>\n",
       "      <td>0.00000</td>\n",
       "      <td>0.000000</td>\n",
       "      <td>0.000000</td>\n",
       "      <td>0.000000</td>\n",
       "    </tr>\n",
       "    <tr>\n",
       "      <th>25%</th>\n",
       "      <td>10.000000</td>\n",
       "      <td>1.000000</td>\n",
       "      <td>2.000000</td>\n",
       "      <td>2.000000</td>\n",
       "      <td>3.000000</td>\n",
       "      <td>0.000000</td>\n",
       "      <td>4.000000</td>\n",
       "      <td>0.000000</td>\n",
       "      <td>2.000000</td>\n",
       "      <td>5.000000</td>\n",
       "      <td>...</td>\n",
       "      <td>0.000000</td>\n",
       "      <td>0.000000</td>\n",
       "      <td>0.000000</td>\n",
       "      <td>0.000000</td>\n",
       "      <td>0.000000</td>\n",
       "      <td>0.000000</td>\n",
       "      <td>0.00000</td>\n",
       "      <td>0.000000</td>\n",
       "      <td>0.000000</td>\n",
       "      <td>0.000000</td>\n",
       "    </tr>\n",
       "    <tr>\n",
       "      <th>50%</th>\n",
       "      <td>30.000000</td>\n",
       "      <td>1.000000</td>\n",
       "      <td>3.000000</td>\n",
       "      <td>3.000000</td>\n",
       "      <td>7.000000</td>\n",
       "      <td>0.000000</td>\n",
       "      <td>5.000000</td>\n",
       "      <td>1.000000</td>\n",
       "      <td>3.000000</td>\n",
       "      <td>6.000000</td>\n",
       "      <td>...</td>\n",
       "      <td>0.000000</td>\n",
       "      <td>0.000000</td>\n",
       "      <td>0.000000</td>\n",
       "      <td>1.000000</td>\n",
       "      <td>0.000000</td>\n",
       "      <td>0.000000</td>\n",
       "      <td>0.00000</td>\n",
       "      <td>0.000000</td>\n",
       "      <td>0.000000</td>\n",
       "      <td>0.000000</td>\n",
       "    </tr>\n",
       "    <tr>\n",
       "      <th>75%</th>\n",
       "      <td>35.000000</td>\n",
       "      <td>1.000000</td>\n",
       "      <td>3.000000</td>\n",
       "      <td>3.000000</td>\n",
       "      <td>8.000000</td>\n",
       "      <td>1.000000</td>\n",
       "      <td>6.000000</td>\n",
       "      <td>2.000000</td>\n",
       "      <td>4.000000</td>\n",
       "      <td>7.000000</td>\n",
       "      <td>...</td>\n",
       "      <td>0.000000</td>\n",
       "      <td>0.000000</td>\n",
       "      <td>0.000000</td>\n",
       "      <td>1.000000</td>\n",
       "      <td>0.000000</td>\n",
       "      <td>0.000000</td>\n",
       "      <td>0.00000</td>\n",
       "      <td>0.000000</td>\n",
       "      <td>0.000000</td>\n",
       "      <td>0.000000</td>\n",
       "    </tr>\n",
       "    <tr>\n",
       "      <th>max</th>\n",
       "      <td>41.000000</td>\n",
       "      <td>10.000000</td>\n",
       "      <td>6.000000</td>\n",
       "      <td>6.000000</td>\n",
       "      <td>10.000000</td>\n",
       "      <td>9.000000</td>\n",
       "      <td>9.000000</td>\n",
       "      <td>5.000000</td>\n",
       "      <td>9.000000</td>\n",
       "      <td>9.000000</td>\n",
       "      <td>...</td>\n",
       "      <td>1.000000</td>\n",
       "      <td>1.000000</td>\n",
       "      <td>2.000000</td>\n",
       "      <td>7.000000</td>\n",
       "      <td>1.000000</td>\n",
       "      <td>2.000000</td>\n",
       "      <td>4.00000</td>\n",
       "      <td>2.000000</td>\n",
       "      <td>2.000000</td>\n",
       "      <td>1.000000</td>\n",
       "    </tr>\n",
       "  </tbody>\n",
       "</table>\n",
       "<p>8 rows × 86 columns</p>\n",
       "</div>"
      ],
      "text/plain": [
       "               SD1          SD2          SD3          SD4          SD5  \\\n",
       "count  9822.000000  9822.000000  9822.000000  9822.000000  9822.000000   \n",
       "mean     24.253207     1.108735     2.677561     2.996437     5.779067   \n",
       "std      12.918058     0.412101     0.780701     0.804660     2.874148   \n",
       "min       1.000000     1.000000     1.000000     1.000000     1.000000   \n",
       "25%      10.000000     1.000000     2.000000     2.000000     3.000000   \n",
       "50%      30.000000     1.000000     3.000000     3.000000     7.000000   \n",
       "75%      35.000000     1.000000     3.000000     3.000000     8.000000   \n",
       "max      41.000000    10.000000     6.000000     6.000000    10.000000   \n",
       "\n",
       "               SD6          SD7          SD8          SD9         SD10  \\\n",
       "count  9822.000000  9822.000000  9822.000000  9822.000000  9822.000000   \n",
       "mean      0.700672     4.637650     1.050092     3.262981     6.188964   \n",
       "std       1.015107     1.721212     1.011156     1.606287     1.896070   \n",
       "min       0.000000     0.000000     0.000000     0.000000     0.000000   \n",
       "25%       0.000000     4.000000     0.000000     2.000000     5.000000   \n",
       "50%       0.000000     5.000000     1.000000     3.000000     6.000000   \n",
       "75%       1.000000     6.000000     2.000000     4.000000     7.000000   \n",
       "max       9.000000     9.000000     5.000000     9.000000     9.000000   \n",
       "\n",
       "          ...              PO77         PO78         PO79         PO80  \\\n",
       "count     ...       9822.000000  9822.000000  9822.000000  9822.000000   \n",
       "mean      ...          0.004582     0.007941     0.004276     0.574018   \n",
       "std       ...          0.067535     0.088764     0.071224     0.561255   \n",
       "min       ...          0.000000     0.000000     0.000000     0.000000   \n",
       "25%       ...          0.000000     0.000000     0.000000     0.000000   \n",
       "50%       ...          0.000000     0.000000     0.000000     1.000000   \n",
       "75%       ...          0.000000     0.000000     0.000000     1.000000   \n",
       "max       ...          1.000000     1.000000     2.000000     7.000000   \n",
       "\n",
       "              PO81         PO82        PO83         PO84         PO85  \\\n",
       "count  9822.000000  9822.000000  9822.00000  9822.000000  9822.000000   \n",
       "mean      0.000916     0.005091     0.03146     0.008450     0.013846   \n",
       "std       0.030258     0.077996     0.20907     0.092647     0.117728   \n",
       "min       0.000000     0.000000     0.00000     0.000000     0.000000   \n",
       "25%       0.000000     0.000000     0.00000     0.000000     0.000000   \n",
       "50%       0.000000     0.000000     0.00000     0.000000     0.000000   \n",
       "75%       0.000000     0.000000     0.00000     0.000000     0.000000   \n",
       "max       1.000000     2.000000     4.00000     2.000000     2.000000   \n",
       "\n",
       "             CLASS  \n",
       "count  9822.000000  \n",
       "mean      0.059662  \n",
       "std       0.236872  \n",
       "min       0.000000  \n",
       "25%       0.000000  \n",
       "50%       0.000000  \n",
       "75%       0.000000  \n",
       "max       1.000000  \n",
       "\n",
       "[8 rows x 86 columns]"
      ]
     },
     "execution_count": 19,
     "metadata": {},
     "output_type": "execute_result"
    }
   ],
   "source": [
    "dataset.describe()"
   ]
  },
  {
   "cell_type": "markdown",
   "metadata": {},
   "source": [
    "### Feature engineering"
   ]
  },
  {
   "cell_type": "markdown",
   "metadata": {},
   "source": [
    "### Correlations"
   ]
  },
  {
   "cell_type": "markdown",
   "metadata": {},
   "source": [
    "#### Identifying highly correlated variables"
   ]
  },
  {
   "cell_type": "code",
   "execution_count": 20,
   "metadata": {},
   "outputs": [
    {
     "data": {
      "text/html": [
       "<div>\n",
       "<style scoped>\n",
       "    .dataframe tbody tr th:only-of-type {\n",
       "        vertical-align: middle;\n",
       "    }\n",
       "\n",
       "    .dataframe tbody tr th {\n",
       "        vertical-align: top;\n",
       "    }\n",
       "\n",
       "    .dataframe thead th {\n",
       "        text-align: right;\n",
       "    }\n",
       "</style>\n",
       "<table border=\"1\" class=\"dataframe\">\n",
       "  <thead>\n",
       "    <tr style=\"text-align: right;\">\n",
       "      <th></th>\n",
       "      <th>SD1</th>\n",
       "      <th>SD2</th>\n",
       "      <th>SD3</th>\n",
       "      <th>SD4</th>\n",
       "      <th>SD5</th>\n",
       "      <th>SD6</th>\n",
       "      <th>SD7</th>\n",
       "      <th>SD8</th>\n",
       "      <th>SD9</th>\n",
       "      <th>SD10</th>\n",
       "      <th>...</th>\n",
       "      <th>PO77</th>\n",
       "      <th>PO78</th>\n",
       "      <th>PO79</th>\n",
       "      <th>PO80</th>\n",
       "      <th>PO81</th>\n",
       "      <th>PO82</th>\n",
       "      <th>PO83</th>\n",
       "      <th>PO84</th>\n",
       "      <th>PO85</th>\n",
       "      <th>CLASS</th>\n",
       "    </tr>\n",
       "  </thead>\n",
       "  <tbody>\n",
       "    <tr>\n",
       "      <th>SD1</th>\n",
       "      <td>1.000000</td>\n",
       "      <td>0.040328</td>\n",
       "      <td>0.006594</td>\n",
       "      <td>0.014428</td>\n",
       "      <td>0.992712</td>\n",
       "      <td>0.203087</td>\n",
       "      <td>0.092478</td>\n",
       "      <td>0.029237</td>\n",
       "      <td>0.016571</td>\n",
       "      <td>0.050488</td>\n",
       "      <td>...</td>\n",
       "      <td>0.021546</td>\n",
       "      <td>0.011611</td>\n",
       "      <td>0.000815</td>\n",
       "      <td>0.000469</td>\n",
       "      <td>0.005283</td>\n",
       "      <td>0.012901</td>\n",
       "      <td>0.025533</td>\n",
       "      <td>0.016336</td>\n",
       "      <td>0.043749</td>\n",
       "      <td>0.060742</td>\n",
       "    </tr>\n",
       "    <tr>\n",
       "      <th>SD2</th>\n",
       "      <td>0.040328</td>\n",
       "      <td>1.000000</td>\n",
       "      <td>0.004315</td>\n",
       "      <td>0.052448</td>\n",
       "      <td>0.048317</td>\n",
       "      <td>0.004304</td>\n",
       "      <td>0.031296</td>\n",
       "      <td>0.020160</td>\n",
       "      <td>0.018018</td>\n",
       "      <td>0.006801</td>\n",
       "      <td>...</td>\n",
       "      <td>0.003267</td>\n",
       "      <td>0.007011</td>\n",
       "      <td>0.012374</td>\n",
       "      <td>0.001343</td>\n",
       "      <td>0.007991</td>\n",
       "      <td>0.001384</td>\n",
       "      <td>0.012526</td>\n",
       "      <td>0.031936</td>\n",
       "      <td>0.005851</td>\n",
       "      <td>0.002836</td>\n",
       "    </tr>\n",
       "    <tr>\n",
       "      <th>SD3</th>\n",
       "      <td>0.006594</td>\n",
       "      <td>0.004315</td>\n",
       "      <td>1.000000</td>\n",
       "      <td>0.339942</td>\n",
       "      <td>0.029737</td>\n",
       "      <td>0.009383</td>\n",
       "      <td>0.053455</td>\n",
       "      <td>0.113296</td>\n",
       "      <td>0.010404</td>\n",
       "      <td>0.531272</td>\n",
       "      <td>...</td>\n",
       "      <td>0.002878</td>\n",
       "      <td>0.017853</td>\n",
       "      <td>0.019305</td>\n",
       "      <td>0.004668</td>\n",
       "      <td>0.003888</td>\n",
       "      <td>0.013174</td>\n",
       "      <td>0.018487</td>\n",
       "      <td>0.010928</td>\n",
       "      <td>0.030856</td>\n",
       "      <td>0.046224</td>\n",
       "    </tr>\n",
       "    <tr>\n",
       "      <th>SD4</th>\n",
       "      <td>0.014428</td>\n",
       "      <td>0.052448</td>\n",
       "      <td>0.339942</td>\n",
       "      <td>1.000000</td>\n",
       "      <td>0.009698</td>\n",
       "      <td>0.038454</td>\n",
       "      <td>0.091775</td>\n",
       "      <td>0.058412</td>\n",
       "      <td>0.114922</td>\n",
       "      <td>0.058155</td>\n",
       "      <td>...</td>\n",
       "      <td>0.020911</td>\n",
       "      <td>0.001029</td>\n",
       "      <td>0.001511</td>\n",
       "      <td>0.017606</td>\n",
       "      <td>0.004048</td>\n",
       "      <td>0.008401</td>\n",
       "      <td>0.018824</td>\n",
       "      <td>0.009157</td>\n",
       "      <td>0.012377</td>\n",
       "      <td>0.004227</td>\n",
       "    </tr>\n",
       "    <tr>\n",
       "      <th>SD5</th>\n",
       "      <td>0.992712</td>\n",
       "      <td>0.048317</td>\n",
       "      <td>0.029737</td>\n",
       "      <td>0.009698</td>\n",
       "      <td>1.000000</td>\n",
       "      <td>0.208057</td>\n",
       "      <td>0.100622</td>\n",
       "      <td>0.038340</td>\n",
       "      <td>0.018710</td>\n",
       "      <td>0.012349</td>\n",
       "      <td>...</td>\n",
       "      <td>0.022526</td>\n",
       "      <td>0.009087</td>\n",
       "      <td>0.002128</td>\n",
       "      <td>0.000024</td>\n",
       "      <td>0.003526</td>\n",
       "      <td>0.015422</td>\n",
       "      <td>0.027067</td>\n",
       "      <td>0.015549</td>\n",
       "      <td>0.041213</td>\n",
       "      <td>0.059306</td>\n",
       "    </tr>\n",
       "  </tbody>\n",
       "</table>\n",
       "<p>5 rows × 86 columns</p>\n",
       "</div>"
      ],
      "text/plain": [
       "          SD1       SD2       SD3       SD4       SD5       SD6       SD7  \\\n",
       "SD1  1.000000  0.040328  0.006594  0.014428  0.992712  0.203087  0.092478   \n",
       "SD2  0.040328  1.000000  0.004315  0.052448  0.048317  0.004304  0.031296   \n",
       "SD3  0.006594  0.004315  1.000000  0.339942  0.029737  0.009383  0.053455   \n",
       "SD4  0.014428  0.052448  0.339942  1.000000  0.009698  0.038454  0.091775   \n",
       "SD5  0.992712  0.048317  0.029737  0.009698  1.000000  0.208057  0.100622   \n",
       "\n",
       "          SD8       SD9      SD10    ...         PO77      PO78      PO79  \\\n",
       "SD1  0.029237  0.016571  0.050488    ...     0.021546  0.011611  0.000815   \n",
       "SD2  0.020160  0.018018  0.006801    ...     0.003267  0.007011  0.012374   \n",
       "SD3  0.113296  0.010404  0.531272    ...     0.002878  0.017853  0.019305   \n",
       "SD4  0.058412  0.114922  0.058155    ...     0.020911  0.001029  0.001511   \n",
       "SD5  0.038340  0.018710  0.012349    ...     0.022526  0.009087  0.002128   \n",
       "\n",
       "         PO80      PO81      PO82      PO83      PO84      PO85     CLASS  \n",
       "SD1  0.000469  0.005283  0.012901  0.025533  0.016336  0.043749  0.060742  \n",
       "SD2  0.001343  0.007991  0.001384  0.012526  0.031936  0.005851  0.002836  \n",
       "SD3  0.004668  0.003888  0.013174  0.018487  0.010928  0.030856  0.046224  \n",
       "SD4  0.017606  0.004048  0.008401  0.018824  0.009157  0.012377  0.004227  \n",
       "SD5  0.000024  0.003526  0.015422  0.027067  0.015549  0.041213  0.059306  \n",
       "\n",
       "[5 rows x 86 columns]"
      ]
     },
     "execution_count": 20,
     "metadata": {},
     "output_type": "execute_result"
    }
   ],
   "source": [
    "#threshold for removing highly correlated features\n",
    "threshold = 0.8\n",
    "\n",
    "#correlation matrix\n",
    "crr = dataset.corr().abs()\n",
    "crr.head()"
   ]
  },
  {
   "cell_type": "code",
   "execution_count": 21,
   "metadata": {},
   "outputs": [
    {
     "data": {
      "text/html": [
       "<div>\n",
       "<style scoped>\n",
       "    .dataframe tbody tr th:only-of-type {\n",
       "        vertical-align: middle;\n",
       "    }\n",
       "\n",
       "    .dataframe tbody tr th {\n",
       "        vertical-align: top;\n",
       "    }\n",
       "\n",
       "    .dataframe thead th {\n",
       "        text-align: right;\n",
       "    }\n",
       "</style>\n",
       "<table border=\"1\" class=\"dataframe\">\n",
       "  <thead>\n",
       "    <tr style=\"text-align: right;\">\n",
       "      <th></th>\n",
       "      <th>SD1</th>\n",
       "      <th>SD2</th>\n",
       "      <th>SD3</th>\n",
       "      <th>SD4</th>\n",
       "      <th>SD5</th>\n",
       "      <th>SD6</th>\n",
       "      <th>SD7</th>\n",
       "      <th>SD8</th>\n",
       "      <th>SD9</th>\n",
       "      <th>SD10</th>\n",
       "      <th>...</th>\n",
       "      <th>PO77</th>\n",
       "      <th>PO78</th>\n",
       "      <th>PO79</th>\n",
       "      <th>PO80</th>\n",
       "      <th>PO81</th>\n",
       "      <th>PO82</th>\n",
       "      <th>PO83</th>\n",
       "      <th>PO84</th>\n",
       "      <th>PO85</th>\n",
       "      <th>CLASS</th>\n",
       "    </tr>\n",
       "  </thead>\n",
       "  <tbody>\n",
       "    <tr>\n",
       "      <th>SD1</th>\n",
       "      <td>NaN</td>\n",
       "      <td>0.040328</td>\n",
       "      <td>0.006594</td>\n",
       "      <td>0.014428</td>\n",
       "      <td>0.992712</td>\n",
       "      <td>0.203087</td>\n",
       "      <td>0.092478</td>\n",
       "      <td>0.029237</td>\n",
       "      <td>0.016571</td>\n",
       "      <td>0.050488</td>\n",
       "      <td>...</td>\n",
       "      <td>0.021546</td>\n",
       "      <td>0.011611</td>\n",
       "      <td>0.000815</td>\n",
       "      <td>0.000469</td>\n",
       "      <td>0.005283</td>\n",
       "      <td>0.012901</td>\n",
       "      <td>0.025533</td>\n",
       "      <td>0.016336</td>\n",
       "      <td>0.043749</td>\n",
       "      <td>0.060742</td>\n",
       "    </tr>\n",
       "    <tr>\n",
       "      <th>SD2</th>\n",
       "      <td>NaN</td>\n",
       "      <td>NaN</td>\n",
       "      <td>0.004315</td>\n",
       "      <td>0.052448</td>\n",
       "      <td>0.048317</td>\n",
       "      <td>0.004304</td>\n",
       "      <td>0.031296</td>\n",
       "      <td>0.020160</td>\n",
       "      <td>0.018018</td>\n",
       "      <td>0.006801</td>\n",
       "      <td>...</td>\n",
       "      <td>0.003267</td>\n",
       "      <td>0.007011</td>\n",
       "      <td>0.012374</td>\n",
       "      <td>0.001343</td>\n",
       "      <td>0.007991</td>\n",
       "      <td>0.001384</td>\n",
       "      <td>0.012526</td>\n",
       "      <td>0.031936</td>\n",
       "      <td>0.005851</td>\n",
       "      <td>0.002836</td>\n",
       "    </tr>\n",
       "    <tr>\n",
       "      <th>SD3</th>\n",
       "      <td>NaN</td>\n",
       "      <td>NaN</td>\n",
       "      <td>NaN</td>\n",
       "      <td>0.339942</td>\n",
       "      <td>0.029737</td>\n",
       "      <td>0.009383</td>\n",
       "      <td>0.053455</td>\n",
       "      <td>0.113296</td>\n",
       "      <td>0.010404</td>\n",
       "      <td>0.531272</td>\n",
       "      <td>...</td>\n",
       "      <td>0.002878</td>\n",
       "      <td>0.017853</td>\n",
       "      <td>0.019305</td>\n",
       "      <td>0.004668</td>\n",
       "      <td>0.003888</td>\n",
       "      <td>0.013174</td>\n",
       "      <td>0.018487</td>\n",
       "      <td>0.010928</td>\n",
       "      <td>0.030856</td>\n",
       "      <td>0.046224</td>\n",
       "    </tr>\n",
       "    <tr>\n",
       "      <th>SD4</th>\n",
       "      <td>NaN</td>\n",
       "      <td>NaN</td>\n",
       "      <td>NaN</td>\n",
       "      <td>NaN</td>\n",
       "      <td>0.009698</td>\n",
       "      <td>0.038454</td>\n",
       "      <td>0.091775</td>\n",
       "      <td>0.058412</td>\n",
       "      <td>0.114922</td>\n",
       "      <td>0.058155</td>\n",
       "      <td>...</td>\n",
       "      <td>0.020911</td>\n",
       "      <td>0.001029</td>\n",
       "      <td>0.001511</td>\n",
       "      <td>0.017606</td>\n",
       "      <td>0.004048</td>\n",
       "      <td>0.008401</td>\n",
       "      <td>0.018824</td>\n",
       "      <td>0.009157</td>\n",
       "      <td>0.012377</td>\n",
       "      <td>0.004227</td>\n",
       "    </tr>\n",
       "    <tr>\n",
       "      <th>SD5</th>\n",
       "      <td>NaN</td>\n",
       "      <td>NaN</td>\n",
       "      <td>NaN</td>\n",
       "      <td>NaN</td>\n",
       "      <td>NaN</td>\n",
       "      <td>0.208057</td>\n",
       "      <td>0.100622</td>\n",
       "      <td>0.038340</td>\n",
       "      <td>0.018710</td>\n",
       "      <td>0.012349</td>\n",
       "      <td>...</td>\n",
       "      <td>0.022526</td>\n",
       "      <td>0.009087</td>\n",
       "      <td>0.002128</td>\n",
       "      <td>0.000024</td>\n",
       "      <td>0.003526</td>\n",
       "      <td>0.015422</td>\n",
       "      <td>0.027067</td>\n",
       "      <td>0.015549</td>\n",
       "      <td>0.041213</td>\n",
       "      <td>0.059306</td>\n",
       "    </tr>\n",
       "  </tbody>\n",
       "</table>\n",
       "<p>5 rows × 86 columns</p>\n",
       "</div>"
      ],
      "text/plain": [
       "     SD1       SD2       SD3       SD4       SD5       SD6       SD7  \\\n",
       "SD1  NaN  0.040328  0.006594  0.014428  0.992712  0.203087  0.092478   \n",
       "SD2  NaN       NaN  0.004315  0.052448  0.048317  0.004304  0.031296   \n",
       "SD3  NaN       NaN       NaN  0.339942  0.029737  0.009383  0.053455   \n",
       "SD4  NaN       NaN       NaN       NaN  0.009698  0.038454  0.091775   \n",
       "SD5  NaN       NaN       NaN       NaN       NaN  0.208057  0.100622   \n",
       "\n",
       "          SD8       SD9      SD10    ...         PO77      PO78      PO79  \\\n",
       "SD1  0.029237  0.016571  0.050488    ...     0.021546  0.011611  0.000815   \n",
       "SD2  0.020160  0.018018  0.006801    ...     0.003267  0.007011  0.012374   \n",
       "SD3  0.113296  0.010404  0.531272    ...     0.002878  0.017853  0.019305   \n",
       "SD4  0.058412  0.114922  0.058155    ...     0.020911  0.001029  0.001511   \n",
       "SD5  0.038340  0.018710  0.012349    ...     0.022526  0.009087  0.002128   \n",
       "\n",
       "         PO80      PO81      PO82      PO83      PO84      PO85     CLASS  \n",
       "SD1  0.000469  0.005283  0.012901  0.025533  0.016336  0.043749  0.060742  \n",
       "SD2  0.001343  0.007991  0.001384  0.012526  0.031936  0.005851  0.002836  \n",
       "SD3  0.004668  0.003888  0.013174  0.018487  0.010928  0.030856  0.046224  \n",
       "SD4  0.017606  0.004048  0.008401  0.018824  0.009157  0.012377  0.004227  \n",
       "SD5  0.000024  0.003526  0.015422  0.027067  0.015549  0.041213  0.059306  \n",
       "\n",
       "[5 rows x 86 columns]"
      ]
     },
     "execution_count": 21,
     "metadata": {},
     "output_type": "execute_result"
    }
   ],
   "source": [
    "# Upper triangle of correlations\n",
    "upper = crr.where(np.triu(np.ones(crr.shape), k=1).astype(np.bool))\n",
    "upper.head()"
   ]
  },
  {
   "cell_type": "code",
   "execution_count": 22,
   "metadata": {},
   "outputs": [
    {
     "data": {
      "text/plain": [
       "SD5   SD1     0.992712\n",
       "SD12  SD10    0.883251\n",
       "SD31  SD30    0.999625\n",
       "SD36  SD35    0.999381\n",
       "PO65  PO44    0.981097\n",
       "PO66  PO45    0.906663\n",
       "PO67  PO46    0.984484\n",
       "PO68  PO47    0.907506\n",
       "PO69  PO48    0.894309\n",
       "PO70  PO49    0.923728\n",
       "PO71  PO50    0.901122\n",
       "PO72  PO51    0.962867\n",
       "PO73  PO52    0.913831\n",
       "PO74  PO53    0.908873\n",
       "PO75  PO54    0.967662\n",
       "PO76  PO55    0.852969\n",
       "PO77  PO56    0.898726\n",
       "PO78  PO57    0.979788\n",
       "PO79  PO58    0.959882\n",
       "PO80  PO59    0.869354\n",
       "PO81  PO60    0.942761\n",
       "PO82  PO61    0.894000\n",
       "PO83  PO62    0.933068\n",
       "PO84  PO63    0.865845\n",
       "PO85  PO64    0.964774\n",
       "dtype: float64"
      ]
     },
     "execution_count": 22,
     "metadata": {},
     "output_type": "execute_result"
    }
   ],
   "source": [
    "#print highly correlated features\n",
    "un_crr = upper.unstack()\n",
    "pair_corr = un_crr[un_crr > threshold].drop_duplicates()\n",
    "pair_corr"
   ]
  },
  {
   "cell_type": "code",
   "execution_count": 23,
   "metadata": {},
   "outputs": [
    {
     "data": {
      "text/plain": [
       "CLASS    1.000000\n",
       "PO47     0.137053\n",
       "PO68     0.126768\n",
       "SD43     0.099018\n",
       "PO44     0.098757\n",
       "PO59     0.096709\n",
       "PO65     0.091379\n",
       "SD42     0.085122\n",
       "SD18     0.084835\n",
       "SD16     0.084373\n",
       "PO82     0.082763\n",
       "SD37     0.079035\n",
       "PO61     0.075779\n",
       "SD30     0.075743\n",
       "SD31     0.075283\n",
       "Name: CLASS, dtype: float64"
      ]
     },
     "execution_count": 23,
     "metadata": {},
     "output_type": "execute_result"
    }
   ],
   "source": [
    "#variables correlation with CLASS variable\n",
    "var_class_corr = crr['CLASS'].sort_values(ascending = False)\n",
    "var_class_corr.head(15)"
   ]
  },
  {
   "cell_type": "code",
   "execution_count": 24,
   "metadata": {},
   "outputs": [],
   "source": [
    "#remove one of the two correlated variables which is the least correlated with the target variable\n",
    "def get_toDrop_vars(var_list):\n",
    "    to_drop = []\n",
    "    for i in range(len(var_list)):\n",
    "        nn = var_list.index[i]\n",
    "        if nn in pair_corr:\n",
    "            corr_nn_class = var_list[i]\n",
    "            corr_nn_var = pair_corr[nn]\n",
    "            if var_list[pair_corr[nn].index[0]] > corr_nn_class:\n",
    "                to_drop.append(nn)\n",
    "            else:\n",
    "                to_drop.append(pair_corr[nn].index[0])\n",
    "\n",
    "    return to_drop"
   ]
  },
  {
   "cell_type": "code",
   "execution_count": 25,
   "metadata": {},
   "outputs": [],
   "source": [
    "to_drop = get_toDrop_vars(var_class_corr)"
   ]
  },
  {
   "cell_type": "code",
   "execution_count": 26,
   "metadata": {},
   "outputs": [
    {
     "name": "stdout",
     "output_type": "stream",
     "text": [
      "(9822, 61)\n"
     ]
    }
   ],
   "source": [
    "#drop columns\n",
    "dataset = dataset.drop(columns=to_drop)\n",
    "\n",
    "print(dataset.shape)"
   ]
  },
  {
   "cell_type": "markdown",
   "metadata": {},
   "source": [
    "### Drop Zero importance feature "
   ]
  },
  {
   "cell_type": "code",
   "execution_count": 27,
   "metadata": {},
   "outputs": [],
   "source": [
    "import lightgbm as lgm"
   ]
  },
  {
   "cell_type": "code",
   "execution_count": 28,
   "metadata": {},
   "outputs": [],
   "source": [
    "X_train, y_train = train.loc[:, train.columns.values != \"CLASS\"], train.loc[:, \"CLASS\"]"
   ]
  },
  {
   "cell_type": "code",
   "execution_count": 29,
   "metadata": {},
   "outputs": [
    {
     "data": {
      "text/plain": [
       "LGBMClassifier(boosting_type='gbdt', class_weight=None, colsample_bytree=1.0,\n",
       "        importance_type='split', learning_rate=0.1, max_depth=-1,\n",
       "        min_child_samples=20, min_child_weight=0.001, min_split_gain=0.0,\n",
       "        n_estimators=100, n_jobs=-1, num_leaves=31, objective=None,\n",
       "        random_state=None, reg_alpha=0.0, reg_lambda=0.0, silent=True,\n",
       "        subsample=1.0, subsample_for_bin=200000, subsample_freq=0)"
      ]
     },
     "execution_count": 29,
     "metadata": {},
     "output_type": "execute_result"
    }
   ],
   "source": [
    "my_model = lgm.LGBMClassifier()\n",
    "my_model.fit(X_train, y_train)"
   ]
  },
  {
   "cell_type": "code",
   "execution_count": 30,
   "metadata": {},
   "outputs": [],
   "source": [
    "feature_importance = pd.DataFrame({'Feature':list(X_train.columns), 'Importance':my_model.feature_importances_})"
   ]
  },
  {
   "cell_type": "code",
   "execution_count": 31,
   "metadata": {},
   "outputs": [],
   "source": [
    "#sort by feature importances\n",
    "feature_importance = feature_importance.sort_values(ascending = False, by='Importance')"
   ]
  },
  {
   "cell_type": "code",
   "execution_count": 32,
   "metadata": {},
   "outputs": [
    {
     "data": {
      "text/html": [
       "<div>\n",
       "<style scoped>\n",
       "    .dataframe tbody tr th:only-of-type {\n",
       "        vertical-align: middle;\n",
       "    }\n",
       "\n",
       "    .dataframe tbody tr th {\n",
       "        vertical-align: top;\n",
       "    }\n",
       "\n",
       "    .dataframe thead th {\n",
       "        text-align: right;\n",
       "    }\n",
       "</style>\n",
       "<table border=\"1\" class=\"dataframe\">\n",
       "  <thead>\n",
       "    <tr style=\"text-align: right;\">\n",
       "      <th></th>\n",
       "      <th>Feature</th>\n",
       "      <th>Importance</th>\n",
       "    </tr>\n",
       "  </thead>\n",
       "  <tbody>\n",
       "    <tr>\n",
       "      <th>0</th>\n",
       "      <td>SD1</td>\n",
       "      <td>179</td>\n",
       "    </tr>\n",
       "    <tr>\n",
       "      <th>58</th>\n",
       "      <td>PO59</td>\n",
       "      <td>171</td>\n",
       "    </tr>\n",
       "    <tr>\n",
       "      <th>46</th>\n",
       "      <td>PO47</td>\n",
       "      <td>117</td>\n",
       "    </tr>\n",
       "    <tr>\n",
       "      <th>36</th>\n",
       "      <td>SD37</td>\n",
       "      <td>83</td>\n",
       "    </tr>\n",
       "    <tr>\n",
       "      <th>22</th>\n",
       "      <td>SD23</td>\n",
       "      <td>83</td>\n",
       "    </tr>\n",
       "    <tr>\n",
       "      <th>8</th>\n",
       "      <td>SD9</td>\n",
       "      <td>78</td>\n",
       "    </tr>\n",
       "    <tr>\n",
       "      <th>25</th>\n",
       "      <td>SD26</td>\n",
       "      <td>76</td>\n",
       "    </tr>\n",
       "    <tr>\n",
       "      <th>6</th>\n",
       "      <td>SD7</td>\n",
       "      <td>75</td>\n",
       "    </tr>\n",
       "    <tr>\n",
       "      <th>21</th>\n",
       "      <td>SD22</td>\n",
       "      <td>71</td>\n",
       "    </tr>\n",
       "    <tr>\n",
       "      <th>31</th>\n",
       "      <td>SD32</td>\n",
       "      <td>71</td>\n",
       "    </tr>\n",
       "    <tr>\n",
       "      <th>42</th>\n",
       "      <td>SD43</td>\n",
       "      <td>71</td>\n",
       "    </tr>\n",
       "    <tr>\n",
       "      <th>17</th>\n",
       "      <td>SD18</td>\n",
       "      <td>67</td>\n",
       "    </tr>\n",
       "    <tr>\n",
       "      <th>38</th>\n",
       "      <td>SD39</td>\n",
       "      <td>65</td>\n",
       "    </tr>\n",
       "    <tr>\n",
       "      <th>27</th>\n",
       "      <td>SD28</td>\n",
       "      <td>64</td>\n",
       "    </tr>\n",
       "    <tr>\n",
       "      <th>43</th>\n",
       "      <td>PO44</td>\n",
       "      <td>64</td>\n",
       "    </tr>\n",
       "  </tbody>\n",
       "</table>\n",
       "</div>"
      ],
      "text/plain": [
       "   Feature  Importance\n",
       "0      SD1         179\n",
       "58    PO59         171\n",
       "46    PO47         117\n",
       "36    SD37          83\n",
       "22    SD23          83\n",
       "8      SD9          78\n",
       "25    SD26          76\n",
       "6      SD7          75\n",
       "21    SD22          71\n",
       "31    SD32          71\n",
       "42    SD43          71\n",
       "17    SD18          67\n",
       "38    SD39          65\n",
       "27    SD28          64\n",
       "43    PO44          64"
      ]
     },
     "execution_count": 32,
     "metadata": {},
     "output_type": "execute_result"
    }
   ],
   "source": [
    "feature_importance.head(15)"
   ]
  },
  {
   "cell_type": "code",
   "execution_count": 33,
   "metadata": {},
   "outputs": [
    {
     "data": {
      "text/html": [
       "<div>\n",
       "<style scoped>\n",
       "    .dataframe tbody tr th:only-of-type {\n",
       "        vertical-align: middle;\n",
       "    }\n",
       "\n",
       "    .dataframe tbody tr th {\n",
       "        vertical-align: top;\n",
       "    }\n",
       "\n",
       "    .dataframe thead th {\n",
       "        text-align: right;\n",
       "    }\n",
       "</style>\n",
       "<table border=\"1\" class=\"dataframe\">\n",
       "  <thead>\n",
       "    <tr style=\"text-align: right;\">\n",
       "      <th></th>\n",
       "      <th>Feature</th>\n",
       "      <th>Importance</th>\n",
       "    </tr>\n",
       "  </thead>\n",
       "  <tbody>\n",
       "    <tr>\n",
       "      <th>59</th>\n",
       "      <td>PO60</td>\n",
       "      <td>0</td>\n",
       "    </tr>\n",
       "    <tr>\n",
       "      <th>74</th>\n",
       "      <td>PO75</td>\n",
       "      <td>0</td>\n",
       "    </tr>\n",
       "    <tr>\n",
       "      <th>83</th>\n",
       "      <td>PO84</td>\n",
       "      <td>0</td>\n",
       "    </tr>\n",
       "    <tr>\n",
       "      <th>81</th>\n",
       "      <td>PO82</td>\n",
       "      <td>0</td>\n",
       "    </tr>\n",
       "    <tr>\n",
       "      <th>80</th>\n",
       "      <td>PO81</td>\n",
       "      <td>0</td>\n",
       "    </tr>\n",
       "    <tr>\n",
       "      <th>4</th>\n",
       "      <td>SD5</td>\n",
       "      <td>0</td>\n",
       "    </tr>\n",
       "    <tr>\n",
       "      <th>78</th>\n",
       "      <td>PO79</td>\n",
       "      <td>0</td>\n",
       "    </tr>\n",
       "    <tr>\n",
       "      <th>77</th>\n",
       "      <td>PO78</td>\n",
       "      <td>0</td>\n",
       "    </tr>\n",
       "    <tr>\n",
       "      <th>76</th>\n",
       "      <td>PO77</td>\n",
       "      <td>0</td>\n",
       "    </tr>\n",
       "    <tr>\n",
       "      <th>72</th>\n",
       "      <td>PO73</td>\n",
       "      <td>0</td>\n",
       "    </tr>\n",
       "    <tr>\n",
       "      <th>73</th>\n",
       "      <td>PO74</td>\n",
       "      <td>0</td>\n",
       "    </tr>\n",
       "    <tr>\n",
       "      <th>71</th>\n",
       "      <td>PO72</td>\n",
       "      <td>0</td>\n",
       "    </tr>\n",
       "    <tr>\n",
       "      <th>70</th>\n",
       "      <td>PO71</td>\n",
       "      <td>0</td>\n",
       "    </tr>\n",
       "    <tr>\n",
       "      <th>69</th>\n",
       "      <td>PO70</td>\n",
       "      <td>0</td>\n",
       "    </tr>\n",
       "    <tr>\n",
       "      <th>68</th>\n",
       "      <td>PO69</td>\n",
       "      <td>0</td>\n",
       "    </tr>\n",
       "    <tr>\n",
       "      <th>49</th>\n",
       "      <td>PO50</td>\n",
       "      <td>0</td>\n",
       "    </tr>\n",
       "    <tr>\n",
       "      <th>66</th>\n",
       "      <td>PO67</td>\n",
       "      <td>0</td>\n",
       "    </tr>\n",
       "    <tr>\n",
       "      <th>65</th>\n",
       "      <td>PO66</td>\n",
       "      <td>0</td>\n",
       "    </tr>\n",
       "    <tr>\n",
       "      <th>64</th>\n",
       "      <td>PO65</td>\n",
       "      <td>0</td>\n",
       "    </tr>\n",
       "    <tr>\n",
       "      <th>52</th>\n",
       "      <td>PO53</td>\n",
       "      <td>0</td>\n",
       "    </tr>\n",
       "    <tr>\n",
       "      <th>84</th>\n",
       "      <td>PO85</td>\n",
       "      <td>0</td>\n",
       "    </tr>\n",
       "  </tbody>\n",
       "</table>\n",
       "</div>"
      ],
      "text/plain": [
       "   Feature  Importance\n",
       "59    PO60           0\n",
       "74    PO75           0\n",
       "83    PO84           0\n",
       "81    PO82           0\n",
       "80    PO81           0\n",
       "4      SD5           0\n",
       "78    PO79           0\n",
       "77    PO78           0\n",
       "76    PO77           0\n",
       "72    PO73           0\n",
       "73    PO74           0\n",
       "71    PO72           0\n",
       "70    PO71           0\n",
       "69    PO70           0\n",
       "68    PO69           0\n",
       "49    PO50           0\n",
       "66    PO67           0\n",
       "65    PO66           0\n",
       "64    PO65           0\n",
       "52    PO53           0\n",
       "84    PO85           0"
      ]
     },
     "execution_count": 33,
     "metadata": {},
     "output_type": "execute_result"
    }
   ],
   "source": [
    "#get feature with 0 importance\n",
    "zero_importance = feature_importance[feature_importance[\"Importance\"] == 0]\n",
    "zero_importance"
   ]
  },
  {
   "cell_type": "code",
   "execution_count": 34,
   "metadata": {},
   "outputs": [
    {
     "data": {
      "text/plain": [
       "Index(['SD1', 'SD2', 'SD3', 'SD4', 'SD6', 'SD7', 'SD8', 'SD9', 'SD10', 'SD11',\n",
       "       'SD13', 'SD14', 'SD15', 'SD16', 'SD17', 'SD18', 'SD19', 'SD20', 'SD21',\n",
       "       'SD22', 'SD23', 'SD24', 'SD25', 'SD26', 'SD27', 'SD28', 'SD29', 'SD30',\n",
       "       'SD32', 'SD33', 'SD34', 'SD35', 'SD37', 'SD38', 'SD39', 'SD40', 'SD41',\n",
       "       'SD42', 'SD43', 'PO44', 'PO45', 'PO47', 'PO51', 'PO54', 'PO56', 'PO57',\n",
       "       'PO58', 'PO59', 'PO64', 'PO76', 'PO83', 'CLASS'],\n",
       "      dtype='object')"
      ]
     },
     "execution_count": 34,
     "metadata": {},
     "output_type": "execute_result"
    }
   ],
   "source": [
    "for i in zero_importance[\"Feature\"]:\n",
    "    for j in dataset.keys():\n",
    "        if i ==j:\n",
    "            dataset = dataset.drop(columns=j)\n",
    "dataset.keys()\n"
   ]
  },
  {
   "cell_type": "markdown",
   "metadata": {},
   "source": [
    "### Exploring sociodemographic variables"
   ]
  },
  {
   "cell_type": "markdown",
   "metadata": {},
   "source": [
    "#### Purchased caravan policy vs social's classes"
   ]
  },
  {
   "cell_type": "code",
   "execution_count": 35,
   "metadata": {},
   "outputs": [
    {
     "data": {
      "text/plain": [
       "<seaborn.axisgrid.FacetGrid at 0x1e4a52b4128>"
      ]
     },
     "execution_count": 35,
     "metadata": {},
     "output_type": "execute_result"
    },
    {
     "data": {
      "image/png": "[encoded data removed]",
      "text/plain": [
       "<Figure size 1296x648 with 1 Axes>"
      ]
     },
     "metadata": {},
     "output_type": "display_data"
    }
   ],
   "source": [
    "db=dataset.loc[dataset['CLASS']==1]\n",
    "SD1=db.loc[:,\"SD1\"]\n",
    "ax=sns.catplot(x=SD1.index, kind=\"count\", palette=\"ch:.25\", data=SD1, height=9, aspect=2)\n",
    "ax.set(xlabel='type of L0', ylabel='population from who said Yes')"
   ]
  },
  {
   "cell_type": "markdown",
   "metadata": {},
   "source": [
    "\n",
    "The majority of people who have agreed about the insurance were medium class and lower class families\n"
   ]
  },
  {
   "cell_type": "markdown",
   "metadata": {},
   "source": [
    "#### Purchased caravan policy vs age's classes"
   ]
  },
  {
   "cell_type": "code",
   "execution_count": 36,
   "metadata": {},
   "outputs": [
    {
     "data": {
      "image/png": "[encoded data removed]",
      "text/plain": [
       "<Figure size 1440x576 with 1 Axes>"
      ]
     },
     "metadata": {},
     "output_type": "display_data"
    }
   ],
   "source": [
    "age_classes = ['20-30', '30-40', '40-50', '50-60', '60-70', '70-80']\n",
    "purchased = dataset.loc[dataset[\"CLASS\"] == 1, \"SD4\"]\n",
    "purchased = purchased.apply(lambda x : age_classes[x-1])\n",
    "#print(purchased)\n",
    "plt.figure(figsize=(20,8))\n",
    "ax = sns.countplot(x=purchased.index, data=purchased);"
   ]
  },
  {
   "cell_type": "markdown",
   "metadata": {},
   "source": [
    "It's clear that people between the age of 30 and 50 represent the majority of caravan's policy holders."
   ]
  },
  {
   "cell_type": "markdown",
   "metadata": {},
   "source": [
    "#### Purchased caravan policy vs work"
   ]
  },
  {
   "cell_type": "code",
   "execution_count": 39,
   "metadata": {},
   "outputs": [
    {
     "data": {
      "image/png": "[encoded data removed]",
      "text/plain": [
       "<Figure size 720x720 with 1 Axes>"
      ]
     },
     "metadata": {},
     "output_type": "display_data"
    },
    {
     "data": {
      "image/png": "[encoded data removed]",
      "text/plain": [
       "<Figure size 720x720 with 1 Axes>"
      ]
     },
     "metadata": {},
     "output_type": "display_data"
    },
    {
     "data": {
      "image/png": "[encoded data removed]",
      "text/plain": [
       "<Figure size 720x720 with 1 Axes>"
      ]
     },
     "metadata": {},
     "output_type": "display_data"
    },
    {
     "data": {
      "image/png": "[encoded data removed]",
      "text/plain": [
       "<Figure size 720x720 with 1 Axes>"
      ]
     },
     "metadata": {},
     "output_type": "display_data"
    },
    {
     "data": {
      "image/png": "[encoded data removed]",
      "text/plain": [
       "<Figure size 720x720 with 1 Axes>"
      ]
     },
     "metadata": {},
     "output_type": "display_data"
    }
   ],
   "source": [
    "SD23=db.loc[:,\"SD23\"]\n",
    "sns.set(style=\"darkgrid\")\n",
    "ax=sns.catplot(x=SD23.index, kind=\"count\", palette=\"ch:.25\", data=SD23,height=10);\n",
    "ax.set(xlabel='Skilled labourers,ouvrier Qualifié', ylabel='population from who said Yes')\n",
    "plt.show()\n",
    "\n",
    "SD20=db.loc[:,\"SD20\"]\n",
    "sns.set(style=\"darkgrid\")\n",
    "ax=sns.catplot(x=SD20.index, kind=\"count\", palette=\"ch:.25\", data=SD20,height=10);\n",
    "ax.set(xlabel='Entrepreneur', ylabel='population from who said Yes')\n",
    "plt.show()\n",
    "SD21=db.loc[:,\"SD21\"]\n",
    "sns.set(style=\"darkgrid\")\n",
    "ax=sns.catplot(x=SD21.index, kind=\"count\", palette=\"ch:.25\", data=SD21,height=10);\n",
    "ax.set(xlabel='Farmer', ylabel='population from who said Yes')\n",
    "plt.show()\n",
    "SD22=db.loc[:,\"SD22\"]\n",
    "sns.set(style=\"darkgrid\")\n",
    "ax=sns.catplot(x=SD22.index, kind=\"count\", palette=\"ch:.25\", data=SD22,height=10);\n",
    "ax.set(xlabel='Middle management', ylabel='population from who said Yes')\n",
    "plt.show()\n",
    "SD24=db.loc[:,\"SD24\"]\n",
    "sns.set(style=\"darkgrid\")\n",
    "ax=sns.catplot(x=SD24.index, kind=\"count\", palette=\"ch:.25\", data=SD24,height=10);\n",
    "ax.set(xlabel='Unskilled labourers', ylabel='population from who said Yes')\n",
    "plt.show()\n"
   ]
  },
  {
   "cell_type": "markdown",
   "metadata": {},
   "source": [
    "we can see that the majority of labours are qualified (less than 36% of unskilled labourers) with less than 20% entreprenors , and most of them live in the city ( since they are not farmers ),less than 50% are unskilled labourers\n",
    "\n"
   ]
  },
  {
   "cell_type": "markdown",
   "metadata": {},
   "source": [
    "#### Purchased caravan policy vs education level\n"
   ]
  },
  {
   "cell_type": "code",
   "execution_count": 40,
   "metadata": {},
   "outputs": [
    {
     "data": {
      "image/png": "[encoded data removed]",
      "text/plain": [
       "<Figure size 720x720 with 1 Axes>"
      ]
     },
     "metadata": {},
     "output_type": "display_data"
    },
    {
     "data": {
      "image/png": "[encoded data removed]",
      "text/plain": [
       "<Figure size 432x288 with 1 Axes>"
      ]
     },
     "metadata": {},
     "output_type": "display_data"
    }
   ],
   "source": [
    "SD18=db.loc[:,\"SD18\"]\n",
    "sns.set(style=\"darkgrid\")\n",
    "ax=sns.catplot(x=SD18.index, kind=\"count\", palette=\"ch:.25\", data=SD18,height=10);\n",
    "ax.set(xlabel='Lower level education', ylabel='population from who said Yes')\n",
    "plt.show()\n",
    "ax=sns.kdeplot(SD18,shade=True,color=\"green\")"
   ]
  },
  {
   "cell_type": "markdown",
   "metadata": {},
   "source": [
    "#### Purchased caravan policy vs average income"
   ]
  },
  {
   "cell_type": "markdown",
   "metadata": {},
   "source": [
    "It seems that the avg income column describes the percentage of customers near the average income. So we will convert it into a real value of income using the variables \"Income < 30.000\", \"Income 30-45.000\"... which describe the percentage of people in a certain range of income."
   ]
  },
  {
   "cell_type": "code",
   "execution_count": 41,
   "metadata": {},
   "outputs": [],
   "source": [
    "def calc_average_income(df):\n",
    "    #get income related features\n",
    "    income = df.iloc[:, 36:41]\n",
    "\n",
    "    #renaming columns\n",
    "    income.columns=[\"<30.000\", \"30-45.000\", \"45-75.000\", \"75-122.000\", \">123.000\"]\n",
    "\n",
    "    #dictionary of L3(percentage range) as key and average percentage in that range as value \n",
    "    percentage_avg = {0:0, 1:0.5, 2:0.17, 3:0.3, 4:0.43, 5:0.56, 6:0.69, 7:0.82, 8:0.94, 9:1}\n",
    "\n",
    "    income_avg = [15000, 37500, 60000, 98500, 123000]\n",
    "    \n",
    "    #for each column(income range) we get the average income value for the percentage of people in that range\n",
    "    i = 0\n",
    "    for col in income.columns.values:\n",
    "        income[col] = income[col].apply(lambda x : percentage_avg[x])\n",
    "        income[col] *= income_avg[i]\n",
    "        i += 1\n",
    "    \n",
    "    #sum of average income values to get the total average income value\n",
    "    income[\"Average Income\"] = income.sum(axis = 1)\n",
    "    return income[\"Average Income\"]"
   ]
  },
  {
   "cell_type": "code",
   "execution_count": 42,
   "metadata": {},
   "outputs": [],
   "source": [
    "#train[\"SD42\"] = calc_average_income(train)\n",
    "#test[\"SD42\"] = calc_average_income(test)\n",
    "dataset['SD42'] = calc_average_income(dataset)"
   ]
  },
  {
   "cell_type": "code",
   "execution_count": 43,
   "metadata": {},
   "outputs": [
    {
     "data": {
      "image/png": "[encoded data removed]",
      "text/plain": [
       "<Figure size 1440x576 with 1 Axes>"
      ]
     },
     "metadata": {},
     "output_type": "display_data"
    }
   ],
   "source": [
    "plt.figure(figsize=(20,8))\n",
    "plt.hist(x = dataset[dataset[\"CLASS\"] == 1][\"SD42\"]);\n"
   ]
  },
  {
   "cell_type": "markdown",
   "metadata": {},
   "source": [
    "In the above graph, we come to know that middle income customers with income ranging from 35000 to 60000 are more likely to have a caravan policy than those with a really high income."
   ]
  },
  {
   "cell_type": "markdown",
   "metadata": {},
   "source": [
    "#### Purchased caravan policy vs No car feature"
   ]
  },
  {
   "cell_type": "code",
   "execution_count": 44,
   "metadata": {},
   "outputs": [
    {
     "data": {
      "text/plain": [
       "0    1\n",
       "1    2\n",
       "2    2\n",
       "3    0\n",
       "4    1\n",
       "Name: SD34, dtype: int64"
      ]
     },
     "execution_count": 44,
     "metadata": {},
     "output_type": "execute_result"
    }
   ],
   "source": [
    "dataset['SD34'].head()"
   ]
  },
  {
   "cell_type": "code",
   "execution_count": 50,
   "metadata": {},
   "outputs": [
    {
     "data": {
      "image/png": "[encoded data removed]",
      "text/plain": [
       "<Figure size 720x576 with 1 Axes>"
      ]
     },
     "metadata": {},
     "output_type": "display_data"
    }
   ],
   "source": [
    "\n",
    "plt.figure(figsize=(10,8))\n",
    "pourc = ['0%', '1-10%', '11-23%', '24-36%', '37-49%', '50-62%', '63-75%', '76-88%', '89-99%', '100%']\n",
    "dataset[dataset['CLASS'] == 1]['SD34'].value_counts().plot(kind = 'pie', labels=pourc);"
   ]
  },
  {
   "cell_type": "markdown",
   "metadata": {},
   "source": [
    "The most caravan assurance policy holders live in areas where the majority of people have cars."
   ]
  },
  {
   "cell_type": "code",
   "execution_count": 52,
   "metadata": {},
   "outputs": [
    {
     "data": {
      "image/png": "[encoded data removed]",
      "text/plain": [
       "<Figure size 864x720 with 1 Axes>"
      ]
     },
     "metadata": {},
     "output_type": "display_data"
    }
   ],
   "source": [
    "plt.figure(figsize=(12, 10))\n",
    "pourc = ['0%', '1-10%', '11-23%', '24-36%', '37-49%', '50-62%', '63-75%', '76-88%', '89-99%', '100%']\n",
    "dataset[dataset['CLASS'] == 1]['SD32'].value_counts().plot(kind = 'pie', labels=pourc, \n",
    "                                                              title=\"Pourcentage of 1 car owners\");"
   ]
  },
  {
   "cell_type": "code",
   "execution_count": 54,
   "metadata": {},
   "outputs": [
    {
     "data": {
      "image/png": "[encoded data removed]",
      "text/plain": [
       "<Figure size 864x720 with 1 Axes>"
      ]
     },
     "metadata": {},
     "output_type": "display_data"
    }
   ],
   "source": [
    "plt.figure(figsize=(12, 10))\n",
    "pourc = ['0%', '1-10%', '11-23%', '24-36%', '37-49%', '50-62%', '63-75%', '76-88%', '89-99%', '100%']\n",
    "dataset[dataset['CLASS'] == 1]['SD33'].value_counts().plot(kind = 'pie', labels=pourc, \n",
    "                                                               title=\"Pourcentage of 2 car owners\");"
   ]
  },
  {
   "cell_type": "markdown",
   "metadata": {},
   "source": [
    "The most caravan assurance policy holders live in areas where the majority of people have cars."
   ]
  },
  {
   "cell_type": "code",
   "execution_count": 55,
   "metadata": {},
   "outputs": [
    {
     "data": {
      "image/png": "[encoded data removed]",
      "text/plain": [
       "<Figure size 1440x576 with 1 Axes>"
      ]
     },
     "metadata": {},
     "output_type": "display_data"
    }
   ],
   "source": [
    "plt.figure(figsize=(20, 8))\n",
    "dataset[dataset['CLASS'] == 1]['PO47'].value_counts().plot(kind = \"bar\");"
   ]
  },
  {
   "cell_type": "markdown",
   "metadata": {},
   "source": [
    "1000 – 4999"
   ]
  },
  {
   "cell_type": "markdown",
   "metadata": {},
   "source": [
    "### Exploring proprietary variables\n"
   ]
  },
  {
   "cell_type": "markdown",
   "metadata": {},
   "source": [
    "### contribution car policy "
   ]
  },
  {
   "cell_type": "code",
   "execution_count": 45,
   "metadata": {},
   "outputs": [
    {
     "data": {
      "image/png": "[encoded data removed]",
      "text/plain": [
       "<Figure size 720x720 with 1 Axes>"
      ]
     },
     "metadata": {},
     "output_type": "display_data"
    },
    {
     "data": {
      "text/plain": [
       "<matplotlib.axes._subplots.AxesSubplot at 0x1e4a5d9c588>"
      ]
     },
     "execution_count": 45,
     "metadata": {},
     "output_type": "execute_result"
    },
    {
     "data": {
      "image/png": "[encoded data removed]",
      "text/plain": [
       "<Figure size 432x288 with 1 Axes>"
      ]
     },
     "metadata": {},
     "output_type": "display_data"
    }
   ],
   "source": [
    "PO47=db.loc[:,\"PO47\"]\n",
    "sns.set(style=\"darkgrid\")\n",
    "ax=sns.catplot(x=PO47.index, kind=\"count\", palette=\"ch:.25\", data=PO47,height=10);\n",
    "ax.set(xlabel='PPERSAUT Contribution car policies', ylabel='population from who said Yes')\n",
    "plt.show()\n",
    "sns.boxplot(PO47)"
   ]
  },
  {
   "cell_type": "markdown",
   "metadata": {},
   "source": [
    "### the population who said yes where who contributed the most at car policies\n"
   ]
  },
  {
   "cell_type": "markdown",
   "metadata": {},
   "source": [
    "## Conclusion : \n",
    "#### the profil who are considered to have the profile to accept the insurance offer are the ones who are good workers, live in the city of course(where majority of people have cars) , are a part of the middle or the low class with a large family and contribute to car policies , we can see that are more likely to have a caravan policy than ritch people.the Age of custumors who are more likely to accept the offer are between 30 and 50 years old."
   ]
  }
 ],
 "metadata": {
  "kernelspec": {
   "display_name": "Python 3",
   "language": "python",
   "name": "python3"
  },
  "language_info": {
   "codemirror_mode": {
    "name": "ipython",
    "version": 3
   },
   "file_extension": ".py",
   "mimetype": "text/x-python",
   "name": "python",
   "nbconvert_exporter": "python",
   "pygments_lexer": "ipython3",
   "version": "3.6.5"
  }
 },
 "nbformat": 4,
 "nbformat_minor": 2
}
