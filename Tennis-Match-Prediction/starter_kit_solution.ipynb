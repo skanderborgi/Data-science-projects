{
  "nbformat": 4,
  "nbformat_minor": 0,
  "metadata": {
    "colab": {
      "name": "starter_kit (1).ipynb",
      "provenance": [],
      "collapsed_sections": []
    },
    "kernelspec": {
      "name": "python3",
      "display_name": "Python 3"
    },
    "language_info": {
      "codemirror_mode": {
        "name": "ipython",
        "version": 3
      },
      "file_extension": ".py",
      "mimetype": "text/x-python",
      "name": "python",
      "nbconvert_exporter": "python",
      "pygments_lexer": "ipython3",
      "version": "3.7.4"
    },
    "accelerator": "TPU"
  },
  "cells": [
    {
      "cell_type": "code",
      "metadata": {
        "colab_type": "code",
        "id": "xO3O43j-Guc1",
        "colab": {}
      },
      "source": [
        "import pandas as pd\n",
        "from urllib.request import urlopen  \n",
        "import os.path as osp\n",
        "import os\n",
        "import logging\n",
        "import zipfile\n",
        "from glob import glob\n",
        "logging.getLogger().setLevel('INFO')"
      ],
      "execution_count": 0,
      "outputs": []
    },
    {
      "cell_type": "markdown",
      "metadata": {
        "colab_type": "text",
        "id": "waKFlR_tGudC"
      },
      "source": [
        "## Helpers"
      ]
    },
    {
      "cell_type": "code",
      "metadata": {
        "colab_type": "code",
        "id": "rno-li72GudG",
        "colab": {}
      },
      "source": [
        "def download_file(url_str, path):\n",
        "    url = urlopen(url_str)\n",
        "    output = open(path, 'wb')       \n",
        "    output.write(url.read())\n",
        "    output.close()  \n",
        "    \n",
        "def extract_file(archive_path, target_dir):\n",
        "    zip_file = zipfile.ZipFile(archive_path, 'r')\n",
        "    zip_file.extractall(target_dir)\n",
        "    zip_file.close()"
      ],
      "execution_count": 0,
      "outputs": []
    },
    {
      "cell_type": "markdown",
      "metadata": {
        "colab_type": "text",
        "id": "vWwb1SMXGudP"
      },
      "source": [
        "## Download the dataset"
      ]
    },
    {
      "cell_type": "code",
      "metadata": {
        "colab_type": "code",
        "id": "mmGSQqGtGudS",
        "outputId": "d5438e32-83e2-41e1-aacb-522280efeae6",
        "colab": {
          "base_uri": "https://localhost:8080/",
          "height": 806
        }
      },
      "source": [
        "BASE_URL = 'http://tennis-data.co.uk'\n",
        "DATA_DIR = \"tennis_data\"\n",
        "ATP_DIR = './{}/ATP'.format(DATA_DIR)\n",
        "WTA_DIR = './{}/WTA'.format(DATA_DIR)\n",
        "\n",
        "ATP_URLS = [BASE_URL + \"/%i/%i.zip\" % (i,i) for i in range(2000,2019)]\n",
        "WTA_URLS = [BASE_URL + \"/%iw/%i.zip\" % (i,i) for i in range(2007,2019)]\n",
        "\n",
        "os.makedirs(osp.join(ATP_DIR, 'archives'), exist_ok=True)\n",
        "os.makedirs(osp.join(WTA_DIR, 'archives'), exist_ok=True)\n",
        "\n",
        "for files, directory in ((ATP_URLS, ATP_DIR), (WTA_URLS, WTA_DIR)):\n",
        "    for dl_path in files:\n",
        "        logging.info(\"downloading & extracting file %s\", dl_path)\n",
        "        archive_path = osp.join(directory, 'archives', osp.basename(dl_path))\n",
        "        download_file(dl_path, archive_path)\n",
        "        extract_file(archive_path, directory)\n",
        "    \n",
        "ATP_FILES = sorted(glob(\"%s/*.xls*\" % ATP_DIR))\n",
        "WTA_FILES = sorted(glob(\"%s/*.xls*\" % WTA_DIR))\n",
        "\n",
        "df_atp = pd.concat([pd.read_excel(f) for f in ATP_FILES], ignore_index=True)\n",
        "df_wta = pd.concat([pd.read_excel(f) for f in WTA_FILES], ignore_index=True)\n",
        "\n",
        "logging.info(\"%i matches ATP in df_atp\", df_atp.shape[0])\n",
        "logging.info(\"%i matches WTA in df_wta\", df_wta.shape[0])"
      ],
      "execution_count": 3,
      "outputs": [
        {
          "output_type": "stream",
          "text": [
            "INFO:root:downloading & extracting file http://tennis-data.co.uk/2000/2000.zip\n",
            "INFO:root:downloading & extracting file http://tennis-data.co.uk/2001/2001.zip\n",
            "INFO:root:downloading & extracting file http://tennis-data.co.uk/2002/2002.zip\n",
            "INFO:root:downloading & extracting file http://tennis-data.co.uk/2003/2003.zip\n",
            "INFO:root:downloading & extracting file http://tennis-data.co.uk/2004/2004.zip\n",
            "INFO:root:downloading & extracting file http://tennis-data.co.uk/2005/2005.zip\n",
            "INFO:root:downloading & extracting file http://tennis-data.co.uk/2006/2006.zip\n",
            "INFO:root:downloading & extracting file http://tennis-data.co.uk/2007/2007.zip\n",
            "INFO:root:downloading & extracting file http://tennis-data.co.uk/2008/2008.zip\n",
            "INFO:root:downloading & extracting file http://tennis-data.co.uk/2009/2009.zip\n",
            "INFO:root:downloading & extracting file http://tennis-data.co.uk/2010/2010.zip\n",
            "INFO:root:downloading & extracting file http://tennis-data.co.uk/2011/2011.zip\n",
            "INFO:root:downloading & extracting file http://tennis-data.co.uk/2012/2012.zip\n",
            "INFO:root:downloading & extracting file http://tennis-data.co.uk/2013/2013.zip\n",
            "INFO:root:downloading & extracting file http://tennis-data.co.uk/2014/2014.zip\n",
            "INFO:root:downloading & extracting file http://tennis-data.co.uk/2015/2015.zip\n",
            "INFO:root:downloading & extracting file http://tennis-data.co.uk/2016/2016.zip\n",
            "INFO:root:downloading & extracting file http://tennis-data.co.uk/2017/2017.zip\n",
            "INFO:root:downloading & extracting file http://tennis-data.co.uk/2018/2018.zip\n",
            "INFO:root:downloading & extracting file http://tennis-data.co.uk/2007w/2007.zip\n",
            "INFO:root:downloading & extracting file http://tennis-data.co.uk/2008w/2008.zip\n",
            "INFO:root:downloading & extracting file http://tennis-data.co.uk/2009w/2009.zip\n",
            "INFO:root:downloading & extracting file http://tennis-data.co.uk/2010w/2010.zip\n",
            "INFO:root:downloading & extracting file http://tennis-data.co.uk/2011w/2011.zip\n",
            "INFO:root:downloading & extracting file http://tennis-data.co.uk/2012w/2012.zip\n",
            "INFO:root:downloading & extracting file http://tennis-data.co.uk/2013w/2013.zip\n",
            "INFO:root:downloading & extracting file http://tennis-data.co.uk/2014w/2014.zip\n",
            "INFO:root:downloading & extracting file http://tennis-data.co.uk/2015w/2015.zip\n",
            "INFO:root:downloading & extracting file http://tennis-data.co.uk/2016w/2016.zip\n",
            "INFO:root:downloading & extracting file http://tennis-data.co.uk/2017w/2017.zip\n",
            "INFO:root:downloading & extracting file http://tennis-data.co.uk/2018w/2018.zip\n",
            "/usr/local/lib/python3.6/dist-packages/ipykernel_launcher.py:22: FutureWarning: Sorting because non-concatenation axis is not aligned. A future version\n",
            "of pandas will change to not sort by default.\n",
            "\n",
            "To accept the future behavior, pass 'sort=False'.\n",
            "\n",
            "To retain the current behavior and silence the warning, pass 'sort=True'.\n",
            "\n",
            "/usr/local/lib/python3.6/dist-packages/ipykernel_launcher.py:23: FutureWarning: Sorting because non-concatenation axis is not aligned. A future version\n",
            "of pandas will change to not sort by default.\n",
            "\n",
            "To accept the future behavior, pass 'sort=False'.\n",
            "\n",
            "To retain the current behavior and silence the warning, pass 'sort=True'.\n",
            "\n",
            "INFO:root:52298 matches ATP in df_atp\n",
            "INFO:root:29581 matches WTA in df_wta\n"
          ],
          "name": "stderr"
        }
      ]
    },
    {
      "cell_type": "markdown",
      "metadata": {
        "colab_type": "text",
        "id": "gB5-DG_rGudb"
      },
      "source": [
        "## Your work"
      ]
    },
    {
      "cell_type": "markdown",
      "metadata": {
        "colab_type": "text",
        "id": "ZQZ6T8699dOS"
      },
      "source": [
        "# General information\n",
        "##### The test has two main parts:\n",
        "\n",
        "\n",
        "* [1 Answering questions](#qe)\n",
        "* [2 Predicting the outcome for each ATP tennis game during the year 2017](#Pr)"
      ]
    },
    {
      "cell_type": "code",
      "metadata": {
        "id": "Uz0_aer8UBqp",
        "colab_type": "code",
        "colab": {}
      },
      "source": [
        "#Importing some packages\n",
        "import numpy as np\n",
        "import matplotlib.pyplot as plt\n",
        "import seaborn as sns\n",
        "import statistics\n",
        "from datetime import datetime\n",
        "import warnings\n",
        "warnings.filterwarnings('ignore')"
      ],
      "execution_count": 0,
      "outputs": []
    },
    {
      "cell_type": "markdown",
      "metadata": {
        "colab_type": "text",
        "id": "I75PvAHV_C8h"
      },
      "source": [
        "First of all let's have a general idea about our dataset then we will dive more in the data exploration section in **Part 2**."
      ]
    },
    {
      "cell_type": "code",
      "metadata": {
        "colab_type": "code",
        "id": "GEkAIc2YGude",
        "outputId": "e57ceb18-d62b-4e15-b9c0-e962d31cb102",
        "colab": {
          "base_uri": "https://localhost:8080/",
          "height": 400
        }
      },
      "source": [
        "df_atp.head()"
      ],
      "execution_count": 43,
      "outputs": [
        {
          "output_type": "execute_result",
          "data": {
            "text/html": [
              "<div>\n",
              "<style scoped>\n",
              "    .dataframe tbody tr th:only-of-type {\n",
              "        vertical-align: middle;\n",
              "    }\n",
              "\n",
              "    .dataframe tbody tr th {\n",
              "        vertical-align: top;\n",
              "    }\n",
              "\n",
              "    .dataframe thead th {\n",
              "        text-align: right;\n",
              "    }\n",
              "</style>\n",
              "<table border=\"1\" class=\"dataframe\">\n",
              "  <thead>\n",
              "    <tr style=\"text-align: right;\">\n",
              "      <th></th>\n",
              "      <th>ATP</th>\n",
              "      <th>AvgL</th>\n",
              "      <th>AvgW</th>\n",
              "      <th>B&amp;WL</th>\n",
              "      <th>B&amp;WW</th>\n",
              "      <th>B365L</th>\n",
              "      <th>B365W</th>\n",
              "      <th>Best of</th>\n",
              "      <th>CBL</th>\n",
              "      <th>CBW</th>\n",
              "      <th>Comment</th>\n",
              "      <th>Court</th>\n",
              "      <th>Date</th>\n",
              "      <th>EXL</th>\n",
              "      <th>EXW</th>\n",
              "      <th>GBL</th>\n",
              "      <th>GBW</th>\n",
              "      <th>IWL</th>\n",
              "      <th>IWW</th>\n",
              "      <th>L1</th>\n",
              "      <th>L2</th>\n",
              "      <th>L3</th>\n",
              "      <th>L4</th>\n",
              "      <th>L5</th>\n",
              "      <th>LBL</th>\n",
              "      <th>LBW</th>\n",
              "      <th>LPts</th>\n",
              "      <th>LRank</th>\n",
              "      <th>Location</th>\n",
              "      <th>Loser</th>\n",
              "      <th>Lsets</th>\n",
              "      <th>MaxL</th>\n",
              "      <th>MaxW</th>\n",
              "      <th>PSL</th>\n",
              "      <th>PSW</th>\n",
              "      <th>Round</th>\n",
              "      <th>SBL</th>\n",
              "      <th>SBW</th>\n",
              "      <th>SJL</th>\n",
              "      <th>SJW</th>\n",
              "      <th>Series</th>\n",
              "      <th>Surface</th>\n",
              "      <th>Tournament</th>\n",
              "      <th>UBL</th>\n",
              "      <th>UBW</th>\n",
              "      <th>W1</th>\n",
              "      <th>W2</th>\n",
              "      <th>W3</th>\n",
              "      <th>W4</th>\n",
              "      <th>W5</th>\n",
              "      <th>WPts</th>\n",
              "      <th>WRank</th>\n",
              "      <th>Winner</th>\n",
              "      <th>Wsets</th>\n",
              "      <th>Winner_VictoryPourc</th>\n",
              "      <th>Loser_VictoryPourc</th>\n",
              "    </tr>\n",
              "  </thead>\n",
              "  <tbody>\n",
              "    <tr>\n",
              "      <th>0</th>\n",
              "      <td>1</td>\n",
              "      <td>NaN</td>\n",
              "      <td>NaN</td>\n",
              "      <td>NaN</td>\n",
              "      <td>NaN</td>\n",
              "      <td>NaN</td>\n",
              "      <td>NaN</td>\n",
              "      <td>3</td>\n",
              "      <td>NaN</td>\n",
              "      <td>NaN</td>\n",
              "      <td>Completed</td>\n",
              "      <td>Outdoor</td>\n",
              "      <td>2000-01-03</td>\n",
              "      <td>NaN</td>\n",
              "      <td>NaN</td>\n",
              "      <td>NaN</td>\n",
              "      <td>NaN</td>\n",
              "      <td>NaN</td>\n",
              "      <td>NaN</td>\n",
              "      <td>4.0</td>\n",
              "      <td>2.0</td>\n",
              "      <td>NaN</td>\n",
              "      <td>NaN</td>\n",
              "      <td>NaN</td>\n",
              "      <td>NaN</td>\n",
              "      <td>NaN</td>\n",
              "      <td>NaN</td>\n",
              "      <td>77.0</td>\n",
              "      <td>Adelaide</td>\n",
              "      <td>Ljubicic I.</td>\n",
              "      <td>0.0</td>\n",
              "      <td>NaN</td>\n",
              "      <td>NaN</td>\n",
              "      <td>NaN</td>\n",
              "      <td>NaN</td>\n",
              "      <td>1st Round</td>\n",
              "      <td>NaN</td>\n",
              "      <td>NaN</td>\n",
              "      <td>NaN</td>\n",
              "      <td>NaN</td>\n",
              "      <td>International</td>\n",
              "      <td>Hard</td>\n",
              "      <td>Australian Hardcourt Championships</td>\n",
              "      <td>NaN</td>\n",
              "      <td>NaN</td>\n",
              "      <td>6.0</td>\n",
              "      <td>6.0</td>\n",
              "      <td>NaN</td>\n",
              "      <td>NaN</td>\n",
              "      <td>NaN</td>\n",
              "      <td>NaN</td>\n",
              "      <td>63.0</td>\n",
              "      <td>Dosedel S.</td>\n",
              "      <td>2.0</td>\n",
              "      <td>0.0</td>\n",
              "      <td>0.0</td>\n",
              "    </tr>\n",
              "    <tr>\n",
              "      <th>1</th>\n",
              "      <td>1</td>\n",
              "      <td>NaN</td>\n",
              "      <td>NaN</td>\n",
              "      <td>NaN</td>\n",
              "      <td>NaN</td>\n",
              "      <td>NaN</td>\n",
              "      <td>NaN</td>\n",
              "      <td>3</td>\n",
              "      <td>NaN</td>\n",
              "      <td>NaN</td>\n",
              "      <td>Completed</td>\n",
              "      <td>Outdoor</td>\n",
              "      <td>2000-01-03</td>\n",
              "      <td>NaN</td>\n",
              "      <td>NaN</td>\n",
              "      <td>NaN</td>\n",
              "      <td>NaN</td>\n",
              "      <td>NaN</td>\n",
              "      <td>NaN</td>\n",
              "      <td>3.0</td>\n",
              "      <td>3.0</td>\n",
              "      <td>NaN</td>\n",
              "      <td>NaN</td>\n",
              "      <td>NaN</td>\n",
              "      <td>NaN</td>\n",
              "      <td>NaN</td>\n",
              "      <td>NaN</td>\n",
              "      <td>56.0</td>\n",
              "      <td>Adelaide</td>\n",
              "      <td>Clement A.</td>\n",
              "      <td>0.0</td>\n",
              "      <td>NaN</td>\n",
              "      <td>NaN</td>\n",
              "      <td>NaN</td>\n",
              "      <td>NaN</td>\n",
              "      <td>1st Round</td>\n",
              "      <td>NaN</td>\n",
              "      <td>NaN</td>\n",
              "      <td>NaN</td>\n",
              "      <td>NaN</td>\n",
              "      <td>International</td>\n",
              "      <td>Hard</td>\n",
              "      <td>Australian Hardcourt Championships</td>\n",
              "      <td>NaN</td>\n",
              "      <td>NaN</td>\n",
              "      <td>6.0</td>\n",
              "      <td>6.0</td>\n",
              "      <td>NaN</td>\n",
              "      <td>NaN</td>\n",
              "      <td>NaN</td>\n",
              "      <td>NaN</td>\n",
              "      <td>5.0</td>\n",
              "      <td>Enqvist T.</td>\n",
              "      <td>2.0</td>\n",
              "      <td>0.0</td>\n",
              "      <td>0.0</td>\n",
              "    </tr>\n",
              "    <tr>\n",
              "      <th>2</th>\n",
              "      <td>1</td>\n",
              "      <td>NaN</td>\n",
              "      <td>NaN</td>\n",
              "      <td>NaN</td>\n",
              "      <td>NaN</td>\n",
              "      <td>NaN</td>\n",
              "      <td>NaN</td>\n",
              "      <td>3</td>\n",
              "      <td>NaN</td>\n",
              "      <td>NaN</td>\n",
              "      <td>Completed</td>\n",
              "      <td>Outdoor</td>\n",
              "      <td>2000-01-03</td>\n",
              "      <td>NaN</td>\n",
              "      <td>NaN</td>\n",
              "      <td>NaN</td>\n",
              "      <td>NaN</td>\n",
              "      <td>NaN</td>\n",
              "      <td>NaN</td>\n",
              "      <td>7.0</td>\n",
              "      <td>5.0</td>\n",
              "      <td>3.0</td>\n",
              "      <td>NaN</td>\n",
              "      <td>NaN</td>\n",
              "      <td>NaN</td>\n",
              "      <td>NaN</td>\n",
              "      <td>NaN</td>\n",
              "      <td>655.0</td>\n",
              "      <td>Adelaide</td>\n",
              "      <td>Baccanello P.</td>\n",
              "      <td>1.0</td>\n",
              "      <td>NaN</td>\n",
              "      <td>NaN</td>\n",
              "      <td>NaN</td>\n",
              "      <td>NaN</td>\n",
              "      <td>1st Round</td>\n",
              "      <td>NaN</td>\n",
              "      <td>NaN</td>\n",
              "      <td>NaN</td>\n",
              "      <td>NaN</td>\n",
              "      <td>International</td>\n",
              "      <td>Hard</td>\n",
              "      <td>Australian Hardcourt Championships</td>\n",
              "      <td>NaN</td>\n",
              "      <td>NaN</td>\n",
              "      <td>6.0</td>\n",
              "      <td>7.0</td>\n",
              "      <td>6.0</td>\n",
              "      <td>NaN</td>\n",
              "      <td>NaN</td>\n",
              "      <td>NaN</td>\n",
              "      <td>40.0</td>\n",
              "      <td>Escude N.</td>\n",
              "      <td>2.0</td>\n",
              "      <td>0.0</td>\n",
              "      <td>0.0</td>\n",
              "    </tr>\n",
              "    <tr>\n",
              "      <th>3</th>\n",
              "      <td>1</td>\n",
              "      <td>NaN</td>\n",
              "      <td>NaN</td>\n",
              "      <td>NaN</td>\n",
              "      <td>NaN</td>\n",
              "      <td>NaN</td>\n",
              "      <td>NaN</td>\n",
              "      <td>3</td>\n",
              "      <td>NaN</td>\n",
              "      <td>NaN</td>\n",
              "      <td>Completed</td>\n",
              "      <td>Outdoor</td>\n",
              "      <td>2000-01-03</td>\n",
              "      <td>NaN</td>\n",
              "      <td>NaN</td>\n",
              "      <td>NaN</td>\n",
              "      <td>NaN</td>\n",
              "      <td>NaN</td>\n",
              "      <td>NaN</td>\n",
              "      <td>1.0</td>\n",
              "      <td>4.0</td>\n",
              "      <td>NaN</td>\n",
              "      <td>NaN</td>\n",
              "      <td>NaN</td>\n",
              "      <td>NaN</td>\n",
              "      <td>NaN</td>\n",
              "      <td>NaN</td>\n",
              "      <td>87.0</td>\n",
              "      <td>Adelaide</td>\n",
              "      <td>Knippschild J.</td>\n",
              "      <td>0.0</td>\n",
              "      <td>NaN</td>\n",
              "      <td>NaN</td>\n",
              "      <td>NaN</td>\n",
              "      <td>NaN</td>\n",
              "      <td>1st Round</td>\n",
              "      <td>NaN</td>\n",
              "      <td>NaN</td>\n",
              "      <td>NaN</td>\n",
              "      <td>NaN</td>\n",
              "      <td>International</td>\n",
              "      <td>Hard</td>\n",
              "      <td>Australian Hardcourt Championships</td>\n",
              "      <td>NaN</td>\n",
              "      <td>NaN</td>\n",
              "      <td>6.0</td>\n",
              "      <td>6.0</td>\n",
              "      <td>NaN</td>\n",
              "      <td>NaN</td>\n",
              "      <td>NaN</td>\n",
              "      <td>NaN</td>\n",
              "      <td>65.0</td>\n",
              "      <td>Federer R.</td>\n",
              "      <td>2.0</td>\n",
              "      <td>0.0</td>\n",
              "      <td>0.0</td>\n",
              "    </tr>\n",
              "    <tr>\n",
              "      <th>4</th>\n",
              "      <td>1</td>\n",
              "      <td>NaN</td>\n",
              "      <td>NaN</td>\n",
              "      <td>NaN</td>\n",
              "      <td>NaN</td>\n",
              "      <td>NaN</td>\n",
              "      <td>NaN</td>\n",
              "      <td>3</td>\n",
              "      <td>NaN</td>\n",
              "      <td>NaN</td>\n",
              "      <td>Completed</td>\n",
              "      <td>Outdoor</td>\n",
              "      <td>2000-01-03</td>\n",
              "      <td>NaN</td>\n",
              "      <td>NaN</td>\n",
              "      <td>NaN</td>\n",
              "      <td>NaN</td>\n",
              "      <td>NaN</td>\n",
              "      <td>NaN</td>\n",
              "      <td>6.0</td>\n",
              "      <td>7.0</td>\n",
              "      <td>4.0</td>\n",
              "      <td>NaN</td>\n",
              "      <td>NaN</td>\n",
              "      <td>NaN</td>\n",
              "      <td>NaN</td>\n",
              "      <td>NaN</td>\n",
              "      <td>198.0</td>\n",
              "      <td>Adelaide</td>\n",
              "      <td>Woodbridge T.</td>\n",
              "      <td>1.0</td>\n",
              "      <td>NaN</td>\n",
              "      <td>NaN</td>\n",
              "      <td>NaN</td>\n",
              "      <td>NaN</td>\n",
              "      <td>1st Round</td>\n",
              "      <td>NaN</td>\n",
              "      <td>NaN</td>\n",
              "      <td>NaN</td>\n",
              "      <td>NaN</td>\n",
              "      <td>International</td>\n",
              "      <td>Hard</td>\n",
              "      <td>Australian Hardcourt Championships</td>\n",
              "      <td>NaN</td>\n",
              "      <td>NaN</td>\n",
              "      <td>7.0</td>\n",
              "      <td>5.0</td>\n",
              "      <td>6.0</td>\n",
              "      <td>NaN</td>\n",
              "      <td>NaN</td>\n",
              "      <td>NaN</td>\n",
              "      <td>81.0</td>\n",
              "      <td>Fromberg R.</td>\n",
              "      <td>2.0</td>\n",
              "      <td>0.0</td>\n",
              "      <td>0.0</td>\n",
              "    </tr>\n",
              "  </tbody>\n",
              "</table>\n",
              "</div>"
            ],
            "text/plain": [
              "   ATP  AvgL  AvgW  ...  Wsets  Winner_VictoryPourc  Loser_VictoryPourc\n",
              "0    1   NaN   NaN  ...    2.0                  0.0                 0.0\n",
              "1    1   NaN   NaN  ...    2.0                  0.0                 0.0\n",
              "2    1   NaN   NaN  ...    2.0                  0.0                 0.0\n",
              "3    1   NaN   NaN  ...    2.0                  0.0                 0.0\n",
              "4    1   NaN   NaN  ...    2.0                  0.0                 0.0\n",
              "\n",
              "[5 rows x 56 columns]"
            ]
          },
          "metadata": {
            "tags": []
          },
          "execution_count": 43
        }
      ]
    },
    {
      "cell_type": "markdown",
      "metadata": {
        "colab_type": "text",
        "id": "9gWxiFv6AwWW"
      },
      "source": [
        "<a id=\"qe\"></a>\n",
        "## Answering the questions#"
      ]
    },
    {
      "cell_type": "markdown",
      "metadata": {
        "colab_type": "text",
        "id": "EycLzcqR6enB"
      },
      "source": [
        "##### Who are the three ATP players with the most wins ?\n",
        "\n"
      ]
    },
    {
      "cell_type": "code",
      "metadata": {
        "colab_type": "code",
        "id": "5eMBVQN-Hi2a",
        "outputId": "a1f9309d-2633-4763-b206-80aa231c5c2a",
        "colab": {
          "base_uri": "https://localhost:8080/",
          "height": 34
        }
      },
      "source": [
        "df_atp['Winner'].value_counts().nlargest(3).keys()"
      ],
      "execution_count": 44,
      "outputs": [
        {
          "output_type": "execute_result",
          "data": {
            "text/plain": [
              "Index(['Federer R.', 'Nadal R.', 'Djokovic N.'], dtype='object')"
            ]
          },
          "metadata": {
            "tags": []
          },
          "execution_count": 44
        }
      ]
    },
    {
      "cell_type": "markdown",
      "metadata": {
        "colab_type": "text",
        "id": "B_Q7YUBdFHEJ"
      },
      "source": [
        "##### How many sets did the player “​Federer R.” win in total ?"
      ]
    },
    {
      "cell_type": "code",
      "metadata": {
        "id": "9HDLgqZ4FHEP",
        "colab_type": "code",
        "outputId": "9814567f-f5e6-4e04-870f-72466e634536",
        "colab": {
          "base_uri": "https://localhost:8080/",
          "height": 218
        }
      },
      "source": [
        "Winner_WonSets=df_atp.loc[df_atp['Winner'] == 'Federer R.', 'Wsets'] # won sets as Frederer is a winner\n",
        "Winner_WonSets #we can see that there is some Nan Values we have to check it out"
      ],
      "execution_count": 45,
      "outputs": [
        {
          "output_type": "execute_result",
          "data": {
            "text/plain": [
              "3        2.0\n",
              "168      3.0\n",
              "229      3.0\n",
              "316      2.0\n",
              "329      2.0\n",
              "        ... \n",
              "52265    NaN\n",
              "52274    2.0\n",
              "52279    2.0\n",
              "52288    2.0\n",
              "52292    2.0\n",
              "Name: Wsets, Length: 1121, dtype: float64"
            ]
          },
          "metadata": {
            "tags": []
          },
          "execution_count": 45
        }
      ]
    },
    {
      "cell_type": "code",
      "metadata": {
        "id": "4emfiBCDYoiy",
        "colab_type": "code",
        "outputId": "a1709a82-c311-4021-dae5-e236ff53a2ed",
        "colab": {
          "base_uri": "https://localhost:8080/",
          "height": 168
        }
      },
      "source": [
        "Winner_WonSets.describe()# we can change the Nan value with the avg of the wonsets since we don't have so many outliner values"
      ],
      "execution_count": 46,
      "outputs": [
        {
          "output_type": "execute_result",
          "data": {
            "text/plain": [
              "count    1112.000000\n",
              "mean        2.289568\n",
              "std         0.511575\n",
              "min         0.000000\n",
              "25%         2.000000\n",
              "50%         2.000000\n",
              "75%         3.000000\n",
              "max         3.000000\n",
              "Name: Wsets, dtype: float64"
            ]
          },
          "metadata": {
            "tags": []
          },
          "execution_count": 46
        }
      ]
    },
    {
      "cell_type": "code",
      "metadata": {
        "id": "vYpPMClMZiJj",
        "colab_type": "code",
        "outputId": "993c2321-a51c-44f4-f720-c83e8d7bdfa8",
        "colab": {
          "base_uri": "https://localhost:8080/",
          "height": 218
        }
      },
      "source": [
        "Winner_WonSets=Winner_WonSets.fillna(int(df_atp.Wsets.mean()))\n",
        "Winner_WonSets"
      ],
      "execution_count": 47,
      "outputs": [
        {
          "output_type": "execute_result",
          "data": {
            "text/plain": [
              "3        2.0\n",
              "168      3.0\n",
              "229      3.0\n",
              "316      2.0\n",
              "329      2.0\n",
              "        ... \n",
              "52265    2.0\n",
              "52274    2.0\n",
              "52279    2.0\n",
              "52288    2.0\n",
              "52292    2.0\n",
              "Name: Wsets, Length: 1121, dtype: float64"
            ]
          },
          "metadata": {
            "tags": []
          },
          "execution_count": 47
        }
      ]
    },
    {
      "cell_type": "code",
      "metadata": {
        "id": "12g0y1IZQgFt",
        "colab_type": "code",
        "outputId": "60295fb5-a5b6-41a1-be97-cb70558fa48c",
        "colab": {
          "base_uri": "https://localhost:8080/",
          "height": 34
        }
      },
      "source": [
        "Winner_WonSets.sum()"
      ],
      "execution_count": 48,
      "outputs": [
        {
          "output_type": "execute_result",
          "data": {
            "text/plain": [
              "2564.0"
            ]
          },
          "metadata": {
            "tags": []
          },
          "execution_count": 48
        }
      ]
    },
    {
      "cell_type": "code",
      "metadata": {
        "id": "m9Dik0gfHru4",
        "colab_type": "code",
        "outputId": "3a91637f-03ea-416d-e103-bf467db2627a",
        "colab": {
          "base_uri": "https://localhost:8080/",
          "height": 84
        }
      },
      "source": [
        "df_atp.loc[df_atp['Loser'] == 'Federer R.', 'Lsets'].value_counts()\n",
        " # we can see that there is a string (a misstyping error of 1) so we have to make it all an int type"
      ],
      "execution_count": 49,
      "outputs": [
        {
          "output_type": "execute_result",
          "data": {
            "text/plain": [
              "1.0    114\n",
              "0.0     97\n",
              "2.0     18\n",
              "Name: Lsets, dtype: int64"
            ]
          },
          "metadata": {
            "tags": []
          },
          "execution_count": 49
        }
      ]
    },
    {
      "cell_type": "code",
      "metadata": {
        "id": "tx2q1BRdIemM",
        "colab_type": "code",
        "colab": {}
      },
      "source": [
        "df_atp.loc[(df_atp['Loser'] == 'Federer R.')& (df_atp['Lsets'] == \"`1\"), 'Lsets']=1"
      ],
      "execution_count": 0,
      "outputs": []
    },
    {
      "cell_type": "code",
      "metadata": {
        "id": "aXJrY5nQKOvo",
        "colab_type": "code",
        "colab": {}
      },
      "source": [
        "Loser_WonSets=df_atp.loc[df_atp['Loser'] == 'Federer R.', 'Lsets'].value_counts()"
      ],
      "execution_count": 0,
      "outputs": []
    },
    {
      "cell_type": "code",
      "metadata": {
        "id": "x7mua_zMczFi",
        "colab_type": "code",
        "outputId": "78a79ccc-6520-4114-d41e-85141872d563",
        "colab": {
          "base_uri": "https://localhost:8080/",
          "height": 168
        }
      },
      "source": [
        "Loser_WonSets=df_atp.loc[df_atp['Loser'] == 'Federer R.', 'Lsets']\n",
        "Loser_WonSets=pd.to_numeric(Loser_WonSets)\n",
        "Loser_WonSets.describe()"
      ],
      "execution_count": 52,
      "outputs": [
        {
          "output_type": "execute_result",
          "data": {
            "text/plain": [
              "count    229.000000\n",
              "mean       0.655022\n",
              "std        0.620366\n",
              "min        0.000000\n",
              "25%        0.000000\n",
              "50%        1.000000\n",
              "75%        1.000000\n",
              "max        2.000000\n",
              "Name: Lsets, dtype: float64"
            ]
          },
          "metadata": {
            "tags": []
          },
          "execution_count": 52
        }
      ]
    },
    {
      "cell_type": "code",
      "metadata": {
        "id": "MbdTMxLndHOI",
        "colab_type": "code",
        "colab": {}
      },
      "source": [
        "Loser_WonSets=Loser_WonSets.fillna(int(Loser_WonSets.mean()))\n",
        "  "
      ],
      "execution_count": 0,
      "outputs": []
    },
    {
      "cell_type": "code",
      "metadata": {
        "id": "2O7awsDWdL-8",
        "colab_type": "code",
        "outputId": "aac1a6ed-f46e-453f-c307-a15c2138323e",
        "colab": {
          "base_uri": "https://localhost:8080/",
          "height": 34
        }
      },
      "source": [
        "Loser_WonSets.sum()"
      ],
      "execution_count": 54,
      "outputs": [
        {
          "output_type": "execute_result",
          "data": {
            "text/plain": [
              "150.0"
            ]
          },
          "metadata": {
            "tags": []
          },
          "execution_count": 54
        }
      ]
    },
    {
      "cell_type": "code",
      "metadata": {
        "id": "JfxJ5vVceaXS",
        "colab_type": "code",
        "outputId": "7b1af457-5272-49db-97f9-9d4bbdc140c5",
        "colab": {
          "base_uri": "https://localhost:8080/",
          "height": 34
        }
      },
      "source": [
        "print(\"Total wins : {0:.4f}\".format(Loser_WonSets.sum()+Winner_WonSets.sum()))"
      ],
      "execution_count": 55,
      "outputs": [
        {
          "output_type": "stream",
          "text": [
            "Total wins : 2714.0000\n"
          ],
          "name": "stdout"
        }
      ]
    },
    {
      "cell_type": "markdown",
      "metadata": {
        "id": "-DxCmvOLdklp",
        "colab_type": "text"
      },
      "source": [
        "##### How many sets did the player “​Federer R.” win during the years 2016 and 2017 ?\n"
      ]
    },
    {
      "cell_type": "code",
      "metadata": {
        "id": "avz6VKH4evXp",
        "colab_type": "code",
        "outputId": "2f98bd27-0728-44f2-8b41-a753a0182099",
        "colab": {
          "base_uri": "https://localhost:8080/",
          "height": 218
        }
      },
      "source": [
        "df_atp['Date'] = pd.to_datetime(df_atp['Date'])\n",
        "df_atp['Date'].dt.year\n"
      ],
      "execution_count": 56,
      "outputs": [
        {
          "output_type": "execute_result",
          "data": {
            "text/plain": [
              "0        2000\n",
              "1        2000\n",
              "2        2000\n",
              "3        2000\n",
              "4        2000\n",
              "         ... \n",
              "52293    2018\n",
              "52294    2018\n",
              "52295    2018\n",
              "52296    2018\n",
              "52297    2018\n",
              "Name: Date, Length: 52298, dtype: int64"
            ]
          },
          "metadata": {
            "tags": []
          },
          "execution_count": 56
        }
      ]
    },
    {
      "cell_type": "code",
      "metadata": {
        "id": "Fz8cqSVkd79r",
        "colab_type": "code",
        "outputId": "4450c785-f8c4-4ea3-da27-b6839300125d",
        "colab": {
          "base_uri": "https://localhost:8080/",
          "height": 34
        }
      },
      "source": [
        "array = [2016, 2017]\n",
        "Winner_WonSets_Date=df_atp[(df_atp['Winner'] == 'Federer R.') & (df_atp['Date'].dt.year.isin(array))]['Wsets'] # won sets as Frederer is a winner in 2016 and 2017\n",
        "Winner_WonSets_Date=Winner_WonSets_Date.fillna(int(df_atp.Wsets.mean()))\n",
        "Winner_WonSets_Date.sum()"
      ],
      "execution_count": 57,
      "outputs": [
        {
          "output_type": "execute_result",
          "data": {
            "text/plain": [
              "174.0"
            ]
          },
          "metadata": {
            "tags": []
          },
          "execution_count": 57
        }
      ]
    },
    {
      "cell_type": "code",
      "metadata": {
        "id": "b-RbW9GmeMb8",
        "colab_type": "code",
        "outputId": "ca84fa08-21c5-4843-fe98-41febbd4a98a",
        "colab": {
          "base_uri": "https://localhost:8080/",
          "height": 34
        }
      },
      "source": [
        "Loser_WonSets_Date=df_atp[(df_atp['Loser'] == 'Federer R.') & (df_atp['Date'].dt.year.isin(array))]['Lsets']\n",
        "Loser_WonSets_Date.sum()"
      ],
      "execution_count": 58,
      "outputs": [
        {
          "output_type": "execute_result",
          "data": {
            "text/plain": [
              "10.0"
            ]
          },
          "metadata": {
            "tags": []
          },
          "execution_count": 58
        }
      ]
    },
    {
      "cell_type": "code",
      "metadata": {
        "id": "Am1e6-9Shkj6",
        "colab_type": "code",
        "outputId": "8d08b959-745c-4e49-f0cc-6ee65f61b308",
        "colab": {
          "base_uri": "https://localhost:8080/",
          "height": 34
        }
      },
      "source": [
        "print(\"Total wins in 2016 and 2017 : {0:.4f}\".format(Winner_WonSets_Date.sum()+Loser_WonSets_Date.sum()))"
      ],
      "execution_count": 59,
      "outputs": [
        {
          "output_type": "stream",
          "text": [
            "Total wins in 2016 and 2017 : 184.0000\n"
          ],
          "name": "stdout"
        }
      ]
    },
    {
      "cell_type": "markdown",
      "metadata": {
        "id": "u7fBe4WI0LRy",
        "colab_type": "text"
      },
      "source": [
        "##### For each match, what is the percentage of victories of the winner in the past ?\n"
      ]
    },
    {
      "cell_type": "code",
      "metadata": {
        "id": "wVjuEnsVjVmh",
        "colab_type": "code",
        "colab": {}
      },
      "source": [
        "def pourc(Player,CMD):#current match date (CMD)\n",
        "  CMD=datetime.strptime(CMD, '%Y-%m-%d')\n",
        "  wins=df_atp[(df_atp['Winner'] == Player) & (df_atp['Date']<CMD)]\n",
        "  wins=wins.shape[0]\n",
        "  TotalGames=df_atp[((df_atp['Winner'] == Player)|(df_atp['Loser'] == Player) )& (df_atp['Date']<CMD)]\n",
        "  Total=TotalGames.shape[0]\n",
        "  pourcentage=0\n",
        "  if Total>0:\n",
        "    pourcentage=(wins/Total)*100\n",
        "    pourcentage=round(pourcentage,2)\n",
        "  return pourcentage"
      ],
      "execution_count": 0,
      "outputs": []
    },
    {
      "cell_type": "code",
      "metadata": {
        "id": "ttNNDK3l09k1",
        "colab_type": "code",
        "outputId": "0871fb04-d8cb-4400-a1fa-281d555e7b46",
        "colab": {
          "base_uri": "https://localhost:8080/",
          "height": 34
        }
      },
      "source": [
        "print(\"Percentage of victories for the player Knippschild J. \", \"is \",pourc('Knippschild J.','2014-05-03'),\"%\")"
      ],
      "execution_count": 61,
      "outputs": [
        {
          "output_type": "stream",
          "text": [
            "Percentage of victories for the player Knippschild J.  is  33.33 %\n"
          ],
          "name": "stdout"
        }
      ]
    },
    {
      "cell_type": "code",
      "metadata": {
        "id": "l5ZNjTP21Ho6",
        "colab_type": "code",
        "outputId": "46164ef1-4485-4eaf-c341-ad57bb9df4cc",
        "colab": {
          "base_uri": "https://localhost:8080/",
          "height": 34
        }
      },
      "source": [
        "print(\"Percentage of victories for the player Federer R. \", \"is \",pourc('Federer R.','2019-01-11'),\"%\")"
      ],
      "execution_count": 62,
      "outputs": [
        {
          "output_type": "stream",
          "text": [
            "Percentage of victories for the player Federer R.  is  82.85 %\n"
          ],
          "name": "stdout"
        }
      ]
    },
    {
      "cell_type": "markdown",
      "metadata": {
        "id": "wt1VaG5AOhKE",
        "colab_type": "text"
      },
      "source": [
        "<a id=\"Pr\"></a>\n",
        "## Predict the outcome for each ATP tennis game during the year 2017#"
      ]
    },
    {
      "cell_type": "markdown",
      "metadata": {
        "id": "3wrY-uy7Pk2g",
        "colab_type": "text"
      },
      "source": [
        "\n",
        "\n",
        "## 1.   Data preparation process\n",
        "\n"
      ]
    },
    {
      "cell_type": "markdown",
      "metadata": {
        "id": "OrNnuZNMnSD6",
        "colab_type": "text"
      },
      "source": [
        "Before we begin training our model, we need to wrangle the data into a format that is more conducive for machine learnin:<br> We need to convert the columns in the dataset to the correct types. For example,earlier we made sure the date columns are in the datetime format and some numerial columns are either interger or floats, we have to do the same things to other columns. This will help reduce the memory in use and make the feature engineering process easier."
      ]
    },
    {
      "cell_type": "code",
      "metadata": {
        "id": "G_yX1DjUqfMh",
        "colab_type": "code",
        "colab": {}
      },
      "source": [
        "\n",
        "df_atp['Winner_VictoryPourc']=df_atp.apply(lambda x: pourc(x['Winner'], x['Date'].strftime(\"%Y-%m-%d\")), axis=1)"
      ],
      "execution_count": 0,
      "outputs": []
    },
    {
      "cell_type": "code",
      "metadata": {
        "id": "SgK1q2YGutmw",
        "colab_type": "code",
        "colab": {}
      },
      "source": [
        "df_atp['Loser_VictoryPourc']=df_atp.apply(lambda x: pourc(x['Loser'], x['Date'].strftime(\"%Y-%m-%d\")), axis=1)"
      ],
      "execution_count": 0,
      "outputs": []
    },
    {
      "cell_type": "code",
      "metadata": {
        "id": "Y4YTpOyCm8y4",
        "colab_type": "code",
        "colab": {}
      },
      "source": [
        "# we set the **erros** to coerce so any non-numerical values in the numerical columns will return an NA\n",
        "numeric_columns = ['WRank', 'LRank','Wsets','WRank', 'WPts','W1','W2','W3','W4','W5','Winner_VictoryPourc','Loser_VictoryPourc'\n",
        "                    ,'AvgL','AvgW','B&WL','B&WW','B365L','B365W','CBL','CBW','EXL','EXW','GBW','GBL','IWL','IWW','L1',\n",
        "                   'L2','L3','L4','L5','LBL','LBW','LPts','LRank','Lsets','MaxL','MaxW','PSL','PSW','SBL','SBW','SJL',\n",
        "                   'SJW','UBL','UBW','W1','W2','W3','W4','W5','WPts','WRank','Wsets']\n",
        "df_atp[numeric_columns] = df_atp[numeric_columns].apply(pd.to_numeric,errors = 'coerce')"
      ],
      "execution_count": 0,
      "outputs": []
    },
    {
      "cell_type": "markdown",
      "metadata": {
        "id": "V72wClgfv2dd",
        "colab_type": "text"
      },
      "source": [
        "## 2.   Feature exploration and dealing with nans\n",
        "\n"
      ]
    },
    {
      "cell_type": "markdown",
      "metadata": {
        "id": "STm0qbhupOoA",
        "colab_type": "text"
      },
      "source": [
        "I also have to consider a number of features before creating the model to provide me the best results, a heatmap  will help me to do that too .Also, I have to choose a set of features that intuitively made sense and make really affects the game outcome."
      ]
    },
    {
      "cell_type": "code",
      "metadata": {
        "id": "02S9NvLXv1iN",
        "colab_type": "code",
        "outputId": "48c83583-efc9-4cfa-9513-6cdcebd061b4",
        "colab": {
          "base_uri": "https://localhost:8080/",
          "height": 299
        }
      },
      "source": [
        "df = df_atp.loc[:, ['Winner','Loser','AvgL', 'AvgW', 'B&WL', 'B&WW', 'B365L', 'B365W', 'CBL', 'CBW', 'EXL', 'EXW', 'GBL', 'GBW', \\\n",
        "    'IWL', 'IWW', 'L1', 'L2', 'L3', 'L4', 'L5', 'LBL', 'LBW', 'LRank', 'Lsets', 'MaxL', 'MaxW', 'PSL', 'PSW', \\\n",
        "    'SBL', 'SBW', 'SJL', 'SJW', 'UBL', 'UBW', 'W1', 'W2', 'W3', 'W4', 'W5', 'WRank', 'Wsets', \\\n",
        "    'Winner_VictoryPourc', 'Loser_VictoryPourc', \"Date\"]]\n",
        "df.head()"
      ],
      "execution_count": 66,
      "outputs": [
        {
          "output_type": "execute_result",
          "data": {
            "text/html": [
              "<div>\n",
              "<style scoped>\n",
              "    .dataframe tbody tr th:only-of-type {\n",
              "        vertical-align: middle;\n",
              "    }\n",
              "\n",
              "    .dataframe tbody tr th {\n",
              "        vertical-align: top;\n",
              "    }\n",
              "\n",
              "    .dataframe thead th {\n",
              "        text-align: right;\n",
              "    }\n",
              "</style>\n",
              "<table border=\"1\" class=\"dataframe\">\n",
              "  <thead>\n",
              "    <tr style=\"text-align: right;\">\n",
              "      <th></th>\n",
              "      <th>Winner</th>\n",
              "      <th>Loser</th>\n",
              "      <th>AvgL</th>\n",
              "      <th>AvgW</th>\n",
              "      <th>B&amp;WL</th>\n",
              "      <th>B&amp;WW</th>\n",
              "      <th>B365L</th>\n",
              "      <th>B365W</th>\n",
              "      <th>CBL</th>\n",
              "      <th>CBW</th>\n",
              "      <th>EXL</th>\n",
              "      <th>EXW</th>\n",
              "      <th>GBL</th>\n",
              "      <th>GBW</th>\n",
              "      <th>IWL</th>\n",
              "      <th>IWW</th>\n",
              "      <th>L1</th>\n",
              "      <th>L2</th>\n",
              "      <th>L3</th>\n",
              "      <th>L4</th>\n",
              "      <th>L5</th>\n",
              "      <th>LBL</th>\n",
              "      <th>LBW</th>\n",
              "      <th>LRank</th>\n",
              "      <th>Lsets</th>\n",
              "      <th>MaxL</th>\n",
              "      <th>MaxW</th>\n",
              "      <th>PSL</th>\n",
              "      <th>PSW</th>\n",
              "      <th>SBL</th>\n",
              "      <th>SBW</th>\n",
              "      <th>SJL</th>\n",
              "      <th>SJW</th>\n",
              "      <th>UBL</th>\n",
              "      <th>UBW</th>\n",
              "      <th>W1</th>\n",
              "      <th>W2</th>\n",
              "      <th>W3</th>\n",
              "      <th>W4</th>\n",
              "      <th>W5</th>\n",
              "      <th>WRank</th>\n",
              "      <th>Wsets</th>\n",
              "      <th>Winner_VictoryPourc</th>\n",
              "      <th>Loser_VictoryPourc</th>\n",
              "      <th>Date</th>\n",
              "    </tr>\n",
              "  </thead>\n",
              "  <tbody>\n",
              "    <tr>\n",
              "      <th>0</th>\n",
              "      <td>Dosedel S.</td>\n",
              "      <td>Ljubicic I.</td>\n",
              "      <td>NaN</td>\n",
              "      <td>NaN</td>\n",
              "      <td>NaN</td>\n",
              "      <td>NaN</td>\n",
              "      <td>NaN</td>\n",
              "      <td>NaN</td>\n",
              "      <td>NaN</td>\n",
              "      <td>NaN</td>\n",
              "      <td>NaN</td>\n",
              "      <td>NaN</td>\n",
              "      <td>NaN</td>\n",
              "      <td>NaN</td>\n",
              "      <td>NaN</td>\n",
              "      <td>NaN</td>\n",
              "      <td>4.0</td>\n",
              "      <td>2.0</td>\n",
              "      <td>NaN</td>\n",
              "      <td>NaN</td>\n",
              "      <td>NaN</td>\n",
              "      <td>NaN</td>\n",
              "      <td>NaN</td>\n",
              "      <td>77.0</td>\n",
              "      <td>0.0</td>\n",
              "      <td>NaN</td>\n",
              "      <td>NaN</td>\n",
              "      <td>NaN</td>\n",
              "      <td>NaN</td>\n",
              "      <td>NaN</td>\n",
              "      <td>NaN</td>\n",
              "      <td>NaN</td>\n",
              "      <td>NaN</td>\n",
              "      <td>NaN</td>\n",
              "      <td>NaN</td>\n",
              "      <td>6.0</td>\n",
              "      <td>6.0</td>\n",
              "      <td>NaN</td>\n",
              "      <td>NaN</td>\n",
              "      <td>NaN</td>\n",
              "      <td>63.0</td>\n",
              "      <td>2.0</td>\n",
              "      <td>0.0</td>\n",
              "      <td>0.0</td>\n",
              "      <td>2000-01-03</td>\n",
              "    </tr>\n",
              "    <tr>\n",
              "      <th>1</th>\n",
              "      <td>Enqvist T.</td>\n",
              "      <td>Clement A.</td>\n",
              "      <td>NaN</td>\n",
              "      <td>NaN</td>\n",
              "      <td>NaN</td>\n",
              "      <td>NaN</td>\n",
              "      <td>NaN</td>\n",
              "      <td>NaN</td>\n",
              "      <td>NaN</td>\n",
              "      <td>NaN</td>\n",
              "      <td>NaN</td>\n",
              "      <td>NaN</td>\n",
              "      <td>NaN</td>\n",
              "      <td>NaN</td>\n",
              "      <td>NaN</td>\n",
              "      <td>NaN</td>\n",
              "      <td>3.0</td>\n",
              "      <td>3.0</td>\n",
              "      <td>NaN</td>\n",
              "      <td>NaN</td>\n",
              "      <td>NaN</td>\n",
              "      <td>NaN</td>\n",
              "      <td>NaN</td>\n",
              "      <td>56.0</td>\n",
              "      <td>0.0</td>\n",
              "      <td>NaN</td>\n",
              "      <td>NaN</td>\n",
              "      <td>NaN</td>\n",
              "      <td>NaN</td>\n",
              "      <td>NaN</td>\n",
              "      <td>NaN</td>\n",
              "      <td>NaN</td>\n",
              "      <td>NaN</td>\n",
              "      <td>NaN</td>\n",
              "      <td>NaN</td>\n",
              "      <td>6.0</td>\n",
              "      <td>6.0</td>\n",
              "      <td>NaN</td>\n",
              "      <td>NaN</td>\n",
              "      <td>NaN</td>\n",
              "      <td>5.0</td>\n",
              "      <td>2.0</td>\n",
              "      <td>0.0</td>\n",
              "      <td>0.0</td>\n",
              "      <td>2000-01-03</td>\n",
              "    </tr>\n",
              "    <tr>\n",
              "      <th>2</th>\n",
              "      <td>Escude N.</td>\n",
              "      <td>Baccanello P.</td>\n",
              "      <td>NaN</td>\n",
              "      <td>NaN</td>\n",
              "      <td>NaN</td>\n",
              "      <td>NaN</td>\n",
              "      <td>NaN</td>\n",
              "      <td>NaN</td>\n",
              "      <td>NaN</td>\n",
              "      <td>NaN</td>\n",
              "      <td>NaN</td>\n",
              "      <td>NaN</td>\n",
              "      <td>NaN</td>\n",
              "      <td>NaN</td>\n",
              "      <td>NaN</td>\n",
              "      <td>NaN</td>\n",
              "      <td>7.0</td>\n",
              "      <td>5.0</td>\n",
              "      <td>3.0</td>\n",
              "      <td>NaN</td>\n",
              "      <td>NaN</td>\n",
              "      <td>NaN</td>\n",
              "      <td>NaN</td>\n",
              "      <td>655.0</td>\n",
              "      <td>1.0</td>\n",
              "      <td>NaN</td>\n",
              "      <td>NaN</td>\n",
              "      <td>NaN</td>\n",
              "      <td>NaN</td>\n",
              "      <td>NaN</td>\n",
              "      <td>NaN</td>\n",
              "      <td>NaN</td>\n",
              "      <td>NaN</td>\n",
              "      <td>NaN</td>\n",
              "      <td>NaN</td>\n",
              "      <td>6.0</td>\n",
              "      <td>7.0</td>\n",
              "      <td>6.0</td>\n",
              "      <td>NaN</td>\n",
              "      <td>NaN</td>\n",
              "      <td>40.0</td>\n",
              "      <td>2.0</td>\n",
              "      <td>0.0</td>\n",
              "      <td>0.0</td>\n",
              "      <td>2000-01-03</td>\n",
              "    </tr>\n",
              "    <tr>\n",
              "      <th>3</th>\n",
              "      <td>Federer R.</td>\n",
              "      <td>Knippschild J.</td>\n",
              "      <td>NaN</td>\n",
              "      <td>NaN</td>\n",
              "      <td>NaN</td>\n",
              "      <td>NaN</td>\n",
              "      <td>NaN</td>\n",
              "      <td>NaN</td>\n",
              "      <td>NaN</td>\n",
              "      <td>NaN</td>\n",
              "      <td>NaN</td>\n",
              "      <td>NaN</td>\n",
              "      <td>NaN</td>\n",
              "      <td>NaN</td>\n",
              "      <td>NaN</td>\n",
              "      <td>NaN</td>\n",
              "      <td>1.0</td>\n",
              "      <td>4.0</td>\n",
              "      <td>NaN</td>\n",
              "      <td>NaN</td>\n",
              "      <td>NaN</td>\n",
              "      <td>NaN</td>\n",
              "      <td>NaN</td>\n",
              "      <td>87.0</td>\n",
              "      <td>0.0</td>\n",
              "      <td>NaN</td>\n",
              "      <td>NaN</td>\n",
              "      <td>NaN</td>\n",
              "      <td>NaN</td>\n",
              "      <td>NaN</td>\n",
              "      <td>NaN</td>\n",
              "      <td>NaN</td>\n",
              "      <td>NaN</td>\n",
              "      <td>NaN</td>\n",
              "      <td>NaN</td>\n",
              "      <td>6.0</td>\n",
              "      <td>6.0</td>\n",
              "      <td>NaN</td>\n",
              "      <td>NaN</td>\n",
              "      <td>NaN</td>\n",
              "      <td>65.0</td>\n",
              "      <td>2.0</td>\n",
              "      <td>0.0</td>\n",
              "      <td>0.0</td>\n",
              "      <td>2000-01-03</td>\n",
              "    </tr>\n",
              "    <tr>\n",
              "      <th>4</th>\n",
              "      <td>Fromberg R.</td>\n",
              "      <td>Woodbridge T.</td>\n",
              "      <td>NaN</td>\n",
              "      <td>NaN</td>\n",
              "      <td>NaN</td>\n",
              "      <td>NaN</td>\n",
              "      <td>NaN</td>\n",
              "      <td>NaN</td>\n",
              "      <td>NaN</td>\n",
              "      <td>NaN</td>\n",
              "      <td>NaN</td>\n",
              "      <td>NaN</td>\n",
              "      <td>NaN</td>\n",
              "      <td>NaN</td>\n",
              "      <td>NaN</td>\n",
              "      <td>NaN</td>\n",
              "      <td>6.0</td>\n",
              "      <td>7.0</td>\n",
              "      <td>4.0</td>\n",
              "      <td>NaN</td>\n",
              "      <td>NaN</td>\n",
              "      <td>NaN</td>\n",
              "      <td>NaN</td>\n",
              "      <td>198.0</td>\n",
              "      <td>1.0</td>\n",
              "      <td>NaN</td>\n",
              "      <td>NaN</td>\n",
              "      <td>NaN</td>\n",
              "      <td>NaN</td>\n",
              "      <td>NaN</td>\n",
              "      <td>NaN</td>\n",
              "      <td>NaN</td>\n",
              "      <td>NaN</td>\n",
              "      <td>NaN</td>\n",
              "      <td>NaN</td>\n",
              "      <td>7.0</td>\n",
              "      <td>5.0</td>\n",
              "      <td>6.0</td>\n",
              "      <td>NaN</td>\n",
              "      <td>NaN</td>\n",
              "      <td>81.0</td>\n",
              "      <td>2.0</td>\n",
              "      <td>0.0</td>\n",
              "      <td>0.0</td>\n",
              "      <td>2000-01-03</td>\n",
              "    </tr>\n",
              "  </tbody>\n",
              "</table>\n",
              "</div>"
            ],
            "text/plain": [
              "        Winner           Loser  ...  Loser_VictoryPourc       Date\n",
              "0   Dosedel S.     Ljubicic I.  ...                 0.0 2000-01-03\n",
              "1   Enqvist T.      Clement A.  ...                 0.0 2000-01-03\n",
              "2    Escude N.   Baccanello P.  ...                 0.0 2000-01-03\n",
              "3   Federer R.  Knippschild J.  ...                 0.0 2000-01-03\n",
              "4  Fromberg R.   Woodbridge T.  ...                 0.0 2000-01-03\n",
              "\n",
              "[5 rows x 45 columns]"
            ]
          },
          "metadata": {
            "tags": []
          },
          "execution_count": 66
        }
      ]
    },
    {
      "cell_type": "code",
      "metadata": {
        "id": "ttu6OCNjSd4_",
        "colab_type": "code",
        "outputId": "0e4ea693-0b21-42c0-d464-f57e5e08f0c7",
        "colab": {
          "base_uri": "https://localhost:8080/",
          "height": 759
        }
      },
      "source": [
        "import missingno as msno\n",
        "\n",
        "msno.matrix(df.sample(250))#This shows missing values in our data, White fields indicate NA’s in a sample of 250"
      ],
      "execution_count": 67,
      "outputs": [
        {
          "output_type": "execute_result",
          "data": {
            "text/plain": [
              "<matplotlib.axes._subplots.AxesSubplot at 0x7f93637c45f8>"
            ]
          },
          "metadata": {
            "tags": []
          },
          "execution_count": 67
        },
        {
          "output_type": "display_data",
          "data": {
            "image/png": "[encoded data removed]",
            "text/plain": [
              "<Figure size 1800x720 with 2 Axes>"
            ]
          },
          "metadata": {
            "tags": []
          }
        }
      ]
    },
    {
      "cell_type": "code",
      "metadata": {
        "id": "z64A3DeVv1as",
        "colab_type": "code",
        "outputId": "b6e92efd-a8a6-42bc-f719-df81904edf6b",
        "colab": {
          "base_uri": "https://localhost:8080/",
          "height": 762
        }
      },
      "source": [
        "msno.heatmap(df)#The missingno correlation heatmap measures nullity correlation: how strongly the presence or absence of one variable affects the presence of another"
      ],
      "execution_count": 68,
      "outputs": [
        {
          "output_type": "execute_result",
          "data": {
            "text/plain": [
              "<matplotlib.axes._subplots.AxesSubplot at 0x7f9381093c88>"
            ]
          },
          "metadata": {
            "tags": []
          },
          "execution_count": 68
        },
        {
          "output_type": "display_data",
          "data": {
            "image/png": "[encoded data removed]",
            "text/plain": [
              "<Figure size 1440x864 with 2 Axes>"
            ]
          },
          "metadata": {
            "tags": []
          }
        }
      ]
    },
    {
      "cell_type": "markdown",
      "metadata": {
        "id": "LCOK_bDOXta9",
        "colab_type": "text"
      },
      "source": [
        "Nullity correlation ranges from -1 (if one variable appears the other definitely does not) to 0 (variables appearing or not appearing have no effect on one another) to 1 (if one variable appears the other definitely also does).\n",
        "\n",
        "Variables that are always full or always empty have no meaningful correlation, and so are silently removed from the visualization—in this case for instance the Tournament and Winner columns, which are completely filled(does not contain NANs), are not included."
      ]
    },
    {
      "cell_type": "markdown",
      "metadata": {
        "id": "JCqaRGV-GUVt",
        "colab_type": "text"
      },
      "source": [
        "### 2.1   Overview of data missing values\n",
        "\n"
      ]
    },
    {
      "cell_type": "markdown",
      "metadata": {
        "id": "rcinIaQiHEpr",
        "colab_type": "text"
      },
      "source": [
        "As we have seen in the matrix above, The columns with the most NA's are those Match odd and number of games per set (won/lost ) related.Ranks too have some missing values."
      ]
    },
    {
      "cell_type": "code",
      "metadata": {
        "id": "O8CkfRiOv1Xf",
        "colab_type": "code",
        "outputId": "e7874ed1-a541-44af-f149-19bda424aef9",
        "colab": {
          "base_uri": "https://localhost:8080/",
          "height": 50
        }
      },
      "source": [
        "print(\"Percentage of missing values in CBW column : \" + str(np.round(100*np.sum(df.CBW.isna())/len(df), 2))+\"%\")\n",
        "print(\"Percentage of missing values in CBL column : \" + str(np.round(100*np.sum(df.CBL.isna())/len(df), 2))+\"%\")  "
      ],
      "execution_count": 69,
      "outputs": [
        {
          "output_type": "stream",
          "text": [
            "Percentage of missing values in CBW column : 66.53%\n",
            "Percentage of missing values in CBL column : 66.53%\n"
          ],
          "name": "stdout"
        }
      ]
    },
    {
      "cell_type": "code",
      "metadata": {
        "id": "kdAUdN3Zv1KB",
        "colab_type": "code",
        "outputId": "15861651-dbfa-4dbf-d9b5-58044ae4ec67",
        "colab": {
          "base_uri": "https://localhost:8080/",
          "height": 50
        }
      },
      "source": [
        "print(\"Percentage of missing values in WRank column : \" + str(np.round(100*np.sum(df.WRank.isna())/len(df), 2))+\"%\")\n",
        "print(\"Percentage of missing values in LRank column : \" + str(np.round(100*np.sum(df.LRank.isna())/len(df), 2))+\"%\")  "
      ],
      "execution_count": 70,
      "outputs": [
        {
          "output_type": "stream",
          "text": [
            "Percentage of missing values in WRank column : 0.03%\n",
            "Percentage of missing values in LRank column : 0.2%\n"
          ],
          "name": "stdout"
        }
      ]
    },
    {
      "cell_type": "markdown",
      "metadata": {
        "id": "2pAs_tMMLfFF",
        "colab_type": "text"
      },
      "source": [
        "We can drop some columns that has more of 70% of its values is Nan"
      ]
    },
    {
      "cell_type": "code",
      "metadata": {
        "id": "vxL3TtqQv1Ir",
        "colab_type": "code",
        "colab": {}
      },
      "source": [
        "df = df.loc[:, df.isnull().mean() < .7]"
      ],
      "execution_count": 0,
      "outputs": []
    },
    {
      "cell_type": "markdown",
      "metadata": {
        "id": "gYqRjbyXL5Mj",
        "colab_type": "text"
      },
      "source": [
        "Now we will imputer the other columns Nans"
      ]
    },
    {
      "cell_type": "code",
      "metadata": {
        "id": "3VZOiCubv1EH",
        "colab_type": "code",
        "outputId": "bd5be755-5663-484f-e30d-12544c20e5dc",
        "colab": {
          "base_uri": "https://localhost:8080/",
          "height": 299
        }
      },
      "source": [
        "df.head()"
      ],
      "execution_count": 72,
      "outputs": [
        {
          "output_type": "execute_result",
          "data": {
            "text/html": [
              "<div>\n",
              "<style scoped>\n",
              "    .dataframe tbody tr th:only-of-type {\n",
              "        vertical-align: middle;\n",
              "    }\n",
              "\n",
              "    .dataframe tbody tr th {\n",
              "        vertical-align: top;\n",
              "    }\n",
              "\n",
              "    .dataframe thead th {\n",
              "        text-align: right;\n",
              "    }\n",
              "</style>\n",
              "<table border=\"1\" class=\"dataframe\">\n",
              "  <thead>\n",
              "    <tr style=\"text-align: right;\">\n",
              "      <th></th>\n",
              "      <th>Winner</th>\n",
              "      <th>Loser</th>\n",
              "      <th>AvgL</th>\n",
              "      <th>AvgW</th>\n",
              "      <th>B365L</th>\n",
              "      <th>B365W</th>\n",
              "      <th>CBL</th>\n",
              "      <th>CBW</th>\n",
              "      <th>EXL</th>\n",
              "      <th>EXW</th>\n",
              "      <th>L1</th>\n",
              "      <th>L2</th>\n",
              "      <th>L3</th>\n",
              "      <th>LBL</th>\n",
              "      <th>LBW</th>\n",
              "      <th>LRank</th>\n",
              "      <th>Lsets</th>\n",
              "      <th>MaxL</th>\n",
              "      <th>MaxW</th>\n",
              "      <th>PSL</th>\n",
              "      <th>PSW</th>\n",
              "      <th>W1</th>\n",
              "      <th>W2</th>\n",
              "      <th>W3</th>\n",
              "      <th>WRank</th>\n",
              "      <th>Wsets</th>\n",
              "      <th>Winner_VictoryPourc</th>\n",
              "      <th>Loser_VictoryPourc</th>\n",
              "      <th>Date</th>\n",
              "    </tr>\n",
              "  </thead>\n",
              "  <tbody>\n",
              "    <tr>\n",
              "      <th>0</th>\n",
              "      <td>Dosedel S.</td>\n",
              "      <td>Ljubicic I.</td>\n",
              "      <td>NaN</td>\n",
              "      <td>NaN</td>\n",
              "      <td>NaN</td>\n",
              "      <td>NaN</td>\n",
              "      <td>NaN</td>\n",
              "      <td>NaN</td>\n",
              "      <td>NaN</td>\n",
              "      <td>NaN</td>\n",
              "      <td>4.0</td>\n",
              "      <td>2.0</td>\n",
              "      <td>NaN</td>\n",
              "      <td>NaN</td>\n",
              "      <td>NaN</td>\n",
              "      <td>77.0</td>\n",
              "      <td>0.0</td>\n",
              "      <td>NaN</td>\n",
              "      <td>NaN</td>\n",
              "      <td>NaN</td>\n",
              "      <td>NaN</td>\n",
              "      <td>6.0</td>\n",
              "      <td>6.0</td>\n",
              "      <td>NaN</td>\n",
              "      <td>63.0</td>\n",
              "      <td>2.0</td>\n",
              "      <td>0.0</td>\n",
              "      <td>0.0</td>\n",
              "      <td>2000-01-03</td>\n",
              "    </tr>\n",
              "    <tr>\n",
              "      <th>1</th>\n",
              "      <td>Enqvist T.</td>\n",
              "      <td>Clement A.</td>\n",
              "      <td>NaN</td>\n",
              "      <td>NaN</td>\n",
              "      <td>NaN</td>\n",
              "      <td>NaN</td>\n",
              "      <td>NaN</td>\n",
              "      <td>NaN</td>\n",
              "      <td>NaN</td>\n",
              "      <td>NaN</td>\n",
              "      <td>3.0</td>\n",
              "      <td>3.0</td>\n",
              "      <td>NaN</td>\n",
              "      <td>NaN</td>\n",
              "      <td>NaN</td>\n",
              "      <td>56.0</td>\n",
              "      <td>0.0</td>\n",
              "      <td>NaN</td>\n",
              "      <td>NaN</td>\n",
              "      <td>NaN</td>\n",
              "      <td>NaN</td>\n",
              "      <td>6.0</td>\n",
              "      <td>6.0</td>\n",
              "      <td>NaN</td>\n",
              "      <td>5.0</td>\n",
              "      <td>2.0</td>\n",
              "      <td>0.0</td>\n",
              "      <td>0.0</td>\n",
              "      <td>2000-01-03</td>\n",
              "    </tr>\n",
              "    <tr>\n",
              "      <th>2</th>\n",
              "      <td>Escude N.</td>\n",
              "      <td>Baccanello P.</td>\n",
              "      <td>NaN</td>\n",
              "      <td>NaN</td>\n",
              "      <td>NaN</td>\n",
              "      <td>NaN</td>\n",
              "      <td>NaN</td>\n",
              "      <td>NaN</td>\n",
              "      <td>NaN</td>\n",
              "      <td>NaN</td>\n",
              "      <td>7.0</td>\n",
              "      <td>5.0</td>\n",
              "      <td>3.0</td>\n",
              "      <td>NaN</td>\n",
              "      <td>NaN</td>\n",
              "      <td>655.0</td>\n",
              "      <td>1.0</td>\n",
              "      <td>NaN</td>\n",
              "      <td>NaN</td>\n",
              "      <td>NaN</td>\n",
              "      <td>NaN</td>\n",
              "      <td>6.0</td>\n",
              "      <td>7.0</td>\n",
              "      <td>6.0</td>\n",
              "      <td>40.0</td>\n",
              "      <td>2.0</td>\n",
              "      <td>0.0</td>\n",
              "      <td>0.0</td>\n",
              "      <td>2000-01-03</td>\n",
              "    </tr>\n",
              "    <tr>\n",
              "      <th>3</th>\n",
              "      <td>Federer R.</td>\n",
              "      <td>Knippschild J.</td>\n",
              "      <td>NaN</td>\n",
              "      <td>NaN</td>\n",
              "      <td>NaN</td>\n",
              "      <td>NaN</td>\n",
              "      <td>NaN</td>\n",
              "      <td>NaN</td>\n",
              "      <td>NaN</td>\n",
              "      <td>NaN</td>\n",
              "      <td>1.0</td>\n",
              "      <td>4.0</td>\n",
              "      <td>NaN</td>\n",
              "      <td>NaN</td>\n",
              "      <td>NaN</td>\n",
              "      <td>87.0</td>\n",
              "      <td>0.0</td>\n",
              "      <td>NaN</td>\n",
              "      <td>NaN</td>\n",
              "      <td>NaN</td>\n",
              "      <td>NaN</td>\n",
              "      <td>6.0</td>\n",
              "      <td>6.0</td>\n",
              "      <td>NaN</td>\n",
              "      <td>65.0</td>\n",
              "      <td>2.0</td>\n",
              "      <td>0.0</td>\n",
              "      <td>0.0</td>\n",
              "      <td>2000-01-03</td>\n",
              "    </tr>\n",
              "    <tr>\n",
              "      <th>4</th>\n",
              "      <td>Fromberg R.</td>\n",
              "      <td>Woodbridge T.</td>\n",
              "      <td>NaN</td>\n",
              "      <td>NaN</td>\n",
              "      <td>NaN</td>\n",
              "      <td>NaN</td>\n",
              "      <td>NaN</td>\n",
              "      <td>NaN</td>\n",
              "      <td>NaN</td>\n",
              "      <td>NaN</td>\n",
              "      <td>6.0</td>\n",
              "      <td>7.0</td>\n",
              "      <td>4.0</td>\n",
              "      <td>NaN</td>\n",
              "      <td>NaN</td>\n",
              "      <td>198.0</td>\n",
              "      <td>1.0</td>\n",
              "      <td>NaN</td>\n",
              "      <td>NaN</td>\n",
              "      <td>NaN</td>\n",
              "      <td>NaN</td>\n",
              "      <td>7.0</td>\n",
              "      <td>5.0</td>\n",
              "      <td>6.0</td>\n",
              "      <td>81.0</td>\n",
              "      <td>2.0</td>\n",
              "      <td>0.0</td>\n",
              "      <td>0.0</td>\n",
              "      <td>2000-01-03</td>\n",
              "    </tr>\n",
              "  </tbody>\n",
              "</table>\n",
              "</div>"
            ],
            "text/plain": [
              "        Winner           Loser  ...  Loser_VictoryPourc       Date\n",
              "0   Dosedel S.     Ljubicic I.  ...                 0.0 2000-01-03\n",
              "1   Enqvist T.      Clement A.  ...                 0.0 2000-01-03\n",
              "2    Escude N.   Baccanello P.  ...                 0.0 2000-01-03\n",
              "3   Federer R.  Knippschild J.  ...                 0.0 2000-01-03\n",
              "4  Fromberg R.   Woodbridge T.  ...                 0.0 2000-01-03\n",
              "\n",
              "[5 rows x 29 columns]"
            ]
          },
          "metadata": {
            "tags": []
          },
          "execution_count": 72
        }
      ]
    },
    {
      "cell_type": "markdown",
      "metadata": {
        "id": "sbu33fW_MIQH",
        "colab_type": "text"
      },
      "source": [
        "#### Ranking imputation"
      ]
    },
    {
      "cell_type": "markdown",
      "metadata": {
        "id": "s4ayZDTcMfFE",
        "colab_type": "text"
      },
      "source": [
        "We'll try to see some per-player Date - Rank relationship."
      ]
    },
    {
      "cell_type": "code",
      "metadata": {
        "id": "3e8TYLmcv08Z",
        "colab_type": "code",
        "colab": {}
      },
      "source": [
        "import plotnine as pln\n",
        "\n",
        "def rank_per_date(P,df):\n",
        "  winData = df.loc[df.Winner==P,['Date', 'WRank']]\n",
        "  loseData = df.loc[df.Loser==P,['Date','LRank']]\n",
        "    \n",
        "  RankData = pd.DataFrame({'Date':pd.concat([winData.Date, loseData.Date], axis=0), \n",
        "                             'Rank':pd.concat([winData.WRank, loseData.LRank], axis=0)})\n",
        "  RankData.sort_index(axis=0, inplace=True)\n",
        "  RankData['Date'] = RankData['Date'].apply(lambda x : x.year +(x.month-1)/12)\n",
        "  RankData.dropna(inplace=True)\n",
        "  return RankData"
      ],
      "execution_count": 0,
      "outputs": []
    },
    {
      "cell_type": "markdown",
      "metadata": {
        "id": "dq7cuf4KN3G8",
        "colab_type": "text"
      },
      "source": [
        "**Frederer**"
      ]
    },
    {
      "cell_type": "code",
      "metadata": {
        "id": "evwNc-ocv048",
        "colab_type": "code",
        "outputId": "0febc3a2-f97d-48b8-b80c-8ad1a64dd7ae",
        "colab": {
          "base_uri": "https://localhost:8080/",
          "height": 464
        }
      },
      "source": [
        "\n",
        "pln.ggplot(rank_per_date('Federer R.',df), pln.aes(x='Date', y='Rank'))+pln.geom_point(pln.aes(colour='Rank'))+pln.theme_bw()"
      ],
      "execution_count": 74,
      "outputs": [
        {
          "output_type": "display_data",
          "data": {
            "image/png": "[encoded data removed]",
            "text/plain": [
              "<Figure size 640x480 with 1 Axes>"
            ]
          },
          "metadata": {
            "tags": []
          }
        },
        {
          "output_type": "execute_result",
          "data": {
            "text/plain": [
              "<ggplot: (-9223363269916862513)>"
            ]
          },
          "metadata": {
            "tags": []
          },
          "execution_count": 74
        }
      ]
    },
    {
      "cell_type": "markdown",
      "metadata": {
        "id": "oAN8tneuOQxL",
        "colab_type": "text"
      },
      "source": [
        "Dosedel"
      ]
    },
    {
      "cell_type": "code",
      "metadata": {
        "id": "W0YTdgy5v01i",
        "colab_type": "code",
        "outputId": "a5e4bee1-8c3d-4087-9490-934471615447",
        "colab": {
          "base_uri": "https://localhost:8080/",
          "height": 464
        }
      },
      "source": [
        "pln.ggplot(rank_per_date('Dosedel S.',df), pln.aes(x='Date', y='Rank'))+pln.geom_point(pln.aes(colour='Rank'))+pln.theme_bw()"
      ],
      "execution_count": 75,
      "outputs": [
        {
          "output_type": "display_data",
          "data": {
            "image/png": "[encoded data removed]",
            "text/plain": [
              "<Figure size 640x480 with 1 Axes>"
            ]
          },
          "metadata": {
            "tags": []
          }
        },
        {
          "output_type": "execute_result",
          "data": {
            "text/plain": [
              "<ggplot: (8766911908616)>"
            ]
          },
          "metadata": {
            "tags": []
          },
          "execution_count": 75
        }
      ]
    },
    {
      "cell_type": "markdown",
      "metadata": {
        "id": "G-Ovg9TdO28v",
        "colab_type": "text"
      },
      "source": [
        "We can see that there is a linear relationship between rank and date but the shape can variy of course from a player to another one, in this case, we will fit a simple polynomial regression or Imputing using autoimpite package."
      ]
    },
    {
      "cell_type": "code",
      "metadata": {
        "id": "e7B6wmMIdSRk",
        "colab_type": "code",
        "outputId": "0a1ade0d-7721-43eb-becc-d5c4416f264a",
        "colab": {
          "base_uri": "https://localhost:8080/",
          "height": 538
        }
      },
      "source": [
        "  pip install git+https://github.com/kearnz/autoimpute.git"
      ],
      "execution_count": 76,
      "outputs": [
        {
          "output_type": "stream",
          "text": [
            "Collecting git+https://github.com/kearnz/autoimpute.git\n",
            "  Cloning https://github.com/kearnz/autoimpute.git to /tmp/pip-req-build-_d39bcfr\n",
            "  Running command git clone -q https://github.com/kearnz/autoimpute.git /tmp/pip-req-build-_d39bcfr\n",
            "Requirement already satisfied (use --upgrade to upgrade): autoimpute==0.11.6 from git+https://github.com/kearnz/autoimpute.git in /usr/local/lib/python3.6/dist-packages\n",
            "Requirement already satisfied: numpy in /usr/local/lib/python3.6/dist-packages (from autoimpute==0.11.6) (1.17.5)\n",
            "Requirement already satisfied: scipy in /usr/local/lib/python3.6/dist-packages (from autoimpute==0.11.6) (1.4.1)\n",
            "Requirement already satisfied: pandas in /usr/local/lib/python3.6/dist-packages (from autoimpute==0.11.6) (0.25.3)\n",
            "Requirement already satisfied: statsmodels in /usr/local/lib/python3.6/dist-packages (from autoimpute==0.11.6) (0.10.2)\n",
            "Requirement already satisfied: xgboost in /usr/local/lib/python3.6/dist-packages (from autoimpute==0.11.6) (0.90)\n",
            "Requirement already satisfied: scikit-learn in /usr/local/lib/python3.6/dist-packages (from autoimpute==0.11.6) (0.22.1)\n",
            "Requirement already satisfied: pymc3 in /usr/local/lib/python3.6/dist-packages (from autoimpute==0.11.6) (3.7)\n",
            "Requirement already satisfied: seaborn in /usr/local/lib/python3.6/dist-packages (from autoimpute==0.11.6) (0.10.0)\n",
            "Requirement already satisfied: missingno in /usr/local/lib/python3.6/dist-packages (from autoimpute==0.11.6) (0.4.2)\n",
            "Requirement already satisfied: python-dateutil>=2.6.1 in /usr/local/lib/python3.6/dist-packages (from pandas->autoimpute==0.11.6) (2.6.1)\n",
            "Requirement already satisfied: pytz>=2017.2 in /usr/local/lib/python3.6/dist-packages (from pandas->autoimpute==0.11.6) (2018.9)\n",
            "Requirement already satisfied: patsy>=0.4.0 in /usr/local/lib/python3.6/dist-packages (from statsmodels->autoimpute==0.11.6) (0.5.1)\n",
            "Requirement already satisfied: joblib>=0.11 in /usr/local/lib/python3.6/dist-packages (from scikit-learn->autoimpute==0.11.6) (0.14.1)\n",
            "Requirement already satisfied: tqdm>=4.8.4 in /usr/local/lib/python3.6/dist-packages (from pymc3->autoimpute==0.11.6) (4.28.1)\n",
            "Requirement already satisfied: theano>=1.0.4 in /usr/local/lib/python3.6/dist-packages (from pymc3->autoimpute==0.11.6) (1.0.4)\n",
            "Requirement already satisfied: h5py>=2.7.0 in /usr/local/lib/python3.6/dist-packages (from pymc3->autoimpute==0.11.6) (2.8.0)\n",
            "Requirement already satisfied: matplotlib>=2.1.2 in /usr/local/lib/python3.6/dist-packages (from seaborn->autoimpute==0.11.6) (3.1.3)\n",
            "Requirement already satisfied: six>=1.5 in /usr/local/lib/python3.6/dist-packages (from python-dateutil>=2.6.1->pandas->autoimpute==0.11.6) (1.12.0)\n",
            "Requirement already satisfied: cycler>=0.10 in /usr/local/lib/python3.6/dist-packages (from matplotlib>=2.1.2->seaborn->autoimpute==0.11.6) (0.10.0)\n",
            "Requirement already satisfied: kiwisolver>=1.0.1 in /usr/local/lib/python3.6/dist-packages (from matplotlib>=2.1.2->seaborn->autoimpute==0.11.6) (1.1.0)\n",
            "Requirement already satisfied: pyparsing!=2.0.4,!=2.1.2,!=2.1.6,>=2.0.1 in /usr/local/lib/python3.6/dist-packages (from matplotlib>=2.1.2->seaborn->autoimpute==0.11.6) (2.4.6)\n",
            "Requirement already satisfied: setuptools in /usr/local/lib/python3.6/dist-packages (from kiwisolver>=1.0.1->matplotlib>=2.1.2->seaborn->autoimpute==0.11.6) (45.1.0)\n",
            "Building wheels for collected packages: autoimpute\n",
            "  Building wheel for autoimpute (setup.py) ... \u001b[?25l\u001b[?25hdone\n",
            "  Created wheel for autoimpute: filename=autoimpute-0.11.6-py2.py3-none-any.whl size=89957 sha256=972933aa6e433601b0f6215d0be6ec62fb2da2b2c43f30cae83159016bb40516\n",
            "  Stored in directory: /tmp/pip-ephem-wheel-cache-f65yr6n1/wheels/4f/dd/a1/18e3814356af40a7615b271d39cac7c3cd0f92aa67b2a714c1\n",
            "Successfully built autoimpute\n"
          ],
          "name": "stdout"
        }
      ]
    },
    {
      "cell_type": "code",
      "metadata": {
        "id": "Sma-zQw9OEZ1",
        "colab_type": "code",
        "colab": {}
      },
      "source": [
        "from autoimpute.imputations import SingleImputer\n",
        "si = SingleImputer(strategy='mean') \n",
        "imp=si.fit_transform(df._get_numeric_data())"
      ],
      "execution_count": 0,
      "outputs": []
    },
    {
      "cell_type": "code",
      "metadata": {
        "id": "UZia2zk1OEYg",
        "colab_type": "code",
        "colab": {}
      },
      "source": [
        "df = df.join(imp[imp.columns.difference(df.columns)])\n",
        "for column in df.columns:\n",
        "    for c in imp.columns:\n",
        "      if column==c:\n",
        "        df[column]=imp[column]\n"
      ],
      "execution_count": 0,
      "outputs": []
    },
    {
      "cell_type": "code",
      "metadata": {
        "id": "vl3APRDfOEWw",
        "colab_type": "code",
        "outputId": "c7b35a13-8a4c-4277-d6a9-278c82e672e5",
        "colab": {
          "base_uri": "https://localhost:8080/",
          "height": 299
        }
      },
      "source": [
        "df.head()"
      ],
      "execution_count": 79,
      "outputs": [
        {
          "output_type": "execute_result",
          "data": {
            "text/html": [
              "<div>\n",
              "<style scoped>\n",
              "    .dataframe tbody tr th:only-of-type {\n",
              "        vertical-align: middle;\n",
              "    }\n",
              "\n",
              "    .dataframe tbody tr th {\n",
              "        vertical-align: top;\n",
              "    }\n",
              "\n",
              "    .dataframe thead th {\n",
              "        text-align: right;\n",
              "    }\n",
              "</style>\n",
              "<table border=\"1\" class=\"dataframe\">\n",
              "  <thead>\n",
              "    <tr style=\"text-align: right;\">\n",
              "      <th></th>\n",
              "      <th>Winner</th>\n",
              "      <th>Loser</th>\n",
              "      <th>AvgL</th>\n",
              "      <th>AvgW</th>\n",
              "      <th>B365L</th>\n",
              "      <th>B365W</th>\n",
              "      <th>CBL</th>\n",
              "      <th>CBW</th>\n",
              "      <th>EXL</th>\n",
              "      <th>EXW</th>\n",
              "      <th>L1</th>\n",
              "      <th>L2</th>\n",
              "      <th>L3</th>\n",
              "      <th>LBL</th>\n",
              "      <th>LBW</th>\n",
              "      <th>LRank</th>\n",
              "      <th>Lsets</th>\n",
              "      <th>MaxL</th>\n",
              "      <th>MaxW</th>\n",
              "      <th>PSL</th>\n",
              "      <th>PSW</th>\n",
              "      <th>W1</th>\n",
              "      <th>W2</th>\n",
              "      <th>W3</th>\n",
              "      <th>WRank</th>\n",
              "      <th>Wsets</th>\n",
              "      <th>Winner_VictoryPourc</th>\n",
              "      <th>Loser_VictoryPourc</th>\n",
              "      <th>Date</th>\n",
              "    </tr>\n",
              "  </thead>\n",
              "  <tbody>\n",
              "    <tr>\n",
              "      <th>0</th>\n",
              "      <td>Dosedel S.</td>\n",
              "      <td>Ljubicic I.</td>\n",
              "      <td>3.594448</td>\n",
              "      <td>1.834821</td>\n",
              "      <td>3.551805</td>\n",
              "      <td>1.823768</td>\n",
              "      <td>3.000658</td>\n",
              "      <td>1.81208</td>\n",
              "      <td>3.26218</td>\n",
              "      <td>1.802489</td>\n",
              "      <td>4.0</td>\n",
              "      <td>2.0</td>\n",
              "      <td>3.607104</td>\n",
              "      <td>3.451461</td>\n",
              "      <td>1.810226</td>\n",
              "      <td>77.0</td>\n",
              "      <td>0.0</td>\n",
              "      <td>8.326076</td>\n",
              "      <td>1.99861</td>\n",
              "      <td>4.186818</td>\n",
              "      <td>1.926742</td>\n",
              "      <td>6.0</td>\n",
              "      <td>6.0</td>\n",
              "      <td>6.025052</td>\n",
              "      <td>63.0</td>\n",
              "      <td>2.0</td>\n",
              "      <td>0.0</td>\n",
              "      <td>0.0</td>\n",
              "      <td>2000-01-03</td>\n",
              "    </tr>\n",
              "    <tr>\n",
              "      <th>1</th>\n",
              "      <td>Enqvist T.</td>\n",
              "      <td>Clement A.</td>\n",
              "      <td>3.594448</td>\n",
              "      <td>1.834821</td>\n",
              "      <td>3.551805</td>\n",
              "      <td>1.823768</td>\n",
              "      <td>3.000658</td>\n",
              "      <td>1.81208</td>\n",
              "      <td>3.26218</td>\n",
              "      <td>1.802489</td>\n",
              "      <td>3.0</td>\n",
              "      <td>3.0</td>\n",
              "      <td>3.607104</td>\n",
              "      <td>3.451461</td>\n",
              "      <td>1.810226</td>\n",
              "      <td>56.0</td>\n",
              "      <td>0.0</td>\n",
              "      <td>8.326076</td>\n",
              "      <td>1.99861</td>\n",
              "      <td>4.186818</td>\n",
              "      <td>1.926742</td>\n",
              "      <td>6.0</td>\n",
              "      <td>6.0</td>\n",
              "      <td>6.025052</td>\n",
              "      <td>5.0</td>\n",
              "      <td>2.0</td>\n",
              "      <td>0.0</td>\n",
              "      <td>0.0</td>\n",
              "      <td>2000-01-03</td>\n",
              "    </tr>\n",
              "    <tr>\n",
              "      <th>2</th>\n",
              "      <td>Escude N.</td>\n",
              "      <td>Baccanello P.</td>\n",
              "      <td>3.594448</td>\n",
              "      <td>1.834821</td>\n",
              "      <td>3.551805</td>\n",
              "      <td>1.823768</td>\n",
              "      <td>3.000658</td>\n",
              "      <td>1.81208</td>\n",
              "      <td>3.26218</td>\n",
              "      <td>1.802489</td>\n",
              "      <td>7.0</td>\n",
              "      <td>5.0</td>\n",
              "      <td>3.000000</td>\n",
              "      <td>3.451461</td>\n",
              "      <td>1.810226</td>\n",
              "      <td>655.0</td>\n",
              "      <td>1.0</td>\n",
              "      <td>8.326076</td>\n",
              "      <td>1.99861</td>\n",
              "      <td>4.186818</td>\n",
              "      <td>1.926742</td>\n",
              "      <td>6.0</td>\n",
              "      <td>7.0</td>\n",
              "      <td>6.000000</td>\n",
              "      <td>40.0</td>\n",
              "      <td>2.0</td>\n",
              "      <td>0.0</td>\n",
              "      <td>0.0</td>\n",
              "      <td>2000-01-03</td>\n",
              "    </tr>\n",
              "    <tr>\n",
              "      <th>3</th>\n",
              "      <td>Federer R.</td>\n",
              "      <td>Knippschild J.</td>\n",
              "      <td>3.594448</td>\n",
              "      <td>1.834821</td>\n",
              "      <td>3.551805</td>\n",
              "      <td>1.823768</td>\n",
              "      <td>3.000658</td>\n",
              "      <td>1.81208</td>\n",
              "      <td>3.26218</td>\n",
              "      <td>1.802489</td>\n",
              "      <td>1.0</td>\n",
              "      <td>4.0</td>\n",
              "      <td>3.607104</td>\n",
              "      <td>3.451461</td>\n",
              "      <td>1.810226</td>\n",
              "      <td>87.0</td>\n",
              "      <td>0.0</td>\n",
              "      <td>8.326076</td>\n",
              "      <td>1.99861</td>\n",
              "      <td>4.186818</td>\n",
              "      <td>1.926742</td>\n",
              "      <td>6.0</td>\n",
              "      <td>6.0</td>\n",
              "      <td>6.025052</td>\n",
              "      <td>65.0</td>\n",
              "      <td>2.0</td>\n",
              "      <td>0.0</td>\n",
              "      <td>0.0</td>\n",
              "      <td>2000-01-03</td>\n",
              "    </tr>\n",
              "    <tr>\n",
              "      <th>4</th>\n",
              "      <td>Fromberg R.</td>\n",
              "      <td>Woodbridge T.</td>\n",
              "      <td>3.594448</td>\n",
              "      <td>1.834821</td>\n",
              "      <td>3.551805</td>\n",
              "      <td>1.823768</td>\n",
              "      <td>3.000658</td>\n",
              "      <td>1.81208</td>\n",
              "      <td>3.26218</td>\n",
              "      <td>1.802489</td>\n",
              "      <td>6.0</td>\n",
              "      <td>7.0</td>\n",
              "      <td>4.000000</td>\n",
              "      <td>3.451461</td>\n",
              "      <td>1.810226</td>\n",
              "      <td>198.0</td>\n",
              "      <td>1.0</td>\n",
              "      <td>8.326076</td>\n",
              "      <td>1.99861</td>\n",
              "      <td>4.186818</td>\n",
              "      <td>1.926742</td>\n",
              "      <td>7.0</td>\n",
              "      <td>5.0</td>\n",
              "      <td>6.000000</td>\n",
              "      <td>81.0</td>\n",
              "      <td>2.0</td>\n",
              "      <td>0.0</td>\n",
              "      <td>0.0</td>\n",
              "      <td>2000-01-03</td>\n",
              "    </tr>\n",
              "  </tbody>\n",
              "</table>\n",
              "</div>"
            ],
            "text/plain": [
              "        Winner           Loser  ...  Loser_VictoryPourc       Date\n",
              "0   Dosedel S.     Ljubicic I.  ...                 0.0 2000-01-03\n",
              "1   Enqvist T.      Clement A.  ...                 0.0 2000-01-03\n",
              "2    Escude N.   Baccanello P.  ...                 0.0 2000-01-03\n",
              "3   Federer R.  Knippschild J.  ...                 0.0 2000-01-03\n",
              "4  Fromberg R.   Woodbridge T.  ...                 0.0 2000-01-03\n",
              "\n",
              "[5 rows x 29 columns]"
            ]
          },
          "metadata": {
            "tags": []
          },
          "execution_count": 79
        }
      ]
    },
    {
      "cell_type": "code",
      "metadata": {
        "id": "sRpE6ShmOESF",
        "colab_type": "code",
        "colab": {}
      },
      "source": [
        ""
      ],
      "execution_count": 0,
      "outputs": []
    },
    {
      "cell_type": "markdown",
      "metadata": {
        "id": "P4vvl-KkWKxf",
        "colab_type": "text"
      },
      "source": [
        "### 2.2  Feature engineering\n"
      ]
    },
    {
      "cell_type": "markdown",
      "metadata": {
        "id": "ik4-YkQo8IUU",
        "colab_type": "text"
      },
      "source": [
        "Now, we are creating our target and to make the target a bit random we have chosen to set names alphabitically **because in our dataset loser column is first so the target will always be 0.**\n",
        "\n",
        "\n",
        "*   1 if player 1 wins\n",
        "*   0 if player 1 loses\n",
        "\n"
      ]
    },
    {
      "cell_type": "markdown",
      "metadata": {
        "id": "IUOqqqceWUiN",
        "colab_type": "text"
      },
      "source": [
        "We will also create new columns, each column will be the difference value between player1 and player 2"
      ]
    },
    {
      "cell_type": "code",
      "metadata": {
        "id": "Tdh6ZWUvOEIP",
        "colab_type": "code",
        "colab": {}
      },
      "source": [
        "Target=[]\n",
        "Player1=[]\n",
        "Player2=[]\n",
        "AvgP=[]\n",
        "B365P=[]\n",
        "EXP=[]\n",
        "P1=[]\n",
        "P2=[]\n",
        "LBP=[]\n",
        "Rank=[]\n",
        "Sets=[]\n",
        "Max=[]\n",
        "PSP=[]\n",
        "LBP=[]\n",
        "Player_VictoryPourc=[]\n",
        "\n",
        "\n",
        "\n",
        "for index, row in df.iterrows():\n",
        "    if row[\"Winner\"]==min(row[\"Winner\"],row[\"Loser\"]):\n",
        "      Player1.append(row[\"Winner\"])\n",
        "      Player2.append(row[\"Loser\"])\n",
        "      AvgP.append(row[\"AvgW\"]-row[\"AvgL\"])\n",
        "      B365P.append(row[\"B365W\"]-row[\"B365L\"])\n",
        "      EXP.append(row[\"EXW\"]-row[\"EXL\"])\n",
        "      P1.append(row[\"W1\"]-row[\"L1\"])\n",
        "      P2.append(row[\"W2\"]-row[\"L2\"])\n",
        "      LBP.append(row[\"LBW\"]-row[\"LBL\"])\n",
        "      Rank.append(row[\"WRank\"]-row[\"LRank\"])\n",
        "      Sets.append(row[\"Wsets\"]-row[\"Lsets\"])\n",
        "      Max.append(row[\"MaxW\"]-row[\"MaxL\"])\n",
        "      PSP.append(row[\"PSW\"]-row[\"PSL\"])\n",
        "      Player_VictoryPourc.append(row[\"Winner_VictoryPourc\"]-row[\"Loser_VictoryPourc\"])\n",
        "      Target.append(1)\n",
        "    else:\n",
        "      Player1.append(row[\"Loser\"])\n",
        "      Player2.append(row[\"Winner\"])\n",
        "      Target.append(0)\n",
        "      AvgP.append(row[\"AvgL\"]-row[\"AvgW\"])\n",
        "      B365P.append(row[\"B365L\"]-row[\"B365W\"])\n",
        "      EXP.append(row[\"EXL\"]-row[\"EXW\"])\n",
        "      P1.append(row[\"L1\"]-row[\"W1\"])\n",
        "      P2.append(row[\"L2\"]-row[\"W2\"])\n",
        "      LBP.append(row[\"LBL\"]-row[\"LBW\"])\n",
        "      Rank.append(row[\"LRank\"]-row[\"WRank\"])\n",
        "      Sets.append(row[\"Lsets\"]-row[\"Wsets\"])\n",
        "      Max.append(row[\"MaxL\"]-row[\"MaxW\"])\n",
        "      PSP.append(row[\"PSL\"]-row[\"PSW\"])\n",
        "      Player_VictoryPourc.append(row[\"Loser_VictoryPourc\"]-row[\"Winner_VictoryPourc\"])\n"
      ],
      "execution_count": 0,
      "outputs": []
    },
    {
      "cell_type": "code",
      "metadata": {
        "id": "HarKQLp7OEE4",
        "colab_type": "code",
        "colab": {}
      },
      "source": [
        "df=df.drop((x for x in df.columns.tolist() if (x.startswith('W')|x.startswith('L')|x.endswith('W'))|x.endswith('L')),axis=1)"
      ],
      "execution_count": 0,
      "outputs": []
    },
    {
      "cell_type": "code",
      "metadata": {
        "id": "x69kMsDRfyKN",
        "colab_type": "code",
        "outputId": "375c5f0d-b0a1-402c-a0da-4b215825ad2b",
        "colab": {
          "base_uri": "https://localhost:8080/",
          "height": 195
        }
      },
      "source": [
        "df.head()"
      ],
      "execution_count": 82,
      "outputs": [
        {
          "output_type": "execute_result",
          "data": {
            "text/html": [
              "<div>\n",
              "<style scoped>\n",
              "    .dataframe tbody tr th:only-of-type {\n",
              "        vertical-align: middle;\n",
              "    }\n",
              "\n",
              "    .dataframe tbody tr th {\n",
              "        vertical-align: top;\n",
              "    }\n",
              "\n",
              "    .dataframe thead th {\n",
              "        text-align: right;\n",
              "    }\n",
              "</style>\n",
              "<table border=\"1\" class=\"dataframe\">\n",
              "  <thead>\n",
              "    <tr style=\"text-align: right;\">\n",
              "      <th></th>\n",
              "      <th>Date</th>\n",
              "    </tr>\n",
              "  </thead>\n",
              "  <tbody>\n",
              "    <tr>\n",
              "      <th>0</th>\n",
              "      <td>2000-01-03</td>\n",
              "    </tr>\n",
              "    <tr>\n",
              "      <th>1</th>\n",
              "      <td>2000-01-03</td>\n",
              "    </tr>\n",
              "    <tr>\n",
              "      <th>2</th>\n",
              "      <td>2000-01-03</td>\n",
              "    </tr>\n",
              "    <tr>\n",
              "      <th>3</th>\n",
              "      <td>2000-01-03</td>\n",
              "    </tr>\n",
              "    <tr>\n",
              "      <th>4</th>\n",
              "      <td>2000-01-03</td>\n",
              "    </tr>\n",
              "  </tbody>\n",
              "</table>\n",
              "</div>"
            ],
            "text/plain": [
              "        Date\n",
              "0 2000-01-03\n",
              "1 2000-01-03\n",
              "2 2000-01-03\n",
              "3 2000-01-03\n",
              "4 2000-01-03"
            ]
          },
          "metadata": {
            "tags": []
          },
          "execution_count": 82
        }
      ]
    },
    {
      "cell_type": "code",
      "metadata": {
        "id": "KxoYZtayOECd",
        "colab_type": "code",
        "colab": {}
      },
      "source": [
        "df['Player1']=Player1\n",
        "df['Player2']=Player2\n",
        "df['AvgP']=AvgP\n",
        "df['B365P']=B365P\n",
        "df['EXP']=EXP\n",
        "df['P1']=P1\n",
        "df['P2']=P2\n",
        "df['LBP']=LBP\n",
        "df['Rank']=Rank\n",
        "df['Sets']=Sets\n",
        "df['Max']=Max\n",
        "df['PSP']=PSP\n",
        "df['Target']=Target"
      ],
      "execution_count": 0,
      "outputs": []
    },
    {
      "cell_type": "code",
      "metadata": {
        "id": "_FutHLDqOD_R",
        "colab_type": "code",
        "outputId": "fb2f75d6-31a7-4fae-e34c-d59f738e9729",
        "colab": {
          "base_uri": "https://localhost:8080/",
          "height": 195
        }
      },
      "source": [
        "df.head()"
      ],
      "execution_count": 84,
      "outputs": [
        {
          "output_type": "execute_result",
          "data": {
            "text/html": [
              "<div>\n",
              "<style scoped>\n",
              "    .dataframe tbody tr th:only-of-type {\n",
              "        vertical-align: middle;\n",
              "    }\n",
              "\n",
              "    .dataframe tbody tr th {\n",
              "        vertical-align: top;\n",
              "    }\n",
              "\n",
              "    .dataframe thead th {\n",
              "        text-align: right;\n",
              "    }\n",
              "</style>\n",
              "<table border=\"1\" class=\"dataframe\">\n",
              "  <thead>\n",
              "    <tr style=\"text-align: right;\">\n",
              "      <th></th>\n",
              "      <th>Date</th>\n",
              "      <th>Player1</th>\n",
              "      <th>Player2</th>\n",
              "      <th>AvgP</th>\n",
              "      <th>B365P</th>\n",
              "      <th>EXP</th>\n",
              "      <th>P1</th>\n",
              "      <th>P2</th>\n",
              "      <th>LBP</th>\n",
              "      <th>Rank</th>\n",
              "      <th>Sets</th>\n",
              "      <th>Max</th>\n",
              "      <th>PSP</th>\n",
              "      <th>Target</th>\n",
              "    </tr>\n",
              "  </thead>\n",
              "  <tbody>\n",
              "    <tr>\n",
              "      <th>0</th>\n",
              "      <td>2000-01-03</td>\n",
              "      <td>Dosedel S.</td>\n",
              "      <td>Ljubicic I.</td>\n",
              "      <td>-1.759627</td>\n",
              "      <td>-1.728037</td>\n",
              "      <td>-1.45969</td>\n",
              "      <td>2.0</td>\n",
              "      <td>4.0</td>\n",
              "      <td>-1.641235</td>\n",
              "      <td>-14.0</td>\n",
              "      <td>2.0</td>\n",
              "      <td>-6.327466</td>\n",
              "      <td>-2.260076</td>\n",
              "      <td>1</td>\n",
              "    </tr>\n",
              "    <tr>\n",
              "      <th>1</th>\n",
              "      <td>2000-01-03</td>\n",
              "      <td>Clement A.</td>\n",
              "      <td>Enqvist T.</td>\n",
              "      <td>1.759627</td>\n",
              "      <td>1.728037</td>\n",
              "      <td>1.45969</td>\n",
              "      <td>-3.0</td>\n",
              "      <td>-3.0</td>\n",
              "      <td>1.641235</td>\n",
              "      <td>51.0</td>\n",
              "      <td>-2.0</td>\n",
              "      <td>6.327466</td>\n",
              "      <td>2.260076</td>\n",
              "      <td>0</td>\n",
              "    </tr>\n",
              "    <tr>\n",
              "      <th>2</th>\n",
              "      <td>2000-01-03</td>\n",
              "      <td>Baccanello P.</td>\n",
              "      <td>Escude N.</td>\n",
              "      <td>1.759627</td>\n",
              "      <td>1.728037</td>\n",
              "      <td>1.45969</td>\n",
              "      <td>1.0</td>\n",
              "      <td>-2.0</td>\n",
              "      <td>1.641235</td>\n",
              "      <td>615.0</td>\n",
              "      <td>-1.0</td>\n",
              "      <td>6.327466</td>\n",
              "      <td>2.260076</td>\n",
              "      <td>0</td>\n",
              "    </tr>\n",
              "    <tr>\n",
              "      <th>3</th>\n",
              "      <td>2000-01-03</td>\n",
              "      <td>Federer R.</td>\n",
              "      <td>Knippschild J.</td>\n",
              "      <td>-1.759627</td>\n",
              "      <td>-1.728037</td>\n",
              "      <td>-1.45969</td>\n",
              "      <td>5.0</td>\n",
              "      <td>2.0</td>\n",
              "      <td>-1.641235</td>\n",
              "      <td>-22.0</td>\n",
              "      <td>2.0</td>\n",
              "      <td>-6.327466</td>\n",
              "      <td>-2.260076</td>\n",
              "      <td>1</td>\n",
              "    </tr>\n",
              "    <tr>\n",
              "      <th>4</th>\n",
              "      <td>2000-01-03</td>\n",
              "      <td>Fromberg R.</td>\n",
              "      <td>Woodbridge T.</td>\n",
              "      <td>-1.759627</td>\n",
              "      <td>-1.728037</td>\n",
              "      <td>-1.45969</td>\n",
              "      <td>1.0</td>\n",
              "      <td>-2.0</td>\n",
              "      <td>-1.641235</td>\n",
              "      <td>-117.0</td>\n",
              "      <td>1.0</td>\n",
              "      <td>-6.327466</td>\n",
              "      <td>-2.260076</td>\n",
              "      <td>1</td>\n",
              "    </tr>\n",
              "  </tbody>\n",
              "</table>\n",
              "</div>"
            ],
            "text/plain": [
              "        Date        Player1         Player2  ...       Max       PSP  Target\n",
              "0 2000-01-03     Dosedel S.     Ljubicic I.  ... -6.327466 -2.260076       1\n",
              "1 2000-01-03     Clement A.      Enqvist T.  ...  6.327466  2.260076       0\n",
              "2 2000-01-03  Baccanello P.       Escude N.  ...  6.327466  2.260076       0\n",
              "3 2000-01-03     Federer R.  Knippschild J.  ... -6.327466 -2.260076       1\n",
              "4 2000-01-03    Fromberg R.   Woodbridge T.  ... -6.327466 -2.260076       1\n",
              "\n",
              "[5 rows x 14 columns]"
            ]
          },
          "metadata": {
            "tags": []
          },
          "execution_count": 84
        }
      ]
    },
    {
      "cell_type": "code",
      "metadata": {
        "id": "iehNkTB4fgx7",
        "colab_type": "code",
        "colab": {
          "base_uri": "https://localhost:8080/",
          "height": 386
        },
        "outputId": "23cde9b3-88ea-4b58-ee54-4d64eff1a8d1"
      },
      "source": [
        "sns.relplot(x=\"Rank\", y=\"P1\", hue=\"Target\", data=df,size=7)\n"
      ],
      "execution_count": 128,
      "outputs": [
        {
          "output_type": "execute_result",
          "data": {
            "text/plain": [
              "<seaborn.axisgrid.FacetGrid at 0x7f9346c00e48>"
            ]
          },
          "metadata": {
            "tags": []
          },
          "execution_count": 128
        },
        {
          "output_type": "display_data",
          "data": {
            "image/png": "[encoded data removed]",
            "text/plain": [
              "<Figure size 428.609x360 with 1 Axes>"
            ]
          },
          "metadata": {
            "tags": []
          }
        }
      ]
    },
    {
      "cell_type": "markdown",
      "metadata": {
        "id": "Oa0QKeYFnuUG",
        "colab_type": "text"
      },
      "source": [
        "Player 1 mostly wins when the rank difference is negative and have more Number of games won in 1st set"
      ]
    },
    {
      "cell_type": "code",
      "metadata": {
        "id": "1FycDvcMiws-",
        "colab_type": "code",
        "colab": {
          "base_uri": "https://localhost:8080/",
          "height": 386
        },
        "outputId": "84ceb4ef-57ba-4fc5-af1a-d78246bea6da"
      },
      "source": [
        "sns.relplot(x=\"Rank\", y=\"PSP\", hue=\"Target\", data=df,size=7)"
      ],
      "execution_count": 129,
      "outputs": [
        {
          "output_type": "execute_result",
          "data": {
            "text/plain": [
              "<seaborn.axisgrid.FacetGrid at 0x7f9344b9f898>"
            ]
          },
          "metadata": {
            "tags": []
          },
          "execution_count": 129
        },
        {
          "output_type": "display_data",
          "data": {
            "image/png": "[encoded data removed]",
            "text/plain": [
              "<Figure size 428.609x360 with 1 Axes>"
            ]
          },
          "metadata": {
            "tags": []
          }
        }
      ]
    },
    {
      "cell_type": "markdown",
      "metadata": {
        "id": "IR3MAI8opVIe",
        "colab_type": "text"
      },
      "source": [
        "Winners are mostly people with lower rank and lower psp odds .\n",
        "\n"
      ]
    },
    {
      "cell_type": "markdown",
      "metadata": {
        "id": "roOmUVlJqZK9",
        "colab_type": "text"
      },
      "source": [
        "since that date matters for every player performance we will transform our datetype column to a value(float)."
      ]
    },
    {
      "cell_type": "code",
      "metadata": {
        "id": "snbIQKBoo0nX",
        "colab_type": "code",
        "outputId": "8734a167-a984-405d-8163-5c076dc04a52",
        "colab": {
          "base_uri": "https://localhost:8080/",
          "height": 729
        }
      },
      "source": [
        "\n",
        "from sklearn.ensemble import RandomForestClassifier\n",
        "x=df.drop([\"Date\",\"Target\",'Player1','Player2'],axis=1)\n",
        "feat_forest = RandomForestClassifier(n_jobs=-1)\n",
        "feat_forest.fit(x, y=df.loc[:, \"Target\"])\n",
        "\n",
        "plt.figure(figsize=(10, 10))\n",
        "feat_imp = feat_forest.feature_importances_\n",
        "cols = df.columns\n",
        "\n",
        "feat_imp, cols = zip(*sorted(zip(feat_imp, cols)))\n",
        "\n",
        "plt.barh(range(len(cols)), feat_imp, align=\"center\", color='coral');\n",
        "plt.yticks(range(len(cols)), cols)\n",
        "plt.title(\"Features Relevance for Classification\")\n",
        "plt.xlabel(\"Relevance Percentage\")\n",
        "plt.tight_layout();"
      ],
      "execution_count": 130,
      "outputs": [
        {
          "output_type": "display_data",
          "data": {
            "image/png": "[encoded data removed]",
            "text/plain": [
              "<Figure size 720x720 with 1 Axes>"
            ]
          },
          "metadata": {
            "tags": []
          }
        }
      ]
    },
    {
      "cell_type": "markdown",
      "metadata": {
        "id": "xqhDKWw-tPHV",
        "colab_type": "text"
      },
      "source": [
        "P1 has no relevance in our prediction, so it's better to drop it.\n"
      ]
    },
    {
      "cell_type": "code",
      "metadata": {
        "id": "0E0QzpZQo0j2",
        "colab_type": "code",
        "colab": {}
      },
      "source": [
        "df=df.drop(\"P1\",axis=1)"
      ],
      "execution_count": 0,
      "outputs": []
    },
    {
      "cell_type": "markdown",
      "metadata": {
        "id": "d3eKs4kxu3gq",
        "colab_type": "text"
      },
      "source": [
        "Now, we will create dummy variables for our players if the player has played the match then the column value will be 1 otherwise it will be 0"
      ]
    },
    {
      "cell_type": "code",
      "metadata": {
        "id": "FxeyeSXHo0TY",
        "colab_type": "code",
        "colab": {}
      },
      "source": [
        "data = pd.get_dummies(df, drop_first=True)"
      ],
      "execution_count": 0,
      "outputs": []
    },
    {
      "cell_type": "code",
      "metadata": {
        "id": "4n-A8Xixo0Qg",
        "colab_type": "code",
        "outputId": "2323737f-024d-44d7-ac2b-c07207cab2ac",
        "colab": {
          "base_uri": "https://localhost:8080/",
          "height": 362
        }
      },
      "source": [
        "data.head()"
      ],
      "execution_count": 133,
      "outputs": [
        {
          "output_type": "execute_result",
          "data": {
            "text/html": [
              "<div>\n",
              "<style scoped>\n",
              "    .dataframe tbody tr th:only-of-type {\n",
              "        vertical-align: middle;\n",
              "    }\n",
              "\n",
              "    .dataframe tbody tr th {\n",
              "        vertical-align: top;\n",
              "    }\n",
              "\n",
              "    .dataframe thead th {\n",
              "        text-align: right;\n",
              "    }\n",
              "</style>\n",
              "<table border=\"1\" class=\"dataframe\">\n",
              "  <thead>\n",
              "    <tr style=\"text-align: right;\">\n",
              "      <th></th>\n",
              "      <th>Date</th>\n",
              "      <th>AvgP</th>\n",
              "      <th>B365P</th>\n",
              "      <th>EXP</th>\n",
              "      <th>P2</th>\n",
              "      <th>LBP</th>\n",
              "      <th>Rank</th>\n",
              "      <th>Sets</th>\n",
              "      <th>Max</th>\n",
              "      <th>PSP</th>\n",
              "      <th>Target</th>\n",
              "      <th>Player1_Abdulla M.</th>\n",
              "      <th>Player1_Abel M.</th>\n",
              "      <th>Player1_Acasuso J.</th>\n",
              "      <th>Player1_Adaktusson J.</th>\n",
              "      <th>Player1_Agaev E.</th>\n",
              "      <th>Player1_Agassi A.</th>\n",
              "      <th>Player1_Agenor R.</th>\n",
              "      <th>Player1_Ager J.</th>\n",
              "      <th>Player1_Agostinelli B.</th>\n",
              "      <th>Player1_Aguilar J.</th>\n",
              "      <th>Player1_Ahouda A.</th>\n",
              "      <th>Player1_Al Ghareeb M.</th>\n",
              "      <th>Player1_Al Khulaifi N.G.</th>\n",
              "      <th>Player1_Al Mutawa J.</th>\n",
              "      <th>Player1_Al-Alawi S.K.</th>\n",
              "      <th>Player1_Al-Ghareeb M.</th>\n",
              "      <th>Player1_Alami K.</th>\n",
              "      <th>Player1_Alawadhi O.</th>\n",
              "      <th>Player1_Albert M.</th>\n",
              "      <th>Player1_Albot R.</th>\n",
              "      <th>Player1_Alcaide G.</th>\n",
              "      <th>Player1_Aldi F.</th>\n",
              "      <th>Player1_Ali Mutawa J.M.</th>\n",
              "      <th>Player1_Allegro Y.</th>\n",
              "      <th>Player1_Almagro N.</th>\n",
              "      <th>Player1_Almagro N.</th>\n",
              "      <th>Player1_Alonso J.</th>\n",
              "      <th>Player1_Altamirano C.</th>\n",
              "      <th>Player1_Altmaier D.</th>\n",
              "      <th>...</th>\n",
              "      <th>Player2_Young D.</th>\n",
              "      <th>Player2_Youzhny A.</th>\n",
              "      <th>Player2_Youzhny M.</th>\n",
              "      <th>Player2_Youzhny M.</th>\n",
              "      <th>Player2_Yu X.Y.</th>\n",
              "      <th>Player2_Yuksel A.</th>\n",
              "      <th>Player2_Zabaleta M.</th>\n",
              "      <th>Player2_Zampieri C.</th>\n",
              "      <th>Player2_Zapata Miralles B.</th>\n",
              "      <th>Player2_Zayed M. S.</th>\n",
              "      <th>Player2_Zayed M.S.</th>\n",
              "      <th>Player2_Zayid M. S.</th>\n",
              "      <th>Player2_Zayid M.S.</th>\n",
              "      <th>Player2_Zeballos H.</th>\n",
              "      <th>Player2_Zeballos H.</th>\n",
              "      <th>Player2_Zekic M.</th>\n",
              "      <th>Player2_Zemlja G.</th>\n",
              "      <th>Player2_Zeng S.X.</th>\n",
              "      <th>Player2_Zhang Y.</th>\n",
              "      <th>Player2_Zhang Z.</th>\n",
              "      <th>Player2_Zhang Ze</th>\n",
              "      <th>Player2_Zhang Zh.</th>\n",
              "      <th>Player2_Zhu B.Q.</th>\n",
              "      <th>Player2_Ziadi M.</th>\n",
              "      <th>Player2_Zib T.</th>\n",
              "      <th>Player2_Zimonjic N.</th>\n",
              "      <th>Player2_Zitko R.</th>\n",
              "      <th>Player2_Zlatanovic A.</th>\n",
              "      <th>Player2_Zopp J.</th>\n",
              "      <th>Player2_Zovko L.</th>\n",
              "      <th>Player2_Zverev A.</th>\n",
              "      <th>Player2_Zverev M.</th>\n",
              "      <th>Player2_de Chaunac S.</th>\n",
              "      <th>Player2_de Voest R.</th>\n",
              "      <th>Player2_di Mauro A.</th>\n",
              "      <th>Player2_di Pasquale A.</th>\n",
              "      <th>Player2_van Gemerden M.</th>\n",
              "      <th>Player2_van Lottum J.</th>\n",
              "      <th>Player2_van Scheppingen D.</th>\n",
              "      <th>Player2_van der Meer N.</th>\n",
              "    </tr>\n",
              "  </thead>\n",
              "  <tbody>\n",
              "    <tr>\n",
              "      <th>0</th>\n",
              "      <td>2000-01-03</td>\n",
              "      <td>-1.759627</td>\n",
              "      <td>-1.728037</td>\n",
              "      <td>-1.45969</td>\n",
              "      <td>4.0</td>\n",
              "      <td>-1.641235</td>\n",
              "      <td>-14.0</td>\n",
              "      <td>2.0</td>\n",
              "      <td>-6.327466</td>\n",
              "      <td>-2.260076</td>\n",
              "      <td>1</td>\n",
              "      <td>0</td>\n",
              "      <td>0</td>\n",
              "      <td>0</td>\n",
              "      <td>0</td>\n",
              "      <td>0</td>\n",
              "      <td>0</td>\n",
              "      <td>0</td>\n",
              "      <td>0</td>\n",
              "      <td>0</td>\n",
              "      <td>0</td>\n",
              "      <td>0</td>\n",
              "      <td>0</td>\n",
              "      <td>0</td>\n",
              "      <td>0</td>\n",
              "      <td>0</td>\n",
              "      <td>0</td>\n",
              "      <td>0</td>\n",
              "      <td>0</td>\n",
              "      <td>0</td>\n",
              "      <td>0</td>\n",
              "      <td>0</td>\n",
              "      <td>0</td>\n",
              "      <td>0</td>\n",
              "      <td>0</td>\n",
              "      <td>0</td>\n",
              "      <td>0</td>\n",
              "      <td>0</td>\n",
              "      <td>0</td>\n",
              "      <td>0</td>\n",
              "      <td>...</td>\n",
              "      <td>0</td>\n",
              "      <td>0</td>\n",
              "      <td>0</td>\n",
              "      <td>0</td>\n",
              "      <td>0</td>\n",
              "      <td>0</td>\n",
              "      <td>0</td>\n",
              "      <td>0</td>\n",
              "      <td>0</td>\n",
              "      <td>0</td>\n",
              "      <td>0</td>\n",
              "      <td>0</td>\n",
              "      <td>0</td>\n",
              "      <td>0</td>\n",
              "      <td>0</td>\n",
              "      <td>0</td>\n",
              "      <td>0</td>\n",
              "      <td>0</td>\n",
              "      <td>0</td>\n",
              "      <td>0</td>\n",
              "      <td>0</td>\n",
              "      <td>0</td>\n",
              "      <td>0</td>\n",
              "      <td>0</td>\n",
              "      <td>0</td>\n",
              "      <td>0</td>\n",
              "      <td>0</td>\n",
              "      <td>0</td>\n",
              "      <td>0</td>\n",
              "      <td>0</td>\n",
              "      <td>0</td>\n",
              "      <td>0</td>\n",
              "      <td>0</td>\n",
              "      <td>0</td>\n",
              "      <td>0</td>\n",
              "      <td>0</td>\n",
              "      <td>0</td>\n",
              "      <td>0</td>\n",
              "      <td>0</td>\n",
              "      <td>0</td>\n",
              "    </tr>\n",
              "    <tr>\n",
              "      <th>1</th>\n",
              "      <td>2000-01-03</td>\n",
              "      <td>1.759627</td>\n",
              "      <td>1.728037</td>\n",
              "      <td>1.45969</td>\n",
              "      <td>-3.0</td>\n",
              "      <td>1.641235</td>\n",
              "      <td>51.0</td>\n",
              "      <td>-2.0</td>\n",
              "      <td>6.327466</td>\n",
              "      <td>2.260076</td>\n",
              "      <td>0</td>\n",
              "      <td>0</td>\n",
              "      <td>0</td>\n",
              "      <td>0</td>\n",
              "      <td>0</td>\n",
              "      <td>0</td>\n",
              "      <td>0</td>\n",
              "      <td>0</td>\n",
              "      <td>0</td>\n",
              "      <td>0</td>\n",
              "      <td>0</td>\n",
              "      <td>0</td>\n",
              "      <td>0</td>\n",
              "      <td>0</td>\n",
              "      <td>0</td>\n",
              "      <td>0</td>\n",
              "      <td>0</td>\n",
              "      <td>0</td>\n",
              "      <td>0</td>\n",
              "      <td>0</td>\n",
              "      <td>0</td>\n",
              "      <td>0</td>\n",
              "      <td>0</td>\n",
              "      <td>0</td>\n",
              "      <td>0</td>\n",
              "      <td>0</td>\n",
              "      <td>0</td>\n",
              "      <td>0</td>\n",
              "      <td>0</td>\n",
              "      <td>0</td>\n",
              "      <td>...</td>\n",
              "      <td>0</td>\n",
              "      <td>0</td>\n",
              "      <td>0</td>\n",
              "      <td>0</td>\n",
              "      <td>0</td>\n",
              "      <td>0</td>\n",
              "      <td>0</td>\n",
              "      <td>0</td>\n",
              "      <td>0</td>\n",
              "      <td>0</td>\n",
              "      <td>0</td>\n",
              "      <td>0</td>\n",
              "      <td>0</td>\n",
              "      <td>0</td>\n",
              "      <td>0</td>\n",
              "      <td>0</td>\n",
              "      <td>0</td>\n",
              "      <td>0</td>\n",
              "      <td>0</td>\n",
              "      <td>0</td>\n",
              "      <td>0</td>\n",
              "      <td>0</td>\n",
              "      <td>0</td>\n",
              "      <td>0</td>\n",
              "      <td>0</td>\n",
              "      <td>0</td>\n",
              "      <td>0</td>\n",
              "      <td>0</td>\n",
              "      <td>0</td>\n",
              "      <td>0</td>\n",
              "      <td>0</td>\n",
              "      <td>0</td>\n",
              "      <td>0</td>\n",
              "      <td>0</td>\n",
              "      <td>0</td>\n",
              "      <td>0</td>\n",
              "      <td>0</td>\n",
              "      <td>0</td>\n",
              "      <td>0</td>\n",
              "      <td>0</td>\n",
              "    </tr>\n",
              "    <tr>\n",
              "      <th>2</th>\n",
              "      <td>2000-01-03</td>\n",
              "      <td>1.759627</td>\n",
              "      <td>1.728037</td>\n",
              "      <td>1.45969</td>\n",
              "      <td>-2.0</td>\n",
              "      <td>1.641235</td>\n",
              "      <td>615.0</td>\n",
              "      <td>-1.0</td>\n",
              "      <td>6.327466</td>\n",
              "      <td>2.260076</td>\n",
              "      <td>0</td>\n",
              "      <td>0</td>\n",
              "      <td>0</td>\n",
              "      <td>0</td>\n",
              "      <td>0</td>\n",
              "      <td>0</td>\n",
              "      <td>0</td>\n",
              "      <td>0</td>\n",
              "      <td>0</td>\n",
              "      <td>0</td>\n",
              "      <td>0</td>\n",
              "      <td>0</td>\n",
              "      <td>0</td>\n",
              "      <td>0</td>\n",
              "      <td>0</td>\n",
              "      <td>0</td>\n",
              "      <td>0</td>\n",
              "      <td>0</td>\n",
              "      <td>0</td>\n",
              "      <td>0</td>\n",
              "      <td>0</td>\n",
              "      <td>0</td>\n",
              "      <td>0</td>\n",
              "      <td>0</td>\n",
              "      <td>0</td>\n",
              "      <td>0</td>\n",
              "      <td>0</td>\n",
              "      <td>0</td>\n",
              "      <td>0</td>\n",
              "      <td>0</td>\n",
              "      <td>...</td>\n",
              "      <td>0</td>\n",
              "      <td>0</td>\n",
              "      <td>0</td>\n",
              "      <td>0</td>\n",
              "      <td>0</td>\n",
              "      <td>0</td>\n",
              "      <td>0</td>\n",
              "      <td>0</td>\n",
              "      <td>0</td>\n",
              "      <td>0</td>\n",
              "      <td>0</td>\n",
              "      <td>0</td>\n",
              "      <td>0</td>\n",
              "      <td>0</td>\n",
              "      <td>0</td>\n",
              "      <td>0</td>\n",
              "      <td>0</td>\n",
              "      <td>0</td>\n",
              "      <td>0</td>\n",
              "      <td>0</td>\n",
              "      <td>0</td>\n",
              "      <td>0</td>\n",
              "      <td>0</td>\n",
              "      <td>0</td>\n",
              "      <td>0</td>\n",
              "      <td>0</td>\n",
              "      <td>0</td>\n",
              "      <td>0</td>\n",
              "      <td>0</td>\n",
              "      <td>0</td>\n",
              "      <td>0</td>\n",
              "      <td>0</td>\n",
              "      <td>0</td>\n",
              "      <td>0</td>\n",
              "      <td>0</td>\n",
              "      <td>0</td>\n",
              "      <td>0</td>\n",
              "      <td>0</td>\n",
              "      <td>0</td>\n",
              "      <td>0</td>\n",
              "    </tr>\n",
              "    <tr>\n",
              "      <th>3</th>\n",
              "      <td>2000-01-03</td>\n",
              "      <td>-1.759627</td>\n",
              "      <td>-1.728037</td>\n",
              "      <td>-1.45969</td>\n",
              "      <td>2.0</td>\n",
              "      <td>-1.641235</td>\n",
              "      <td>-22.0</td>\n",
              "      <td>2.0</td>\n",
              "      <td>-6.327466</td>\n",
              "      <td>-2.260076</td>\n",
              "      <td>1</td>\n",
              "      <td>0</td>\n",
              "      <td>0</td>\n",
              "      <td>0</td>\n",
              "      <td>0</td>\n",
              "      <td>0</td>\n",
              "      <td>0</td>\n",
              "      <td>0</td>\n",
              "      <td>0</td>\n",
              "      <td>0</td>\n",
              "      <td>0</td>\n",
              "      <td>0</td>\n",
              "      <td>0</td>\n",
              "      <td>0</td>\n",
              "      <td>0</td>\n",
              "      <td>0</td>\n",
              "      <td>0</td>\n",
              "      <td>0</td>\n",
              "      <td>0</td>\n",
              "      <td>0</td>\n",
              "      <td>0</td>\n",
              "      <td>0</td>\n",
              "      <td>0</td>\n",
              "      <td>0</td>\n",
              "      <td>0</td>\n",
              "      <td>0</td>\n",
              "      <td>0</td>\n",
              "      <td>0</td>\n",
              "      <td>0</td>\n",
              "      <td>0</td>\n",
              "      <td>...</td>\n",
              "      <td>0</td>\n",
              "      <td>0</td>\n",
              "      <td>0</td>\n",
              "      <td>0</td>\n",
              "      <td>0</td>\n",
              "      <td>0</td>\n",
              "      <td>0</td>\n",
              "      <td>0</td>\n",
              "      <td>0</td>\n",
              "      <td>0</td>\n",
              "      <td>0</td>\n",
              "      <td>0</td>\n",
              "      <td>0</td>\n",
              "      <td>0</td>\n",
              "      <td>0</td>\n",
              "      <td>0</td>\n",
              "      <td>0</td>\n",
              "      <td>0</td>\n",
              "      <td>0</td>\n",
              "      <td>0</td>\n",
              "      <td>0</td>\n",
              "      <td>0</td>\n",
              "      <td>0</td>\n",
              "      <td>0</td>\n",
              "      <td>0</td>\n",
              "      <td>0</td>\n",
              "      <td>0</td>\n",
              "      <td>0</td>\n",
              "      <td>0</td>\n",
              "      <td>0</td>\n",
              "      <td>0</td>\n",
              "      <td>0</td>\n",
              "      <td>0</td>\n",
              "      <td>0</td>\n",
              "      <td>0</td>\n",
              "      <td>0</td>\n",
              "      <td>0</td>\n",
              "      <td>0</td>\n",
              "      <td>0</td>\n",
              "      <td>0</td>\n",
              "    </tr>\n",
              "    <tr>\n",
              "      <th>4</th>\n",
              "      <td>2000-01-03</td>\n",
              "      <td>-1.759627</td>\n",
              "      <td>-1.728037</td>\n",
              "      <td>-1.45969</td>\n",
              "      <td>-2.0</td>\n",
              "      <td>-1.641235</td>\n",
              "      <td>-117.0</td>\n",
              "      <td>1.0</td>\n",
              "      <td>-6.327466</td>\n",
              "      <td>-2.260076</td>\n",
              "      <td>1</td>\n",
              "      <td>0</td>\n",
              "      <td>0</td>\n",
              "      <td>0</td>\n",
              "      <td>0</td>\n",
              "      <td>0</td>\n",
              "      <td>0</td>\n",
              "      <td>0</td>\n",
              "      <td>0</td>\n",
              "      <td>0</td>\n",
              "      <td>0</td>\n",
              "      <td>0</td>\n",
              "      <td>0</td>\n",
              "      <td>0</td>\n",
              "      <td>0</td>\n",
              "      <td>0</td>\n",
              "      <td>0</td>\n",
              "      <td>0</td>\n",
              "      <td>0</td>\n",
              "      <td>0</td>\n",
              "      <td>0</td>\n",
              "      <td>0</td>\n",
              "      <td>0</td>\n",
              "      <td>0</td>\n",
              "      <td>0</td>\n",
              "      <td>0</td>\n",
              "      <td>0</td>\n",
              "      <td>0</td>\n",
              "      <td>0</td>\n",
              "      <td>0</td>\n",
              "      <td>...</td>\n",
              "      <td>0</td>\n",
              "      <td>0</td>\n",
              "      <td>0</td>\n",
              "      <td>0</td>\n",
              "      <td>0</td>\n",
              "      <td>0</td>\n",
              "      <td>0</td>\n",
              "      <td>0</td>\n",
              "      <td>0</td>\n",
              "      <td>0</td>\n",
              "      <td>0</td>\n",
              "      <td>0</td>\n",
              "      <td>0</td>\n",
              "      <td>0</td>\n",
              "      <td>0</td>\n",
              "      <td>0</td>\n",
              "      <td>0</td>\n",
              "      <td>0</td>\n",
              "      <td>0</td>\n",
              "      <td>0</td>\n",
              "      <td>0</td>\n",
              "      <td>0</td>\n",
              "      <td>0</td>\n",
              "      <td>0</td>\n",
              "      <td>0</td>\n",
              "      <td>0</td>\n",
              "      <td>0</td>\n",
              "      <td>0</td>\n",
              "      <td>0</td>\n",
              "      <td>0</td>\n",
              "      <td>0</td>\n",
              "      <td>0</td>\n",
              "      <td>0</td>\n",
              "      <td>0</td>\n",
              "      <td>0</td>\n",
              "      <td>0</td>\n",
              "      <td>0</td>\n",
              "      <td>0</td>\n",
              "      <td>0</td>\n",
              "      <td>0</td>\n",
              "    </tr>\n",
              "  </tbody>\n",
              "</table>\n",
              "<p>5 rows × 2348 columns</p>\n",
              "</div>"
            ],
            "text/plain": [
              "        Date      AvgP  ...  Player2_van Scheppingen D.  Player2_van der Meer N.\n",
              "0 2000-01-03 -1.759627  ...                           0                        0\n",
              "1 2000-01-03  1.759627  ...                           0                        0\n",
              "2 2000-01-03  1.759627  ...                           0                        0\n",
              "3 2000-01-03 -1.759627  ...                           0                        0\n",
              "4 2000-01-03 -1.759627  ...                           0                        0\n",
              "\n",
              "[5 rows x 2348 columns]"
            ]
          },
          "metadata": {
            "tags": []
          },
          "execution_count": 133
        }
      ]
    },
    {
      "cell_type": "markdown",
      "metadata": {
        "id": "pciX9TRMwKzX",
        "colab_type": "text"
      },
      "source": [
        "## Training Time"
      ]
    },
    {
      "cell_type": "markdown",
      "metadata": {
        "id": "lruC5vLBwxpK",
        "colab_type": "text"
      },
      "source": [
        "### Splitting our data into text and train"
      ]
    },
    {
      "cell_type": "code",
      "metadata": {
        "id": "PEjMQzpbo0J3",
        "colab_type": "code",
        "colab": {}
      },
      "source": [
        "test_year=2017\n",
        "df_train = data.iloc[df_atp[df_atp[\"Date\"].dt.year != test_year].index]\n",
        "df_test = data.iloc[df_atp[df_atp[\"Date\"].dt.year == test_year].index]\n",
        "\n",
        "X_train = df_train.drop([\"Target\"], axis=1)\n",
        "y_train = df_train[\"Target\"]\n",
        "\n",
        "X_test = df_test.drop([\"Target\"], axis=1)\n",
        "y_test = df_test[\"Target\"]"
      ],
      "execution_count": 0,
      "outputs": []
    },
    {
      "cell_type": "markdown",
      "metadata": {
        "id": "5Asj89QkxKxw",
        "colab_type": "text"
      },
      "source": [
        "### Feature Transformation and scaling"
      ]
    },
    {
      "cell_type": "code",
      "metadata": {
        "id": "IBTLZbA2svuZ",
        "colab_type": "code",
        "colab": {}
      },
      "source": [
        "X_train[\"Date\"] = pd.to_numeric(df[\"Date\"], downcast='float')#Casting Datetimes to float to fit our model"
      ],
      "execution_count": 0,
      "outputs": []
    },
    {
      "cell_type": "code",
      "metadata": {
        "id": "OCiWYgrC0Tbm",
        "colab_type": "code",
        "colab": {}
      },
      "source": [
        "y_train=y_train.values.reshape(-1,1)"
      ],
      "execution_count": 0,
      "outputs": []
    },
    {
      "cell_type": "markdown",
      "metadata": {
        "id": "L4cFopqbyvnJ",
        "colab_type": "text"
      },
      "source": [
        "### Evaluating multiple classification algorithms"
      ]
    },
    {
      "cell_type": "code",
      "metadata": {
        "id": "jU7PtUMSm1yq",
        "colab_type": "code",
        "colab": {}
      },
      "source": [
        "from sklearn.metrics import accuracy_score, precision_score, recall_score, f1_score\n",
        "\n",
        "from sklearn.neural_network import MLPClassifier\n",
        "from sklearn.neighbors import KNeighborsClassifier\n",
        "from sklearn.svm import SVC\n",
        "from sklearn.gaussian_process import GaussianProcessClassifier\n",
        "from sklearn.gaussian_process.kernels import RBF\n",
        "from sklearn.tree import DecisionTreeClassifier\n",
        "from sklearn.ensemble import RandomForestClassifier, AdaBoostClassifier\n",
        "from sklearn.naive_bayes import GaussianNB\n",
        "from sklearn.discriminant_analysis import QuadraticDiscriminantAnalysis\n",
        "\n",
        "from time import time\n"
      ],
      "execution_count": 0,
      "outputs": []
    },
    {
      "cell_type": "code",
      "metadata": {
        "id": "78P_EA6voaUZ",
        "colab_type": "code",
        "colab": {}
      },
      "source": [
        "def classification_report(y_true, y_pred, name_classifiers, train_time=None):\n",
        "\n",
        "    assert(len(y_pred) == len(name_classifiers))\n",
        "    assert(len(train_time) == len(name_classifiers) if train_time else True)\n",
        "    \n",
        "    reports = []\n",
        "    metrics = [\"Classifier\", \"Accuracy\", \"Precision\", \"Recall\", \"F1-Score\"]\n",
        "    if train_time:\n",
        "        metrics = metrics + [\"Training Duration (seconds)\"]\n",
        "\n",
        "    for idx, y_clf in enumerate(y_pred):\n",
        "        acc = accuracy_score(y_true, y_clf)\n",
        "        pre = precision_score(y_true, y_clf)\n",
        "        rec = recall_score(y_true, y_clf)\n",
        "        f1s = f1_score(y_true, y_clf)\n",
        "        report = (name_classifiers[idx], acc, pre, rec, f1s)\n",
        "        if train_time:\n",
        "            report = report + (train_time[idx], )\n",
        "        reports.append(report)\n",
        "            \n",
        "    display(pd.DataFrame.from_records(reports, columns=metrics))"
      ],
      "execution_count": 0,
      "outputs": []
    },
    {
      "cell_type": "code",
      "metadata": {
        "id": "8H5qxoz5y5o1",
        "colab_type": "code",
        "outputId": "4731e31a-622e-4470-92f9-63809a95676c",
        "colab": {
          "base_uri": "https://localhost:8080/",
          "height": 118
        }
      },
      "source": [
        "names = [\"Nearest Neighbors\", \"Decision Tree\",\n",
        "          \"Random Forest\", \"Neural Net\", \"AdaBoost\",\n",
        "         \"Naive Bayes\"]\n",
        "\n",
        "classifiers = [\n",
        "    KNeighborsClassifier(5, n_jobs=-1),\n",
        "    DecisionTreeClassifier(max_depth=10),\n",
        "    RandomForestClassifier(max_depth=10, n_estimators=10, n_jobs=-1),\n",
        "    MLPClassifier(alpha=0.0001),\n",
        "    AdaBoostClassifier(),\n",
        "    GaussianNB()]\n",
        "\n",
        "y_pred = []\n",
        "train_time = []\n",
        "\n",
        "for name, clf in zip(names, classifiers):\n",
        "    tic = time()\n",
        "    clf.fit(X_train, y_train)\n",
        "    toc = time()\n",
        "    \n",
        "    y_pred.append(clf.predict(X_train))\n",
        "    train_time.append(toc - tic)\n",
        "    \n",
        "    print(\"Classifier : {} ===> Training duration : {} sec\".format(name, train_time[-1]))"
      ],
      "execution_count": 139,
      "outputs": [
        {
          "output_type": "stream",
          "text": [
            "Classifier : Nearest Neighbors ===> Training duration : 30.21807551383972 sec\n",
            "Classifier : Decision Tree ===> Training duration : 5.630687952041626 sec\n",
            "Classifier : Random Forest ===> Training duration : 1.2098100185394287 sec\n",
            "Classifier : Neural Net ===> Training duration : 2172.311530351639 sec\n",
            "Classifier : AdaBoost ===> Training duration : 52.00479602813721 sec\n",
            "Classifier : Naive Bayes ===> Training duration : 2.9785659313201904 sec\n"
          ],
          "name": "stdout"
        }
      ]
    },
    {
      "cell_type": "code",
      "metadata": {
        "id": "JCptba5Dy_-t",
        "colab_type": "code",
        "outputId": "e21c2649-ae69-4983-dade-552b5e8bf8bf",
        "colab": {
          "base_uri": "https://localhost:8080/",
          "height": 225
        }
      },
      "source": [
        "classification_report(y_train, y_pred, names, train_time)"
      ],
      "execution_count": 140,
      "outputs": [
        {
          "output_type": "display_data",
          "data": {
            "text/html": [
              "<div>\n",
              "<style scoped>\n",
              "    .dataframe tbody tr th:only-of-type {\n",
              "        vertical-align: middle;\n",
              "    }\n",
              "\n",
              "    .dataframe tbody tr th {\n",
              "        vertical-align: top;\n",
              "    }\n",
              "\n",
              "    .dataframe thead th {\n",
              "        text-align: right;\n",
              "    }\n",
              "</style>\n",
              "<table border=\"1\" class=\"dataframe\">\n",
              "  <thead>\n",
              "    <tr style=\"text-align: right;\">\n",
              "      <th></th>\n",
              "      <th>Classifier</th>\n",
              "      <th>Accuracy</th>\n",
              "      <th>Precision</th>\n",
              "      <th>Recall</th>\n",
              "      <th>F1-Score</th>\n",
              "      <th>Training Duration (seconds)</th>\n",
              "    </tr>\n",
              "  </thead>\n",
              "  <tbody>\n",
              "    <tr>\n",
              "      <th>0</th>\n",
              "      <td>Nearest Neighbors</td>\n",
              "      <td>0.779917</td>\n",
              "      <td>0.782688</td>\n",
              "      <td>0.785044</td>\n",
              "      <td>0.783864</td>\n",
              "      <td>30.218076</td>\n",
              "    </tr>\n",
              "    <tr>\n",
              "      <th>1</th>\n",
              "      <td>Decision Tree</td>\n",
              "      <td>0.999537</td>\n",
              "      <td>0.999643</td>\n",
              "      <td>0.999445</td>\n",
              "      <td>0.999544</td>\n",
              "      <td>5.630688</td>\n",
              "    </tr>\n",
              "    <tr>\n",
              "      <th>2</th>\n",
              "      <td>Random Forest</td>\n",
              "      <td>0.924088</td>\n",
              "      <td>0.905211</td>\n",
              "      <td>0.950172</td>\n",
              "      <td>0.927147</td>\n",
              "      <td>1.209810</td>\n",
              "    </tr>\n",
              "    <tr>\n",
              "      <th>3</th>\n",
              "      <td>Neural Net</td>\n",
              "      <td>0.508366</td>\n",
              "      <td>0.508366</td>\n",
              "      <td>1.000000</td>\n",
              "      <td>0.674062</td>\n",
              "      <td>2172.311530</td>\n",
              "    </tr>\n",
              "    <tr>\n",
              "      <th>4</th>\n",
              "      <td>AdaBoost</td>\n",
              "      <td>0.998631</td>\n",
              "      <td>0.998772</td>\n",
              "      <td>0.998534</td>\n",
              "      <td>0.998653</td>\n",
              "      <td>52.004796</td>\n",
              "    </tr>\n",
              "    <tr>\n",
              "      <th>5</th>\n",
              "      <td>Naive Bayes</td>\n",
              "      <td>0.508366</td>\n",
              "      <td>0.508366</td>\n",
              "      <td>1.000000</td>\n",
              "      <td>0.674062</td>\n",
              "      <td>2.978566</td>\n",
              "    </tr>\n",
              "  </tbody>\n",
              "</table>\n",
              "</div>"
            ],
            "text/plain": [
              "          Classifier  Accuracy  ...  F1-Score  Training Duration (seconds)\n",
              "0  Nearest Neighbors  0.779917  ...  0.783864                    30.218076\n",
              "1      Decision Tree  0.999537  ...  0.999544                     5.630688\n",
              "2      Random Forest  0.924088  ...  0.927147                     1.209810\n",
              "3         Neural Net  0.508366  ...  0.674062                  2172.311530\n",
              "4           AdaBoost  0.998631  ...  0.998653                    52.004796\n",
              "5        Naive Bayes  0.508366  ...  0.674062                     2.978566\n",
              "\n",
              "[6 rows x 6 columns]"
            ]
          },
          "metadata": {
            "tags": []
          }
        }
      ]
    },
    {
      "cell_type": "markdown",
      "metadata": {
        "id": "ou2FYYmt1gkD",
        "colab_type": "text"
      },
      "source": [
        "We take as metric the F1-score to have a compromise between precision and recall."
      ]
    },
    {
      "cell_type": "code",
      "metadata": {
        "id": "HY7exvLF1RKt",
        "colab_type": "code",
        "colab": {}
      },
      "source": [
        "X_test[\"Date\"] = pd.to_numeric(X_test[\"Date\"], downcast='float')\n",
        "y_test=y_test.values.reshape(-1,1)"
      ],
      "execution_count": 0,
      "outputs": []
    },
    {
      "cell_type": "code",
      "metadata": {
        "id": "ihH7wu7t1jE8",
        "colab_type": "code",
        "colab": {}
      },
      "source": [
        "y_test_pred = []\n",
        "\n",
        "for name, clf in zip(names, classifiers):\n",
        "    y_test_pred.append(clf.predict(X_test))\n"
      ],
      "execution_count": 0,
      "outputs": []
    },
    {
      "cell_type": "code",
      "metadata": {
        "id": "C5gHgDwz2ESY",
        "colab_type": "code",
        "outputId": "c8838165-660b-49b4-e2ba-17238c5348dd",
        "colab": {
          "base_uri": "https://localhost:8080/",
          "height": 225
        }
      },
      "source": [
        "classification_report(y_test, y_test_pred, names)"
      ],
      "execution_count": 143,
      "outputs": [
        {
          "output_type": "display_data",
          "data": {
            "text/html": [
              "<div>\n",
              "<style scoped>\n",
              "    .dataframe tbody tr th:only-of-type {\n",
              "        vertical-align: middle;\n",
              "    }\n",
              "\n",
              "    .dataframe tbody tr th {\n",
              "        vertical-align: top;\n",
              "    }\n",
              "\n",
              "    .dataframe thead th {\n",
              "        text-align: right;\n",
              "    }\n",
              "</style>\n",
              "<table border=\"1\" class=\"dataframe\">\n",
              "  <thead>\n",
              "    <tr style=\"text-align: right;\">\n",
              "      <th></th>\n",
              "      <th>Classifier</th>\n",
              "      <th>Accuracy</th>\n",
              "      <th>Precision</th>\n",
              "      <th>Recall</th>\n",
              "      <th>F1-Score</th>\n",
              "    </tr>\n",
              "  </thead>\n",
              "  <tbody>\n",
              "    <tr>\n",
              "      <th>0</th>\n",
              "      <td>Nearest Neighbors</td>\n",
              "      <td>0.485769</td>\n",
              "      <td>0.500000</td>\n",
              "      <td>0.499631</td>\n",
              "      <td>0.499815</td>\n",
              "    </tr>\n",
              "    <tr>\n",
              "      <th>1</th>\n",
              "      <td>Decision Tree</td>\n",
              "      <td>0.995825</td>\n",
              "      <td>0.994845</td>\n",
              "      <td>0.997048</td>\n",
              "      <td>0.995945</td>\n",
              "    </tr>\n",
              "    <tr>\n",
              "      <th>2</th>\n",
              "      <td>Random Forest</td>\n",
              "      <td>0.806072</td>\n",
              "      <td>0.785908</td>\n",
              "      <td>0.856089</td>\n",
              "      <td>0.819498</td>\n",
              "    </tr>\n",
              "    <tr>\n",
              "      <th>3</th>\n",
              "      <td>Neural Net</td>\n",
              "      <td>0.514231</td>\n",
              "      <td>0.514231</td>\n",
              "      <td>1.000000</td>\n",
              "      <td>0.679198</td>\n",
              "    </tr>\n",
              "    <tr>\n",
              "      <th>4</th>\n",
              "      <td>AdaBoost</td>\n",
              "      <td>0.993928</td>\n",
              "      <td>0.997030</td>\n",
              "      <td>0.991144</td>\n",
              "      <td>0.994078</td>\n",
              "    </tr>\n",
              "    <tr>\n",
              "      <th>5</th>\n",
              "      <td>Naive Bayes</td>\n",
              "      <td>0.514231</td>\n",
              "      <td>0.514231</td>\n",
              "      <td>1.000000</td>\n",
              "      <td>0.679198</td>\n",
              "    </tr>\n",
              "  </tbody>\n",
              "</table>\n",
              "</div>"
            ],
            "text/plain": [
              "          Classifier  Accuracy  Precision    Recall  F1-Score\n",
              "0  Nearest Neighbors  0.485769   0.500000  0.499631  0.499815\n",
              "1      Decision Tree  0.995825   0.994845  0.997048  0.995945\n",
              "2      Random Forest  0.806072   0.785908  0.856089  0.819498\n",
              "3         Neural Net  0.514231   0.514231  1.000000  0.679198\n",
              "4           AdaBoost  0.993928   0.997030  0.991144  0.994078\n",
              "5        Naive Bayes  0.514231   0.514231  1.000000  0.679198"
            ]
          },
          "metadata": {
            "tags": []
          }
        }
      ]
    },
    {
      "cell_type": "code",
      "metadata": {
        "id": "t5dMSYJs2Gi4",
        "colab_type": "code",
        "colab": {}
      },
      "source": [
        ""
      ],
      "execution_count": 0,
      "outputs": []
    }
  ]
}